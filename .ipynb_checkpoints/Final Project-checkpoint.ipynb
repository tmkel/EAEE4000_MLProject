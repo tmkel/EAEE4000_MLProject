{
 "cells": [
  {
   "cell_type": "markdown",
   "id": "c47ab45f-bf9f-4020-bc4b-99e8e0d7e048",
   "metadata": {
    "jp-MarkdownHeadingCollapsed": true,
    "tags": []
   },
   "source": [
    "#### Prepare Dataset\n",
    "- Install Packages\n",
    "- Import Packages\n",
    "- Download Data"
   ]
  },
  {
   "cell_type": "markdown",
   "id": "414aa7b5-fbe5-428f-a3e6-7e252558ed4b",
   "metadata": {
    "jp-MarkdownHeadingCollapsed": true,
    "tags": []
   },
   "source": [
    "##### Install Packages"
   ]
  },
  {
   "cell_type": "code",
   "execution_count": 1,
   "id": "b5d2637b-f67f-47da-98c2-bf89a59abd16",
   "metadata": {
    "tags": []
   },
   "outputs": [],
   "source": [
    "# pip install copernicus_marine_client"
   ]
  },
  {
   "cell_type": "code",
   "execution_count": 2,
   "id": "b43cfc38-1225-4550-9333-5a72e6ff0049",
   "metadata": {
    "tags": []
   },
   "outputs": [],
   "source": [
    "# pip install keras-tuner --upgrade"
   ]
  },
  {
   "cell_type": "markdown",
   "id": "99ce9bfc-38b6-42a2-b4b1-81015e19c2a4",
   "metadata": {
    "jp-MarkdownHeadingCollapsed": true,
    "tags": []
   },
   "source": [
    "##### Import Packages"
   ]
  },
  {
   "cell_type": "code",
   "execution_count": 3,
   "id": "c2dacf9d-9826-4e3e-b101-40a766867b79",
   "metadata": {
    "scrolled": true,
    "tags": []
   },
   "outputs": [
    {
     "name": "stderr",
     "output_type": "stream",
     "text": [
      "2023-12-18 17:26:35.057996: I tensorflow/core/util/port.cc:110] oneDNN custom operations are on. You may see slightly different numerical results due to floating-point round-off errors from different computation orders. To turn them off, set the environment variable `TF_ENABLE_ONEDNN_OPTS=0`.\n",
      "2023-12-18 17:26:35.100992: I tensorflow/core/platform/cpu_feature_guard.cc:182] This TensorFlow binary is optimized to use available CPU instructions in performance-critical operations.\n",
      "To enable the following instructions: SSE4.1 SSE4.2 AVX AVX2 AVX512F AVX512_VNNI FMA, in other operations, rebuild TensorFlow with the appropriate compiler flags.\n"
     ]
    }
   ],
   "source": [
    "import os\n",
    "import xarray as xr\n",
    "import copernicus_marine_client as copernicusmarine\n",
    "\n",
    "import numpy as np\n",
    "import pandas as pd\n",
    "import matplotlib.pyplot as plt\n",
    "from glob import glob\n",
    "\n",
    "import tensorflow as tf\n",
    "from tensorflow import keras\n",
    "from tensorflow.keras.models import Model, load_model\n",
    "from tensorflow.keras.layers import *\n",
    "from tensorflow.keras import Sequential\n",
    "from tensorflow.keras.regularizers import l1_l2\n",
    "import keras_tuner"
   ]
  },
  {
   "cell_type": "markdown",
   "id": "9b025463-ad45-468f-965b-79bfae57ce4a",
   "metadata": {
    "jp-MarkdownHeadingCollapsed": true,
    "tags": []
   },
   "source": [
    "##### Download Data  \n",
    "- Download data from source website form two dataset_id\n",
    "- Merge two dataset"
   ]
  },
  {
   "cell_type": "code",
   "execution_count": 4,
   "id": "af42bcb7-4509-4ebc-ba01-e6493a6077dc",
   "metadata": {
    "tags": []
   },
   "outputs": [
    {
     "name": "stdout",
     "output_type": "stream",
     "text": [
      "File /home/jovyan/.copernicus-marine-client/.copernicus-marine-credentials already exists, overwrite it ? [y/N]:"
     ]
    },
    {
     "name": "stdin",
     "output_type": "stream",
     "text": [
      "  y\n"
     ]
    },
    {
     "name": "stdout",
     "output_type": "stream",
     "text": [
      "INFO - 2023-12-18T17:26:48Z - Credentials file stored in /home/jovyan/.copernicus-marine-client/.copernicus-marine-credentials.\n"
     ]
    }
   ],
   "source": [
    "# Download data from source website form two dataset_id\n",
    "copernicusmarine.login(\"xfeng4\",\"Sf1260358662@\") #login, overwrite it ? [y/N]: y\n",
    "\n",
    "#field name in dataset\n",
    "data_variables = [\"sithick\",\"siconc\",\"thetao\",\"bottomT\",\"so\", \"usi\", \"vsi\",\"uo\",\"vo\"]\n",
    "\n",
    "#create folder to store raw data\n",
    "cwd = os.getcwd()\n",
    "folder = \"sea ice thickness dataset\"\n",
    "site = \"greenland\" #create dictionary: {site: lat and long range}\n",
    "folder_path = os.path.join(cwd, folder, site) \n",
    "os.makedirs(folder_path, exist_ok=True) "
   ]
  },
  {
   "cell_type": "code",
   "execution_count": 5,
   "id": "deb6e527-4534-4d4c-b344-9f1d24dcec0a",
   "metadata": {
    "tags": []
   },
   "outputs": [
    {
     "name": "stdout",
     "output_type": "stream",
     "text": [
      "down\n"
     ]
    }
   ],
   "source": [
    "#first dataset\n",
    "for var in data_variables:\n",
    "    output_file = os.path.join(folder_path, f\"{var}_id1.nc\")\n",
    "    if os.path.exists(output_file):\n",
    "        pass\n",
    "    else:\n",
    "        copernicusmarine.subset(\n",
    "          dataset_id=\"cmems_mod_glo_phy_my_0.083deg_P1D-m\",\n",
    "          variables=[var],\n",
    "          minimum_longitude=-58.133,\n",
    "          maximum_longitude=-57.718,\n",
    "          minimum_latitude=82.892,\n",
    "          maximum_latitude=83.307,\n",
    "          start_datetime=\"1993-01-01T00:00:00\",\n",
    "          end_datetime=\"2021-06-30T23:59:59\",\n",
    "          output_filename=output_file)\n",
    "\n",
    "#second dataset ID\n",
    "for var in data_variables:\n",
    "    output_file = os.path.join(folder_path, f\"{var}_id2.nc\")\n",
    "    if os.path.exists(output_file):\n",
    "        pass\n",
    "    else:\n",
    "        copernicusmarine.subset(\n",
    "          dataset_id=\"cmems_mod_glo_phy_myint_0.083deg_P1D-m\",\n",
    "          variables=[var],\n",
    "          minimum_longitude=-58.133,\n",
    "          maximum_longitude=-57.718,\n",
    "          minimum_latitude=82.892,\n",
    "          maximum_latitude=83.307,\n",
    "          start_datetime=\"2021-07-01T00:00:00\",\n",
    "          end_datetime=\"2023-07-31T23:59:59\",\n",
    "          output_filename=os.path.join(folder_path, f\"{var}_id2.nc\"))\n",
    "        \n",
    "print(\"down\")"
   ]
  },
  {
   "cell_type": "code",
   "execution_count": 6,
   "id": "2bb54ea9-9f23-49df-95b2-2de9939afa31",
   "metadata": {
    "tags": []
   },
   "outputs": [
    {
     "name": "stdout",
     "output_type": "stream",
     "text": [
      "down\n"
     ]
    }
   ],
   "source": [
    "#Merge two dataset\n",
    "os.makedirs(os.path.join(folder_path, \"Merged\"), exist_ok=True) \n",
    "\n",
    "for var in data_variables:\n",
    "    output_file = os.path.join(folder_path, \"Merged\", f\"{var}_merged.nc\")\n",
    "    if os.path.exists(output_file):\n",
    "        pass\n",
    "    else:\n",
    "        data_id1_file = os.path.join(folder_path, f\"{var}_id1.nc\")\n",
    "        data_id2_file = os.path.join(folder_path, f\"{var}_id2.nc\")\n",
    "        data_id1_xr = xr.open_dataset(data_id1_file)\n",
    "        data_id2_xr = xr.open_dataset(data_id2_file)\n",
    "        data_xr = xr.merge([data_id1_xr, data_id2_xr])\n",
    "        data_file = os.path.join(folder_path, \"Merged\", f\"{var}_merged.nc\")\n",
    "        data_xr.to_netcdf(data_file)\n",
    "        \n",
    "print(\"down\")"
   ]
  },
  {
   "cell_type": "markdown",
   "id": "19826406-26dc-4dce-ab40-69bdb3eb2e3b",
   "metadata": {
    "tags": []
   },
   "source": [
    "#### Process Data\n",
    "- read as xarray, drop \"depth\" dimension, and merge xrray\n",
    "- normalization\n",
    "- flat data for NN\n",
    "- time slider for LSTM"
   ]
  },
  {
   "cell_type": "markdown",
   "id": "9874809b-ea77-4b18-a403-f41bdd93c1c4",
   "metadata": {
    "jp-MarkdownHeadingCollapsed": true,
    "tags": []
   },
   "source": [
    "##### Read as xarray, drop \"depth\" dimension, and merge xarray"
   ]
  },
  {
   "cell_type": "code",
   "execution_count": 7,
   "id": "e6b57ecc-19de-4b23-800a-083c4a63c8e4",
   "metadata": {
    "tags": []
   },
   "outputs": [
    {
     "name": "stderr",
     "output_type": "stream",
     "text": [
      "/srv/conda/envs/notebook/lib/python3.10/site-packages/xarray/core/utils.py:494: FutureWarning: The return type of `Dataset.dims` will be changed to return a set of dimension names in future, in order to be more consistent with `DataArray.dims`. To access a mapping from dimension names to lengths, please use `Dataset.sizes`.\n",
      "  warnings.warn(\n"
     ]
    }
   ],
   "source": [
    "#extract training_data\n",
    "#create variable for time slice\n",
    "training_data = {}\n",
    "for var in data_variables:\n",
    "    data_file = os.path.join(folder_path, \"Merged\", f\"{var}_merged.nc\")\n",
    "    selection_dataset = xr.open_dataset(data_file)\n",
    "    selection_dataset_time = selection_dataset.sel(time=slice('1993-01-01', '2018-12-31'))\n",
    "\n",
    "    if 'depth' in selection_dataset_time[var].dims: #drop \"depth\" if it exists\n",
    "        selection_dataset_time[var] = selection_dataset_time[var].mean(dim='depth')\n",
    "        selection_dataset_time = selection_dataset_time.drop_vars(\"depth\")\n",
    "        check_nans = selection_dataset_time[var].isnull().any()\n",
    "        if check_nans: #complete data via linear interpolate\n",
    "            selection_dataset_time[var] = selection_dataset_time[var].interpolate_na(dim='time')\n",
    "    else:\n",
    "        check_nans = selection_dataset_time[var].isnull().any()\n",
    "        if check_nans:\n",
    "            selection_dataset_time[var] = selection_dataset_time[var].interpolate_na(dim='time')\n",
    "\n",
    "    training_data[var] = selection_dataset_time\n",
    "\n",
    "#check if dimensions same: only keep time, lat and lon\n",
    "dimensions = None\n",
    "for var, dataset in training_data.items():\n",
    "    if dimensions is None:\n",
    "        dimensions = dataset.dims\n",
    "    elif dimensions != dataset.dims:\n",
    "        raise ValueError(f\"Dimension mismatch in variable {var}\")\n",
    "\n",
    "train = xr.merge([training_data[var] for var in data_variables])\n",
    "\n",
    "#get input and output variables \n",
    "x_train_xr = train[[\"siconc\", \"thetao\", \"bottomT\", \"so\", \"usi\", \"vsi\", \"uo\", \"vo\"]]\n",
    "y_train_xr = train[\"sithick\"]"
   ]
  },
  {
   "cell_type": "code",
   "execution_count": 8,
   "id": "0466ad8a-0ce7-44b3-85af-4caa40d27125",
   "metadata": {
    "tags": []
   },
   "outputs": [
    {
     "name": "stderr",
     "output_type": "stream",
     "text": [
      "/srv/conda/envs/notebook/lib/python3.10/site-packages/xarray/core/utils.py:494: FutureWarning: The return type of `Dataset.dims` will be changed to return a set of dimension names in future, in order to be more consistent with `DataArray.dims`. To access a mapping from dimension names to lengths, please use `Dataset.sizes`.\n",
      "  warnings.warn(\n"
     ]
    }
   ],
   "source": [
    "#extract testing_data\n",
    "#write a function for extract and merge\n",
    "testing_data = {}\n",
    "for var in data_variables:\n",
    "    data_file = os.path.join(folder_path, \"Merged\", f\"{var}_merged.nc\")\n",
    "    selection_dataset = xr.open_dataset(data_file)\n",
    "    selection_dataset_time = selection_dataset.sel(time=slice('2019-01-01', '2023-07-31'))\n",
    "\n",
    "    if 'depth' in selection_dataset_time[var].dims:\n",
    "        selection_dataset_time[var] = selection_dataset_time[var].mean(dim='depth')\n",
    "        selection_dataset_time = selection_dataset_time.drop_vars(\"depth\")\n",
    "        check_nans = selection_dataset_time[var].isnull().any()\n",
    "        if check_nans:\n",
    "            selection_dataset_time[var] = selection_dataset_time[var].interpolate_na(dim='time')\n",
    "    else:\n",
    "        check_nans = selection_dataset_time[var].isnull().any()\n",
    "        if check_nans:\n",
    "            selection_dataset_time[var] = selection_dataset_time[var].interpolate_na(dim='time')\n",
    "\n",
    "    testing_data[var] = selection_dataset_time\n",
    "    \n",
    "dimensions = None\n",
    "for var, dataset in testing_data.items():\n",
    "    if dimensions is None:\n",
    "        dimensions = dataset.dims\n",
    "    elif dimensions != dataset.dims:\n",
    "        raise ValueError(f\"Dimension mismatch in variable {var}\")\n",
    "\n",
    "test = xr.merge([testing_data[var] for var in data_variables])\n",
    "\n",
    "x_test_xr = test[[\"siconc\", \"thetao\", \"bottomT\", \"so\", \"usi\", \"vsi\", \"uo\", \"vo\"]]\n",
    "y_test_xr = test[\"sithick\"]"
   ]
  },
  {
   "cell_type": "markdown",
   "id": "2b5639fb-0cee-450b-9e69-ec81421b1c42",
   "metadata": {
    "tags": []
   },
   "source": [
    "##### Normalization"
   ]
  },
  {
   "cell_type": "code",
   "execution_count": 9,
   "id": "b742e8ac-39ed-40a4-ab30-530dc38c0eb3",
   "metadata": {
    "tags": []
   },
   "outputs": [],
   "source": [
    "meanstd_inputs = {}\n",
    "predictors = [\"siconc\", \"thetao\", \"bottomT\", \"so\", \"usi\", \"vsi\", \"uo\", \"vo\"]\n",
    "\n",
    "def normalize(data, var, meanstd_dict):\n",
    "    mean = meanstd_dict[var][0]\n",
    "    std = meanstd_dict[var][1]\n",
    "    return (data - mean)/std\n",
    "\n",
    "for var in predictors:\n",
    "    meanstd_inputs[var] = (x_train_xr[var].data.mean(), x_train_xr[var].data.std())\n",
    "    \n",
    "# normalize each variables\n",
    "for var in predictors:\n",
    "    # training set\n",
    "    var_dims   = x_train_xr[var].dims\n",
    "    x_train_xr = x_train_xr.assign({var: (var_dims, normalize(x_train_xr[var].data, var, meanstd_inputs))})\n",
    "    \n",
    "    # test set\n",
    "    var_dims  = x_test_xr[var].dims\n",
    "    x_test_xr = x_test_xr.assign({var: (var_dims, normalize(x_test_xr[var].data, var, meanstd_inputs))})"
   ]
  },
  {
   "cell_type": "code",
   "execution_count": 10,
   "id": "0db79ddd-c1c7-4021-b943-ef144128d77c",
   "metadata": {
    "tags": []
   },
   "outputs": [
    {
     "name": "stdout",
     "output_type": "stream",
     "text": [
      "(9496, 5, 5, 8) (1673, 5, 5, 8) (9496, 5, 5) (1673, 5, 5)\n"
     ]
    }
   ],
   "source": [
    "x_train_np  = x_train_xr.to_array().transpose('time', 'latitude', 'longitude', 'variable').data\n",
    "x_test_np  = x_test_xr.to_array().transpose('time', 'latitude', 'longitude', 'variable').data\n",
    "\n",
    "y_train_np = y_train_xr.data\n",
    "y_test_np = y_test_xr.data\n",
    "\n",
    "print(x_train_np.shape, x_test_np.shape, y_train_np.shape, y_test_np.shape)"
   ]
  },
  {
   "cell_type": "markdown",
   "id": "3cae2221-a9de-4f50-bbd9-941ccf350659",
   "metadata": {},
   "source": [
    "##### Flat data for NN"
   ]
  },
  {
   "cell_type": "code",
   "execution_count": 15,
   "id": "a165f57f-aa46-46cc-afbc-ca58c6fcde19",
   "metadata": {
    "tags": []
   },
   "outputs": [],
   "source": [
    "#convert model to 1D for NN\n",
    "x_train_flattened = x_train_np.reshape(x_train_np.shape[0], -1)  # x_train.shape[0] is the number of samples\n",
    "y_train_flattened = y_train_np.reshape(y_train_np.shape[0], -1)\n",
    "x_test_flattened = x_test_np.reshape(x_test_np.shape[0], -1)"
   ]
  },
  {
   "cell_type": "markdown",
   "id": "6ae3935f-eb69-4cfb-a3f0-69a3e8d25168",
   "metadata": {
    "tags": []
   },
   "source": [
    "##### Add time slider for LSTM"
   ]
  },
  {
   "cell_type": "code",
   "execution_count": 16,
   "id": "0a2d52ab-bd76-437c-8cbb-7ac206a1d01f",
   "metadata": {
    "tags": []
   },
   "outputs": [
    {
     "name": "stdout",
     "output_type": "stream",
     "text": [
      "(9496, 5, 5, 8) (9492, 5, 5, 5, 8)\n",
      "(9496, 5, 5) (9492, 5, 5)\n",
      "(1673, 5, 5, 8) (1669, 5, 5, 5, 8)\n"
     ]
    }
   ],
   "source": [
    "#adjust dataset to feed LSTM\n",
    "slider = 5\n",
    "x_train_slider = np.array([x_train_np[i:i+slider] for i in range(0, x_train_np.shape[0]-slider+1)])\n",
    "y_train_slider = np.array([y_train_np[i+slider-1] for i in range(0, y_train_np.shape[0]-slider+1)])\n",
    "\n",
    "x_test_slider = np.array([x_test_np[i:i+slider] for i in range(0, x_test_np.shape[0]-slider+1)])\n",
    "\n",
    "print(x_train_np.shape, x_train_slider.shape)\n",
    "print(y_train_np.shape, y_train_slider.shape)\n",
    "print(x_test_np.shape, x_test_slider.shape)\n",
    "\n",
    "#stack them to get shape (n_timepoints, n_slider, features)\n",
    "input_shape = (5, 5, 5, 8)  # time slider, lat, long, features\n",
    "output_shape = (5, 5)    # lat, long\n",
    "\n",
    "# Flatten the spatial dimensions for the LSTM input\n",
    "flattened_spatial_dim = input_shape[1] * input_shape[2] * input_shape[3]"
   ]
  },
  {
   "cell_type": "markdown",
   "id": "8fa6ea1a-1367-49c3-8db5-1f2a1a3c0f3c",
   "metadata": {
    "tags": []
   },
   "source": [
    "#### Train the model\n",
    "- NN\n",
    "- NN + keras_tuner, always excess the limit\n",
    "- CNN + keras_tuner\n",
    "- LSTM + keras_tuner\n",
    "- CNN LSTM + keras_tuner  \n",
    "*how to do feature selection?*"
   ]
  },
  {
   "cell_type": "markdown",
   "id": "b945ad29-11b1-4b44-9b4f-10877eb75985",
   "metadata": {
    "jp-MarkdownHeadingCollapsed": true,
    "tags": []
   },
   "source": [
    "##### NN"
   ]
  },
  {
   "cell_type": "code",
   "execution_count": 12,
   "id": "322d956e-2064-41d7-af42-09b915266650",
   "metadata": {
    "tags": []
   },
   "outputs": [],
   "source": [
    "n_neuron       = 64 #the number of n_neuron\n",
    "activation     = 'relu' #activation methods\n",
    "num_epochs     = 50 #go through how many times weight adjusted\n",
    "learning_rate  = 0.001 #related to optimize\n",
    "minibatch_size = 64 #the way to optimize\n",
    "model_num      = 1\n",
    "N_layers       = 2 # number of hidden layers"
   ]
  },
  {
   "cell_type": "code",
   "execution_count": 13,
   "id": "f23bc1e2-6ec5-45c6-89b3-16c155fc4da1",
   "metadata": {
    "scrolled": true,
    "tags": []
   },
   "outputs": [
    {
     "name": "stdout",
     "output_type": "stream",
     "text": [
      "Model: \"sequential\"\n",
      "_________________________________________________________________\n",
      " Layer (type)                Output Shape              Param #   \n",
      "=================================================================\n",
      " hidden_layer_1 (Dense)      (None, 64)                12864     \n",
      "                                                                 \n",
      " hidden_layer_2 (Dense)      (None, 64)                4160      \n",
      "                                                                 \n",
      " output_layer (Dense)        (None, 25)                1625      \n",
      "                                                                 \n",
      "=================================================================\n",
      "Total params: 18,649\n",
      "Trainable params: 18,649\n",
      "Non-trainable params: 0\n",
      "_________________________________________________________________\n",
      "Model: \"sequential_1\"\n",
      "_________________________________________________________________\n",
      " Layer (type)                Output Shape              Param #   \n",
      "=================================================================\n",
      " hidden_layer_1 (Dense)      (None, 64)                12864     \n",
      "                                                                 \n",
      " hidden_layer_2 (Dense)      (None, 64)                4160      \n",
      "                                                                 \n",
      " output_layer (Dense)        (None, 25)                1625      \n",
      "                                                                 \n",
      "=================================================================\n",
      "Total params: 18,649\n",
      "Trainable params: 18,649\n",
      "Non-trainable params: 0\n",
      "_________________________________________________________________\n"
     ]
    }
   ],
   "source": [
    "# mse\n",
    "model_mse = Sequential()\n",
    "model_mse.add(Dense(n_neuron,  activation=activation, name=\"hidden_layer_1\" ,input_shape=(x_train_flattened.shape[1],)))\n",
    "for n in range(N_layers-1):\n",
    "    model_mse.add(Dense(n_neuron,  activation=activation, name=\"hidden_layer_\"+str(n+2))) \n",
    "model_mse.add(Dense(y_train_flattened.shape[1],  activation='linear', name=\"output_layer\")) # the output layer\n",
    "model_mse.compile(loss='mse',optimizer=tf.keras.optimizers.Adam(learning_rate=learning_rate))\n",
    "model_mse.summary()\n",
    "\n",
    "#mae\n",
    "model_mae = Sequential()\n",
    "model_mae.add(Dense(n_neuron,  activation=activation, name=\"hidden_layer_1\" ,input_shape=(x_train_flattened.shape[1],)))\n",
    "for n in range(N_layers-1):\n",
    "    model_mae.add(Dense(n_neuron,  activation=activation, name=\"hidden_layer_\"+str(n+2))) \n",
    "model_mae.add(Dense(y_train_flattened.shape[1],  activation='linear', name=\"output_layer\")) # the output layer\n",
    "model_mae.compile(loss='mae',optimizer=tf.keras.optimizers.Adam(learning_rate=learning_rate))\n",
    "model_mae.summary()\n"
   ]
  },
  {
   "cell_type": "code",
   "execution_count": 15,
   "id": "2abbdf11-5e7e-4f13-910a-695c5cc2aa1d",
   "metadata": {
    "scrolled": true,
    "tags": []
   },
   "outputs": [
    {
     "name": "stdout",
     "output_type": "stream",
     "text": [
      "Epoch 1/50\n",
      "119/119 [==============================] - 1s 4ms/step - loss: 3.2437 - val_loss: 0.7607\n",
      "Epoch 2/50\n",
      "119/119 [==============================] - 0s 2ms/step - loss: 0.2285 - val_loss: 0.6752\n",
      "Epoch 3/50\n",
      "119/119 [==============================] - 0s 2ms/step - loss: 0.1903 - val_loss: 0.7178\n",
      "Epoch 4/50\n",
      "119/119 [==============================] - 0s 2ms/step - loss: 0.1715 - val_loss: 0.5536\n",
      "Epoch 5/50\n",
      "119/119 [==============================] - 0s 2ms/step - loss: 0.1532 - val_loss: 0.5299\n",
      "Epoch 6/50\n",
      "119/119 [==============================] - 0s 2ms/step - loss: 0.1395 - val_loss: 0.4751\n",
      "Epoch 7/50\n",
      "119/119 [==============================] - 0s 2ms/step - loss: 0.1257 - val_loss: 0.5625\n",
      "Epoch 8/50\n",
      "119/119 [==============================] - 0s 2ms/step - loss: 0.1150 - val_loss: 0.5420\n",
      "Epoch 9/50\n",
      "119/119 [==============================] - 0s 2ms/step - loss: 0.1104 - val_loss: 0.5392\n",
      "Epoch 10/50\n",
      "119/119 [==============================] - 0s 2ms/step - loss: 0.1019 - val_loss: 0.6349\n",
      "Epoch 11/50\n",
      "119/119 [==============================] - 0s 2ms/step - loss: 0.0934 - val_loss: 0.7575\n",
      "Epoch 12/50\n",
      "119/119 [==============================] - 0s 2ms/step - loss: 0.0916 - val_loss: 0.8358\n",
      "Epoch 13/50\n",
      "119/119 [==============================] - 0s 2ms/step - loss: 0.0833 - val_loss: 0.9263\n",
      "Epoch 14/50\n",
      "119/119 [==============================] - 0s 2ms/step - loss: 0.0826 - val_loss: 0.7116\n",
      "Epoch 15/50\n",
      "119/119 [==============================] - 0s 2ms/step - loss: 0.0754 - val_loss: 0.5747\n",
      "Epoch 16/50\n",
      "119/119 [==============================] - 0s 2ms/step - loss: 0.0746 - val_loss: 0.6630\n",
      "Epoch 17/50\n",
      "119/119 [==============================] - 0s 2ms/step - loss: 0.0704 - val_loss: 0.6491\n",
      "Epoch 18/50\n",
      "119/119 [==============================] - 0s 2ms/step - loss: 0.0760 - val_loss: 0.6459\n",
      "Epoch 19/50\n",
      "119/119 [==============================] - 0s 2ms/step - loss: 0.0657 - val_loss: 0.6350\n",
      "Epoch 20/50\n",
      "119/119 [==============================] - 0s 2ms/step - loss: 0.0617 - val_loss: 0.6020\n",
      "Epoch 21/50\n",
      "119/119 [==============================] - 0s 3ms/step - loss: 0.0627 - val_loss: 0.7313\n",
      "Epoch 22/50\n",
      "119/119 [==============================] - 0s 3ms/step - loss: 0.0579 - val_loss: 0.7058\n",
      "Epoch 23/50\n",
      "119/119 [==============================] - 0s 2ms/step - loss: 0.0547 - val_loss: 0.5829\n",
      "Epoch 24/50\n",
      "119/119 [==============================] - 0s 2ms/step - loss: 0.0539 - val_loss: 0.7302\n",
      "Epoch 25/50\n",
      "119/119 [==============================] - 0s 2ms/step - loss: 0.0490 - val_loss: 0.6429\n",
      "Epoch 26/50\n",
      "119/119 [==============================] - 0s 2ms/step - loss: 0.0471 - val_loss: 0.7002\n",
      "Epoch 1/50\n",
      "119/119 [==============================] - 1s 3ms/step - loss: 1.1371 - val_loss: 0.5897\n",
      "Epoch 2/50\n",
      "119/119 [==============================] - 0s 2ms/step - loss: 0.3544 - val_loss: 0.5543\n",
      "Epoch 3/50\n",
      "119/119 [==============================] - 0s 2ms/step - loss: 0.3049 - val_loss: 0.5903\n",
      "Epoch 4/50\n",
      "119/119 [==============================] - 0s 2ms/step - loss: 0.2834 - val_loss: 0.4362\n",
      "Epoch 5/50\n",
      "119/119 [==============================] - 0s 2ms/step - loss: 0.2694 - val_loss: 0.3475\n",
      "Epoch 6/50\n",
      "119/119 [==============================] - 0s 3ms/step - loss: 0.2504 - val_loss: 0.3590\n",
      "Epoch 7/50\n",
      "119/119 [==============================] - 0s 3ms/step - loss: 0.2390 - val_loss: 0.3740\n",
      "Epoch 8/50\n",
      "119/119 [==============================] - 0s 2ms/step - loss: 0.2265 - val_loss: 0.3415\n",
      "Epoch 9/50\n",
      "119/119 [==============================] - 0s 2ms/step - loss: 0.2226 - val_loss: 0.4011\n",
      "Epoch 10/50\n",
      "119/119 [==============================] - 0s 2ms/step - loss: 0.2122 - val_loss: 0.4207\n",
      "Epoch 11/50\n",
      "119/119 [==============================] - 0s 2ms/step - loss: 0.2080 - val_loss: 0.4323\n",
      "Epoch 12/50\n",
      "119/119 [==============================] - 0s 2ms/step - loss: 0.2040 - val_loss: 0.4045\n",
      "Epoch 13/50\n",
      "119/119 [==============================] - 0s 2ms/step - loss: 0.1977 - val_loss: 0.4039\n",
      "Epoch 14/50\n",
      "119/119 [==============================] - 0s 2ms/step - loss: 0.2034 - val_loss: 0.3975\n",
      "Epoch 15/50\n",
      "119/119 [==============================] - 0s 2ms/step - loss: 0.1900 - val_loss: 0.3908\n",
      "Epoch 16/50\n",
      "119/119 [==============================] - 0s 2ms/step - loss: 0.1872 - val_loss: 0.3490\n",
      "Epoch 17/50\n",
      "119/119 [==============================] - 0s 2ms/step - loss: 0.1895 - val_loss: 0.3869\n",
      "Epoch 18/50\n",
      "119/119 [==============================] - 0s 2ms/step - loss: 0.1753 - val_loss: 0.3837\n",
      "Epoch 19/50\n",
      "119/119 [==============================] - 0s 2ms/step - loss: 0.1761 - val_loss: 0.4073\n",
      "Epoch 20/50\n",
      "119/119 [==============================] - 0s 2ms/step - loss: 0.1781 - val_loss: 0.4251\n",
      "Epoch 21/50\n",
      "119/119 [==============================] - 0s 2ms/step - loss: 0.1713 - val_loss: 0.3786\n",
      "Epoch 22/50\n",
      "119/119 [==============================] - 0s 2ms/step - loss: 0.1719 - val_loss: 0.3933\n",
      "Epoch 23/50\n",
      "119/119 [==============================] - 0s 2ms/step - loss: 0.1702 - val_loss: 0.4173\n",
      "Epoch 24/50\n",
      "119/119 [==============================] - 0s 3ms/step - loss: 0.1632 - val_loss: 0.3944\n",
      "Epoch 25/50\n",
      "119/119 [==============================] - 0s 2ms/step - loss: 0.1629 - val_loss: 0.4275\n",
      "Epoch 26/50\n",
      "119/119 [==============================] - 0s 2ms/step - loss: 0.1576 - val_loss: 0.3606\n",
      "Epoch 27/50\n",
      "119/119 [==============================] - 0s 2ms/step - loss: 0.1570 - val_loss: 0.3636\n",
      "Epoch 28/50\n",
      "119/119 [==============================] - 0s 2ms/step - loss: 0.1551 - val_loss: 0.4059\n"
     ]
    }
   ],
   "source": [
    "early_stop = keras.callbacks.EarlyStopping(monitor='val_loss', patience=20)\n",
    "\n",
    "#mse\n",
    "history_mse = model_mse.fit(x_train_flattened, y_train_flattened, \n",
    "                            batch_size      = minibatch_size,\n",
    "                            epochs          = num_epochs,\n",
    "                            validation_split= 0.2, \n",
    "                            verbose         = 1,\n",
    "                            callbacks       = [early_stop])\n",
    "#mae\n",
    "history_mae = model_mae.fit(x_train_flattened, y_train_flattened, \n",
    "                            batch_size      = minibatch_size,\n",
    "                            epochs          = num_epochs,\n",
    "                            validation_split= 0.2, \n",
    "                            verbose         = 1,\n",
    "                            callbacks       = [early_stop])"
   ]
  },
  {
   "cell_type": "code",
   "execution_count": 23,
   "id": "433a2506-3a89-4ba7-86aa-abbcb63aa9f7",
   "metadata": {
    "tags": []
   },
   "outputs": [
    {
     "data": {
      "text/plain": [
       "<matplotlib.legend.Legend at 0x7e0ad860c490>"
      ]
     },
     "execution_count": 23,
     "metadata": {},
     "output_type": "execute_result"
    },
    {
     "data": {
      "image/png": "[encoded data removed]",
      "text/plain": [
       "<Figure size 640x480 with 2 Axes>"
      ]
     },
     "metadata": {},
     "output_type": "display_data"
    }
   ],
   "source": [
    "plt.subplot(2, 2, 1)\n",
    "plt.plot(history_mse.history['loss'])\n",
    "plt.plot(history_mse.history['val_loss'])\n",
    "plt.title('loss: Mean Squared Error', fontsize=12)\n",
    "plt.ylabel('mse')\n",
    "plt.xlabel('Epoch')\n",
    "plt.legend(['Train loss', 'Val loss'], fontsize=10, loc='upper right')\n",
    "\n",
    "plt.subplot(2, 2, 2)\n",
    "plt.plot(history_mae.history['loss'])\n",
    "plt.plot(history_mae.history['val_loss'])\n",
    "plt.title('loss: Mean Absolute Error', fontsize=12)\n",
    "plt.ylabel('mae')\n",
    "plt.xlabel('Epoch')\n",
    "plt.legend(['Train loss', 'Val loss'], fontsize=10, loc='upper right')"
   ]
  },
  {
   "cell_type": "code",
   "execution_count": 24,
   "id": "33fb1fdc-9c80-4ec7-a08b-47b9c172d8bb",
   "metadata": {
    "tags": []
   },
   "outputs": [],
   "source": [
    "model_path = os.path.join(cwd,'saved_model')\n",
    "os.makedirs(model_path, exist_ok=True)\n",
    "model_mse.save(os.path.join(model_path,'NN_mse_model.h5'))\n",
    "model_mae.save(os.path.join(model_path, 'NN_mae_model.h5'))"
   ]
  },
  {
   "cell_type": "markdown",
   "id": "186001d7-ca83-4f1c-b27e-69b460591009",
   "metadata": {
    "jp-MarkdownHeadingCollapsed": true,
    "tags": []
   },
   "source": [
    "##### NN + keras tuner"
   ]
  },
  {
   "cell_type": "code",
   "execution_count": 52,
   "id": "ec104e44-57fa-4258-be6b-c53e58318305",
   "metadata": {
    "tags": []
   },
   "outputs": [],
   "source": [
    "x_train_flattened = x_train.reshape(x_train.shape[0], -1)  # x_train.shape[0] is the number of samples\n",
    "y_train_flattened = y_train.reshape(y_train.shape[0], -1)"
   ]
  },
  {
   "cell_type": "code",
   "execution_count": 65,
   "id": "de753466-42b0-4073-950f-cd2140c52af3",
   "metadata": {
    "tags": []
   },
   "outputs": [],
   "source": [
    "N_layers = 2\n",
    "minibatch_size = 64\n",
    "num_epochs = 80\n",
    "\n",
    "def NN_model(hp):\n",
    "    # options for hyperparameters\n",
    "    hp_neuron = hp.Choice('neurons', values=[16, 32])\n",
    "    hp_kernel_size = hp.Choice('kernel_size', values=[2, 3, 4, 5])\n",
    "    hp_activation = hp.Choice('activation', values=['relu', 'tanh', 'sigmoid'])\n",
    "    hp_learning_rate = hp.Choice('learning_rate', values=[1e-2, 1e-3, 1e-4, 1e-5])\n",
    "    \n",
    "    model_mse = Sequential()\n",
    "    model_mse.add(Dense(hp_neuron*x_train_flattened.shape[1],  activation=hp_activation, name=\"hidden_layer_1\" ,input_shape=(x_train_flattened.shape[1],)))\n",
    "    for n in range(N_layers-1):\n",
    "        model_mse.add(Dense(hp_neuron*x_train_flattened.shape[1],  activation=activation, name=\"hidden_layer_\"+str(n+2))) \n",
    "    model_mse.add(Dense(y_train_flattened.shape[1],  activation='linear', name=\"output_layer\")) # the output layer\n",
    "    model_mse.compile(loss=\"mse\",optimizer=tf.keras.optimizers.Adam(learning_rate=learning_rate))\n",
    "    model_mse.summary()\n",
    "    return model"
   ]
  },
  {
   "cell_type": "code",
   "execution_count": 67,
   "id": "d8eff8e8-b188-4da1-a0e3-8aecb0abf97e",
   "metadata": {
    "tags": []
   },
   "outputs": [
    {
     "name": "stdout",
     "output_type": "stream",
     "text": [
      "Reloading Tuner from random_search_NN/random_search_NN_10trials/tuner0.json\n",
      "\n",
      "Search: Running Trial #5\n",
      "\n",
      "Value             |Best Value So Far |Hyperparameter\n",
      "32                |64                |filters\n",
      "4                 |3                 |kernel_size\n",
      "tanh              |tanh              |activation\n",
      "0.01              |0.01              |learning_rate\n",
      "mae               |mae               |loss\n",
      "\n",
      "Model: \"sequential\"\n",
      "_________________________________________________________________\n",
      " Layer (type)                Output Shape              Param #   \n",
      "=================================================================\n",
      " hidden_layer_1 (Dense)      (None, 3200)              643200    \n",
      "                                                                 \n",
      " hidden_layer_2 (Dense)      (None, 3200)              10243200  \n",
      "                                                                 \n",
      " output_layer (Dense)        (None, 25)                80025     \n",
      "                                                                 \n",
      "=================================================================\n",
      "Total params: 10,966,425\n",
      "Trainable params: 10,966,425\n",
      "Non-trainable params: 0\n",
      "_________________________________________________________________\n"
     ]
    },
    {
     "name": "stderr",
     "output_type": "stream",
     "text": [
      "Traceback (most recent call last):\n",
      "  File \"/srv/conda/envs/notebook/lib/python3.10/site-packages/keras_tuner/src/engine/base_tuner.py\", line 273, in _try_run_and_update_trial\n",
      "    self._run_and_update_trial(trial, *fit_args, **fit_kwargs)\n",
      "  File \"/srv/conda/envs/notebook/lib/python3.10/site-packages/keras_tuner/src/engine/base_tuner.py\", line 238, in _run_and_update_trial\n",
      "    results = self.run_trial(trial, *fit_args, **fit_kwargs)\n",
      "  File \"/srv/conda/envs/notebook/lib/python3.10/site-packages/keras_tuner/src/engine/tuner.py\", line 314, in run_trial\n",
      "    obj_value = self._build_and_fit_model(trial, *args, **copied_kwargs)\n",
      "  File \"/srv/conda/envs/notebook/lib/python3.10/site-packages/keras_tuner/src/engine/tuner.py\", line 232, in _build_and_fit_model\n",
      "    model = self._try_build(hp)\n",
      "  File \"/srv/conda/envs/notebook/lib/python3.10/site-packages/keras_tuner/src/engine/tuner.py\", line 164, in _try_build\n",
      "    model = self._build_hypermodel(hp)\n",
      "  File \"/srv/conda/envs/notebook/lib/python3.10/site-packages/keras_tuner/src/engine/tuner.py\", line 155, in _build_hypermodel\n",
      "    model = self.hypermodel.build(hp)\n",
      "  File \"/tmp/ipykernel_12246/1593225579.py\", line 20, in NN_model\n",
      "    return model\n",
      "NameError: name 'model' is not defined\n"
     ]
    },
    {
     "ename": "RuntimeError",
     "evalue": "Number of consecutive failures exceeded the limit of 3.\nTraceback (most recent call last):\n  File \"/srv/conda/envs/notebook/lib/python3.10/site-packages/keras_tuner/src/engine/base_tuner.py\", line 273, in _try_run_and_update_trial\n    self._run_and_update_trial(trial, *fit_args, **fit_kwargs)\n  File \"/srv/conda/envs/notebook/lib/python3.10/site-packages/keras_tuner/src/engine/base_tuner.py\", line 238, in _run_and_update_trial\n    results = self.run_trial(trial, *fit_args, **fit_kwargs)\n  File \"/srv/conda/envs/notebook/lib/python3.10/site-packages/keras_tuner/src/engine/tuner.py\", line 314, in run_trial\n    obj_value = self._build_and_fit_model(trial, *args, **copied_kwargs)\n  File \"/srv/conda/envs/notebook/lib/python3.10/site-packages/keras_tuner/src/engine/tuner.py\", line 233, in _build_and_fit_model\n    results = self.hypermodel.fit(hp, model, *args, **kwargs)\n  File \"/srv/conda/envs/notebook/lib/python3.10/site-packages/keras_tuner/src/engine/hypermodel.py\", line 149, in fit\n    return model.fit(*args, **kwargs)\n  File \"/srv/conda/envs/notebook/lib/python3.10/site-packages/keras/utils/traceback_utils.py\", line 70, in error_handler\n    raise e.with_traceback(filtered_tb) from None\n  File \"/srv/conda/envs/notebook/lib/python3.10/site-packages/keras/engine/data_adapter.py\", line 1668, in train_validation_split\n    raise ValueError(\nValueError: `validation_split` is only supported for Tensors or NumPy arrays, found following types in the input: [<class 'xarray.core.dataarray.DataArray'>, <class 'xarray.core.dataarray.DataArray'>, <class 'xarray.core.dataarray.DataArray'>, <class 'xarray.core.dataarray.DataArray'>, <class 'xarray.core.dataarray.DataArray'>, <class 'xarray.core.dataarray.DataArray'>, <class 'xarray.core.dataarray.DataArray'>, <class 'xarray.core.dataarray.DataArray'>, <class 'xarray.core.dataarray.DataArray'>]\n",
     "output_type": "error",
     "traceback": [
      "\u001b[0;31m---------------------------------------------------------------------------\u001b[0m",
      "\u001b[0;31mRuntimeError\u001b[0m                              Traceback (most recent call last)",
      "Cell \u001b[0;32mIn[67], line 11\u001b[0m\n\u001b[1;32m      1\u001b[0m random_tuner \u001b[38;5;241m=\u001b[39m keras_tuner\u001b[38;5;241m.\u001b[39mRandomSearch(NN_model, \n\u001b[1;32m      2\u001b[0m                                         max_trials\u001b[38;5;241m=\u001b[39mn_trials,\n\u001b[1;32m      3\u001b[0m                                         seed\u001b[38;5;241m=\u001b[39m\u001b[38;5;241m5\u001b[39m,\n\u001b[0;32m   (...)\u001b[0m\n\u001b[1;32m      6\u001b[0m                                         directory\u001b[38;5;241m=\u001b[39m\u001b[38;5;124m'\u001b[39m\u001b[38;5;124mrandom_search_NN\u001b[39m\u001b[38;5;124m'\u001b[39m, \n\u001b[1;32m      7\u001b[0m                                         project_name\u001b[38;5;241m=\u001b[39m\u001b[38;5;124m'\u001b[39m\u001b[38;5;124mrandom_search_NN_10trials\u001b[39m\u001b[38;5;124m'\u001b[39m)\n\u001b[1;32m      9\u001b[0m early_stop \u001b[38;5;241m=\u001b[39m keras\u001b[38;5;241m.\u001b[39mcallbacks\u001b[38;5;241m.\u001b[39mEarlyStopping(monitor\u001b[38;5;241m=\u001b[39m\u001b[38;5;124m'\u001b[39m\u001b[38;5;124mval_loss\u001b[39m\u001b[38;5;124m'\u001b[39m, patience\u001b[38;5;241m=\u001b[39m\u001b[38;5;241m10\u001b[39m)\n\u001b[0;32m---> 11\u001b[0m \u001b[43mrandom_tuner\u001b[49m\u001b[38;5;241;43m.\u001b[39;49m\u001b[43msearch\u001b[49m\u001b[43m(\u001b[49m\u001b[43mx_train_flattened\u001b[49m\u001b[43m,\u001b[49m\u001b[43m \u001b[49m\u001b[43my_train_flattened\u001b[49m\u001b[43m,\u001b[49m\n\u001b[1;32m     12\u001b[0m \u001b[43m                    \u001b[49m\u001b[43mbatch_size\u001b[49m\u001b[43m \u001b[49m\u001b[38;5;241;43m=\u001b[39;49m\u001b[43m \u001b[49m\u001b[43mminibatch_size\u001b[49m\u001b[43m,\u001b[49m\n\u001b[1;32m     13\u001b[0m \u001b[43m                    \u001b[49m\u001b[43mepochs\u001b[49m\u001b[43m \u001b[49m\u001b[38;5;241;43m=\u001b[39;49m\u001b[43m \u001b[49m\u001b[43mnum_epochs\u001b[49m\u001b[43m,\u001b[49m\u001b[43m \u001b[49m\n\u001b[1;32m     14\u001b[0m \u001b[43m                    \u001b[49m\u001b[43mvalidation_split\u001b[49m\u001b[43m \u001b[49m\u001b[38;5;241;43m=\u001b[39;49m\u001b[43m \u001b[49m\u001b[38;5;241;43m0.2\u001b[39;49m\u001b[43m,\u001b[49m\u001b[43m \u001b[49m\n\u001b[1;32m     15\u001b[0m \u001b[43m                    \u001b[49m\u001b[43mcallbacks\u001b[49m\u001b[43m \u001b[49m\u001b[38;5;241;43m=\u001b[39;49m\u001b[43m \u001b[49m\u001b[43m[\u001b[49m\u001b[43mearly_stop\u001b[49m\u001b[43m]\u001b[49m\u001b[43m)\u001b[49m\n",
      "File \u001b[0;32m/srv/conda/envs/notebook/lib/python3.10/site-packages/keras_tuner/src/engine/base_tuner.py:234\u001b[0m, in \u001b[0;36mBaseTuner.search\u001b[0;34m(self, *fit_args, **fit_kwargs)\u001b[0m\n\u001b[1;32m    232\u001b[0m     \u001b[38;5;28mself\u001b[39m\u001b[38;5;241m.\u001b[39mon_trial_begin(trial)\n\u001b[1;32m    233\u001b[0m     \u001b[38;5;28mself\u001b[39m\u001b[38;5;241m.\u001b[39m_try_run_and_update_trial(trial, \u001b[38;5;241m*\u001b[39mfit_args, \u001b[38;5;241m*\u001b[39m\u001b[38;5;241m*\u001b[39mfit_kwargs)\n\u001b[0;32m--> 234\u001b[0m     \u001b[38;5;28;43mself\u001b[39;49m\u001b[38;5;241;43m.\u001b[39;49m\u001b[43mon_trial_end\u001b[49m\u001b[43m(\u001b[49m\u001b[43mtrial\u001b[49m\u001b[43m)\u001b[49m\n\u001b[1;32m    235\u001b[0m \u001b[38;5;28mself\u001b[39m\u001b[38;5;241m.\u001b[39mon_search_end()\n",
      "File \u001b[0;32m/srv/conda/envs/notebook/lib/python3.10/site-packages/keras_tuner/src/engine/base_tuner.py:338\u001b[0m, in \u001b[0;36mBaseTuner.on_trial_end\u001b[0;34m(self, trial)\u001b[0m\n\u001b[1;32m    332\u001b[0m \u001b[38;5;28;01mdef\u001b[39;00m \u001b[38;5;21mon_trial_end\u001b[39m(\u001b[38;5;28mself\u001b[39m, trial):\n\u001b[1;32m    333\u001b[0m \u001b[38;5;250m    \u001b[39m\u001b[38;5;124;03m\"\"\"Called at the end of a trial.\u001b[39;00m\n\u001b[1;32m    334\u001b[0m \n\u001b[1;32m    335\u001b[0m \u001b[38;5;124;03m    Args:\u001b[39;00m\n\u001b[1;32m    336\u001b[0m \u001b[38;5;124;03m        trial: A `Trial` instance.\u001b[39;00m\n\u001b[1;32m    337\u001b[0m \u001b[38;5;124;03m    \"\"\"\u001b[39;00m\n\u001b[0;32m--> 338\u001b[0m     \u001b[38;5;28;43mself\u001b[39;49m\u001b[38;5;241;43m.\u001b[39;49m\u001b[43moracle\u001b[49m\u001b[38;5;241;43m.\u001b[39;49m\u001b[43mend_trial\u001b[49m\u001b[43m(\u001b[49m\u001b[43mtrial\u001b[49m\u001b[43m)\u001b[49m\n\u001b[1;32m    339\u001b[0m     \u001b[38;5;28mself\u001b[39m\u001b[38;5;241m.\u001b[39msave()\n",
      "File \u001b[0;32m/srv/conda/envs/notebook/lib/python3.10/site-packages/keras_tuner/src/engine/oracle.py:108\u001b[0m, in \u001b[0;36msynchronized.<locals>.wrapped_func\u001b[0;34m(*args, **kwargs)\u001b[0m\n\u001b[1;32m    106\u001b[0m     LOCKS[oracle]\u001b[38;5;241m.\u001b[39macquire()\n\u001b[1;32m    107\u001b[0m     THREADS[oracle] \u001b[38;5;241m=\u001b[39m thread_name\n\u001b[0;32m--> 108\u001b[0m ret_val \u001b[38;5;241m=\u001b[39m \u001b[43mfunc\u001b[49m\u001b[43m(\u001b[49m\u001b[38;5;241;43m*\u001b[39;49m\u001b[43margs\u001b[49m\u001b[43m,\u001b[49m\u001b[43m \u001b[49m\u001b[38;5;241;43m*\u001b[39;49m\u001b[38;5;241;43m*\u001b[39;49m\u001b[43mkwargs\u001b[49m\u001b[43m)\u001b[49m\n\u001b[1;32m    109\u001b[0m \u001b[38;5;28;01mif\u001b[39;00m need_acquire:\n\u001b[1;32m    110\u001b[0m     THREADS[oracle] \u001b[38;5;241m=\u001b[39m \u001b[38;5;28;01mNone\u001b[39;00m\n",
      "File \u001b[0;32m/srv/conda/envs/notebook/lib/python3.10/site-packages/keras_tuner/src/engine/oracle.py:586\u001b[0m, in \u001b[0;36mOracle.end_trial\u001b[0;34m(self, trial)\u001b[0m\n\u001b[1;32m    584\u001b[0m \u001b[38;5;28;01mif\u001b[39;00m \u001b[38;5;129;01mnot\u001b[39;00m \u001b[38;5;28mself\u001b[39m\u001b[38;5;241m.\u001b[39m_retry(trial):\n\u001b[1;32m    585\u001b[0m     \u001b[38;5;28mself\u001b[39m\u001b[38;5;241m.\u001b[39mend_order\u001b[38;5;241m.\u001b[39mappend(trial\u001b[38;5;241m.\u001b[39mtrial_id)\n\u001b[0;32m--> 586\u001b[0m     \u001b[38;5;28;43mself\u001b[39;49m\u001b[38;5;241;43m.\u001b[39;49m\u001b[43m_check_consecutive_failures\u001b[49m\u001b[43m(\u001b[49m\u001b[43m)\u001b[49m\n\u001b[1;32m    588\u001b[0m \u001b[38;5;28mself\u001b[39m\u001b[38;5;241m.\u001b[39m_save_trial(trial)\n\u001b[1;32m    589\u001b[0m \u001b[38;5;28mself\u001b[39m\u001b[38;5;241m.\u001b[39msave()\n",
      "File \u001b[0;32m/srv/conda/envs/notebook/lib/python3.10/site-packages/keras_tuner/src/engine/oracle.py:543\u001b[0m, in \u001b[0;36mOracle._check_consecutive_failures\u001b[0;34m(self)\u001b[0m\n\u001b[1;32m    541\u001b[0m     consecutive_failures \u001b[38;5;241m=\u001b[39m \u001b[38;5;241m0\u001b[39m\n\u001b[1;32m    542\u001b[0m \u001b[38;5;28;01mif\u001b[39;00m consecutive_failures \u001b[38;5;241m==\u001b[39m \u001b[38;5;28mself\u001b[39m\u001b[38;5;241m.\u001b[39mmax_consecutive_failed_trials:\n\u001b[0;32m--> 543\u001b[0m     \u001b[38;5;28;01mraise\u001b[39;00m \u001b[38;5;167;01mRuntimeError\u001b[39;00m(\n\u001b[1;32m    544\u001b[0m         \u001b[38;5;124m\"\u001b[39m\u001b[38;5;124mNumber of consecutive failures exceeded the limit \u001b[39m\u001b[38;5;124m\"\u001b[39m\n\u001b[1;32m    545\u001b[0m         \u001b[38;5;124mf\u001b[39m\u001b[38;5;124m\"\u001b[39m\u001b[38;5;124mof \u001b[39m\u001b[38;5;132;01m{\u001b[39;00m\u001b[38;5;28mself\u001b[39m\u001b[38;5;241m.\u001b[39mmax_consecutive_failed_trials\u001b[38;5;132;01m}\u001b[39;00m\u001b[38;5;124m.\u001b[39m\u001b[38;5;130;01m\\n\u001b[39;00m\u001b[38;5;124m\"\u001b[39m\n\u001b[1;32m    546\u001b[0m         \u001b[38;5;241m+\u001b[39m (trial\u001b[38;5;241m.\u001b[39mmessage \u001b[38;5;129;01mor\u001b[39;00m \u001b[38;5;124m\"\u001b[39m\u001b[38;5;124m\"\u001b[39m)\n\u001b[1;32m    547\u001b[0m     )\n",
      "\u001b[0;31mRuntimeError\u001b[0m: Number of consecutive failures exceeded the limit of 3.\nTraceback (most recent call last):\n  File \"/srv/conda/envs/notebook/lib/python3.10/site-packages/keras_tuner/src/engine/base_tuner.py\", line 273, in _try_run_and_update_trial\n    self._run_and_update_trial(trial, *fit_args, **fit_kwargs)\n  File \"/srv/conda/envs/notebook/lib/python3.10/site-packages/keras_tuner/src/engine/base_tuner.py\", line 238, in _run_and_update_trial\n    results = self.run_trial(trial, *fit_args, **fit_kwargs)\n  File \"/srv/conda/envs/notebook/lib/python3.10/site-packages/keras_tuner/src/engine/tuner.py\", line 314, in run_trial\n    obj_value = self._build_and_fit_model(trial, *args, **copied_kwargs)\n  File \"/srv/conda/envs/notebook/lib/python3.10/site-packages/keras_tuner/src/engine/tuner.py\", line 233, in _build_and_fit_model\n    results = self.hypermodel.fit(hp, model, *args, **kwargs)\n  File \"/srv/conda/envs/notebook/lib/python3.10/site-packages/keras_tuner/src/engine/hypermodel.py\", line 149, in fit\n    return model.fit(*args, **kwargs)\n  File \"/srv/conda/envs/notebook/lib/python3.10/site-packages/keras/utils/traceback_utils.py\", line 70, in error_handler\n    raise e.with_traceback(filtered_tb) from None\n  File \"/srv/conda/envs/notebook/lib/python3.10/site-packages/keras/engine/data_adapter.py\", line 1668, in train_validation_split\n    raise ValueError(\nValueError: `validation_split` is only supported for Tensors or NumPy arrays, found following types in the input: [<class 'xarray.core.dataarray.DataArray'>, <class 'xarray.core.dataarray.DataArray'>, <class 'xarray.core.dataarray.DataArray'>, <class 'xarray.core.dataarray.DataArray'>, <class 'xarray.core.dataarray.DataArray'>, <class 'xarray.core.dataarray.DataArray'>, <class 'xarray.core.dataarray.DataArray'>, <class 'xarray.core.dataarray.DataArray'>, <class 'xarray.core.dataarray.DataArray'>]\n"
     ]
    }
   ],
   "source": [
    "random_tuner = keras_tuner.RandomSearch(NN_model, \n",
    "                                        max_trials=n_trials,\n",
    "                                        seed=5,\n",
    "                                        objective='val_loss', \n",
    "                                        max_retries_per_trial=0,\n",
    "                                        directory='random_search_NN', \n",
    "                                        project_name='random_search_NN_10trials')\n",
    "\n",
    "early_stop = keras.callbacks.EarlyStopping(monitor='val_loss', patience=10)\n",
    "\n",
    "random_tuner.search(x_train_flattened, y_train_flattened,\n",
    "                    batch_size = minibatch_size,\n",
    "                    epochs = num_epochs, \n",
    "                    validation_split = 0.2, \n",
    "                    callbacks = [early_stop])"
   ]
  },
  {
   "cell_type": "markdown",
   "id": "2130c776-1cef-40fd-8819-a1df83a60295",
   "metadata": {
    "jp-MarkdownHeadingCollapsed": true,
    "tags": []
   },
   "source": [
    "##### CNN + Keras tuner"
   ]
  },
  {
   "cell_type": "code",
   "execution_count": 21,
   "id": "b6843ab9-ba25-4e07-949f-b8c3a494004d",
   "metadata": {
    "tags": []
   },
   "outputs": [],
   "source": [
    "minibatch_size = 64\n",
    "num_epochs     = 80\n",
    "n_trials       = 10   # total number of trials in hyperparameter tuning"
   ]
  },
  {
   "cell_type": "code",
   "execution_count": 22,
   "id": "d8777505-b248-4456-a841-6b0eb1774f34",
   "metadata": {
    "tags": []
   },
   "outputs": [],
   "source": [
    "def CNN_model(hp):\n",
    "    \n",
    "    # options for hyperparameters\n",
    "    hp_filters = hp.Choice('filters', values=[16,32,64])\n",
    "    hp_kernel_size = hp.Choice('kernel_size', values=[2,3,4,5])\n",
    "    hp_activation = hp.Choice('activation', values=['relu', 'tanh', 'sigmoid'])\n",
    "    hp_learning_rate = hp.Choice('learning_rate', values=[1e-2, 1e-3, 1e-4, 1e-5])\n",
    "    hp_loss = hp.Choice('loss', values=['mse','mae'])\n",
    "    \n",
    "    # build CNN models according to the hyperparameters\n",
    "    model = keras.models.Sequential()\n",
    "\n",
    "    model.add(Dense(hp_filters*5*5, input_shape=x_train.shape[1:], activation=hp_activation)) \n",
    "    \n",
    "    model.add(Conv2DTranspose(filters=hp_filters, kernel_size=hp_kernel_size, \n",
    "                              activation=hp_activation, strides=1, padding='same')) # shape: (5,5,filters)\n",
    "    \n",
    "    model.add(Conv2DTranspose(filters=hp_filters, kernel_size=hp_kernel_size, \n",
    "                              activation=hp_activation, strides=1, padding='same')) # shape: (48,72,filters)\n",
    "    \n",
    "    model.add(Conv2DTranspose(filters=hp_filters, kernel_size=hp_kernel_size, \n",
    "                              activation=hp_activation, strides=1, padding='same')) # shape: (96,144,filters)\n",
    "    \n",
    "    model.add(Conv2DTranspose(filters=1, kernel_size=hp_kernel_size, \n",
    "                              activation=\"linear\", padding=\"same\")) # shape: (96,144,1)\n",
    "    \n",
    "    model.compile(loss=hp_loss, optimizer=tf.keras.optimizers.Adam(learning_rate=hp_learning_rate))\n",
    "    \n",
    "    return model"
   ]
  },
  {
   "cell_type": "code",
   "execution_count": 76,
   "id": "7d1561e4-767a-44d6-96f1-d8c2541a3b31",
   "metadata": {
    "tags": []
   },
   "outputs": [],
   "source": [
    "random_tuner = keras_tuner.RandomSearch(CNN_model, \n",
    "                                        max_trials=n_trials,\n",
    "                                        seed=5,\n",
    "                                        objective='val_loss', \n",
    "                                        max_retries_per_trial=0,\n",
    "                                        max_consecutive_failed_trials=3,\n",
    "                                        directory='random_search', \n",
    "                                        project_name='random_search_CNN_10trials')"
   ]
  },
  {
   "cell_type": "code",
   "execution_count": 77,
   "id": "c6a39edb-504d-4b30-bb4d-a270f3f62814",
   "metadata": {
    "tags": []
   },
   "outputs": [],
   "source": [
    "early_stop = keras.callbacks.EarlyStopping(monitor='val_loss', patience=10)\n"
   ]
  },
  {
   "cell_type": "code",
   "execution_count": 79,
   "id": "a69854b2-8a5a-4c42-8158-f45e7bf803a4",
   "metadata": {
    "tags": []
   },
   "outputs": [
    {
     "name": "stdout",
     "output_type": "stream",
     "text": [
      "Trial 10 Complete [00h 00m 44s]\n",
      "val_loss: 0.9716030359268188\n",
      "\n",
      "Best val_loss So Far: 0.1266775131225586\n",
      "Total elapsed time: 00h 23m 45s\n"
     ]
    }
   ],
   "source": [
    "random_tuner.search(x_train_np, y_train_np,\n",
    "                    batch_size = minibatch_size,\n",
    "                    epochs = num_epochs, \n",
    "                    validation_split = 0.2, \n",
    "                    callbacks = [early_stop])"
   ]
  },
  {
   "cell_type": "code",
   "execution_count": 80,
   "id": "d15119b1-e2b9-40ac-80ae-97b8786aff99",
   "metadata": {
    "tags": []
   },
   "outputs": [
    {
     "name": "stdout",
     "output_type": "stream",
     "text": [
      "Model: \"sequential\"\n",
      "_________________________________________________________________\n",
      " Layer (type)                Output Shape              Param #   \n",
      "=================================================================\n",
      " dense (Dense)               (None, 5, 5, 800)         7200      \n",
      "                                                                 \n",
      " conv2d_transpose (Conv2DTra  (None, 5, 5, 32)         640032    \n",
      " nspose)                                                         \n",
      "                                                                 \n",
      " conv2d_transpose_1 (Conv2DT  (None, 5, 5, 32)         25632     \n",
      " ranspose)                                                       \n",
      "                                                                 \n",
      " conv2d_transpose_2 (Conv2DT  (None, 5, 5, 32)         25632     \n",
      " ranspose)                                                       \n",
      "                                                                 \n",
      " conv2d_transpose_3 (Conv2DT  (None, 5, 5, 1)          801       \n",
      " ranspose)                                                       \n",
      "                                                                 \n",
      "=================================================================\n",
      "Total params: 699,297\n",
      "Trainable params: 699,297\n",
      "Non-trainable params: 0\n",
      "_________________________________________________________________\n"
     ]
    }
   ],
   "source": [
    "best_model = random_tuner.get_best_models()[0]\n",
    "best_model.summary()\n"
   ]
  },
  {
   "cell_type": "code",
   "execution_count": 81,
   "id": "7f640435-7259-4127-975a-b3d64171ea0a",
   "metadata": {
    "scrolled": true,
    "tags": []
   },
   "outputs": [
    {
     "name": "stdout",
     "output_type": "stream",
     "text": [
      "Ranking # 1 of best tuning, total trials =  10\n",
      "{'filters': 32, 'kernel_size': 5, 'activation': 'relu', 'learning_rate': 0.01, 'loss': 'mse'}\n",
      "=============================================================================================\n",
      "Ranking # 2 of best tuning, total trials =  10\n",
      "{'filters': 32, 'kernel_size': 3, 'activation': 'tanh', 'learning_rate': 0.001, 'loss': 'mse'}\n",
      "=============================================================================================\n",
      "Ranking # 3 of best tuning, total trials =  10\n",
      "{'filters': 32, 'kernel_size': 2, 'activation': 'relu', 'learning_rate': 0.0001, 'loss': 'mae'}\n",
      "=============================================================================================\n"
     ]
    }
   ],
   "source": [
    "all_hps = random_tuner.get_best_hyperparameters(num_trials=n_trials)\n",
    "\n",
    "# print the hyperparameters of the top 3 tuning trials\n",
    "for it in range(3):\n",
    "    print(\"Ranking #\", str(it+1).zfill(1), \"of best tuning, total trials = \", str(n_trials))\n",
    "    print(all_hps[it].values)\n",
    "    print(\"=============================================================================================\")\n",
    "\n",
    "\n",
    "# get the hyperparameters of the best tuning trial\n",
    "best_hps = random_tuner.get_best_hyperparameters(num_trials=n_trials)[0]\n",
    "\n",
    "# get the hyperparameters of the second ranking tuning trial\n",
    "top2_hps = random_tuner.get_best_hyperparameters(num_trials=n_trials)[1]"
   ]
  },
  {
   "cell_type": "code",
   "execution_count": 82,
   "id": "513e3be4-9906-48e2-a368-4e16b12908cd",
   "metadata": {
    "scrolled": true,
    "tags": []
   },
   "outputs": [
    {
     "name": "stdout",
     "output_type": "stream",
     "text": [
      "Epoch 1/80\n",
      "119/119 [==============================] - 9s 71ms/step - loss: 55.8466 - val_loss: 5.8398\n",
      "Epoch 2/80\n",
      "119/119 [==============================] - 8s 69ms/step - loss: 13.9084 - val_loss: 2.8493\n",
      "Epoch 3/80\n",
      "119/119 [==============================] - 8s 72ms/step - loss: 9.0837 - val_loss: 1.0253\n",
      "Epoch 4/80\n",
      "119/119 [==============================] - 9s 73ms/step - loss: 5.6151 - val_loss: 0.2682\n",
      "Epoch 5/80\n",
      "119/119 [==============================] - 8s 69ms/step - loss: 3.3661 - val_loss: 0.2464\n",
      "Epoch 6/80\n",
      "119/119 [==============================] - 8s 70ms/step - loss: 2.0292 - val_loss: 0.6285\n",
      "Epoch 7/80\n",
      "119/119 [==============================] - 8s 69ms/step - loss: 1.3000 - val_loss: 1.1536\n",
      "Epoch 8/80\n",
      "119/119 [==============================] - 8s 70ms/step - loss: 0.9352 - val_loss: 1.6622\n",
      "Epoch 9/80\n",
      "119/119 [==============================] - 8s 70ms/step - loss: 0.7690 - val_loss: 2.0738\n",
      "Epoch 10/80\n",
      "119/119 [==============================] - 8s 70ms/step - loss: 0.7000 - val_loss: 2.3793\n",
      "Epoch 11/80\n",
      "119/119 [==============================] - 9s 73ms/step - loss: 0.6743 - val_loss: 2.5736\n",
      "Epoch 12/80\n",
      "119/119 [==============================] - 8s 69ms/step - loss: 0.6658 - val_loss: 2.6863\n",
      "Epoch 13/80\n",
      "119/119 [==============================] - 8s 69ms/step - loss: 0.6633 - val_loss: 2.7584\n",
      "Epoch 14/80\n",
      "119/119 [==============================] - 8s 69ms/step - loss: 0.6626 - val_loss: 2.7890\n",
      "Epoch 15/80\n",
      "119/119 [==============================] - 8s 70ms/step - loss: 0.6624 - val_loss: 2.8064\n",
      "Epoch 1/80\n",
      "119/119 [==============================] - 6s 40ms/step - loss: 1.2779 - val_loss: 1.5905\n",
      "Epoch 2/80\n",
      "119/119 [==============================] - 4s 37ms/step - loss: 0.1261 - val_loss: 0.6060\n",
      "Epoch 3/80\n",
      "119/119 [==============================] - 5s 41ms/step - loss: 0.0990 - val_loss: 0.5147\n",
      "Epoch 4/80\n",
      "119/119 [==============================] - 4s 35ms/step - loss: 0.0872 - val_loss: 0.3075\n",
      "Epoch 5/80\n",
      "119/119 [==============================] - 4s 38ms/step - loss: 0.0769 - val_loss: 0.2345\n",
      "Epoch 6/80\n",
      "119/119 [==============================] - 4s 36ms/step - loss: 0.0697 - val_loss: 0.2807\n",
      "Epoch 7/80\n",
      "119/119 [==============================] - 4s 35ms/step - loss: 0.0632 - val_loss: 0.2371\n",
      "Epoch 8/80\n",
      "119/119 [==============================] - 4s 36ms/step - loss: 0.0603 - val_loss: 0.2711\n",
      "Epoch 9/80\n",
      "119/119 [==============================] - 4s 35ms/step - loss: 0.0550 - val_loss: 0.2191\n",
      "Epoch 10/80\n",
      "119/119 [==============================] - 4s 35ms/step - loss: 0.0510 - val_loss: 0.2089\n",
      "Epoch 11/80\n",
      "119/119 [==============================] - 4s 35ms/step - loss: 0.0502 - val_loss: 0.2083\n",
      "Epoch 12/80\n",
      "119/119 [==============================] - 5s 38ms/step - loss: 0.0486 - val_loss: 0.2122\n",
      "Epoch 13/80\n",
      "119/119 [==============================] - 4s 35ms/step - loss: 0.0420 - val_loss: 0.2366\n",
      "Epoch 14/80\n",
      "119/119 [==============================] - 4s 35ms/step - loss: 0.0387 - val_loss: 0.2311\n",
      "Epoch 15/80\n",
      "119/119 [==============================] - 4s 35ms/step - loss: 0.0369 - val_loss: 0.2419\n",
      "Epoch 16/80\n",
      "119/119 [==============================] - 4s 36ms/step - loss: 0.0385 - val_loss: 0.2779\n",
      "Epoch 17/80\n",
      "119/119 [==============================] - 5s 39ms/step - loss: 0.0346 - val_loss: 0.1814\n",
      "Epoch 18/80\n",
      "119/119 [==============================] - 4s 37ms/step - loss: 0.0331 - val_loss: 0.1757\n",
      "Epoch 19/80\n",
      "119/119 [==============================] - 4s 35ms/step - loss: 0.0304 - val_loss: 0.2492\n",
      "Epoch 20/80\n",
      "119/119 [==============================] - 4s 36ms/step - loss: 0.0307 - val_loss: 0.1859\n",
      "Epoch 21/80\n",
      "119/119 [==============================] - 4s 36ms/step - loss: 0.0310 - val_loss: 0.2166\n",
      "Epoch 22/80\n",
      "119/119 [==============================] - 4s 35ms/step - loss: 0.0281 - val_loss: 0.2095\n",
      "Epoch 23/80\n",
      "119/119 [==============================] - 4s 35ms/step - loss: 0.0275 - val_loss: 0.2038\n",
      "Epoch 24/80\n",
      "119/119 [==============================] - 5s 38ms/step - loss: 0.0273 - val_loss: 0.2202\n",
      "Epoch 25/80\n",
      "119/119 [==============================] - 4s 35ms/step - loss: 0.0252 - val_loss: 0.2056\n",
      "Epoch 26/80\n",
      "119/119 [==============================] - 4s 35ms/step - loss: 0.0260 - val_loss: 0.2081\n",
      "Epoch 27/80\n",
      "119/119 [==============================] - 4s 36ms/step - loss: 0.0241 - val_loss: 0.1944\n",
      "Epoch 28/80\n",
      "119/119 [==============================] - 4s 37ms/step - loss: 0.0237 - val_loss: 0.1866\n"
     ]
    }
   ],
   "source": [
    "## Build the model with the optimal hyperparameters\n",
    "# ---------- best tuning ----------\n",
    "model_best = random_tuner.hypermodel.build(best_hps)\n",
    "\n",
    "# ---------- ranking #2 tuning ----------\n",
    "model_top2 = random_tuner.hypermodel.build(top2_hps)\n",
    "\n",
    "\n",
    "\n",
    "## re-train the model\n",
    "# ---------- best tuning ----------\n",
    "history_best = model_best.fit(x_train, y_train,\n",
    "                              batch_size      = minibatch_size,\n",
    "                              epochs          = num_epochs,\n",
    "                              validation_split= 0.2, \n",
    "                              verbose         = 1,\n",
    "                              callbacks       = [early_stop])\n",
    "# ---------- ranking #2 tuning ----------\n",
    "history_top2 = model_top2.fit(x_train, y_train,\n",
    "                              batch_size      = minibatch_size,\n",
    "                              epochs          = num_epochs,\n",
    "                              validation_split= 0.2, \n",
    "                              verbose         = 1,\n",
    "                              callbacks       = [early_stop])"
   ]
  },
  {
   "cell_type": "code",
   "execution_count": 83,
   "id": "b64dbe51-0290-4479-b065-6aac55e18282",
   "metadata": {
    "tags": []
   },
   "outputs": [
    {
     "data": {
      "text/plain": [
       "<matplotlib.legend.Legend at 0x7bf1515c9360>"
      ]
     },
     "execution_count": 83,
     "metadata": {},
     "output_type": "execute_result"
    },
    {
     "data": {
      "image/png": "[encoded data removed]",
      "text/plain": [
       "<Figure size 640x480 with 2 Axes>"
      ]
     },
     "metadata": {},
     "output_type": "display_data"
    }
   ],
   "source": [
    "## set up title and ylabel strings\n",
    "# ---------- best tuning ----------\n",
    "title_best = 'loss: '+str(best_hps['loss'])\n",
    "ylabel_best = best_hps['loss']\n",
    "# ---------- ranking #2 tuning ----------\n",
    "title_top2 = 'loss: '+str(top2_hps['loss'])\n",
    "ylabel_top2 = top2_hps['loss']\n",
    "\n",
    "\n",
    "## plot history\n",
    "# ---------- best tuning ----------\n",
    "plt.subplot(1, 2, 1)\n",
    "plt.plot(history_best.history['loss'])\n",
    "plt.plot(history_best.history['val_loss'])\n",
    "plt.title(title_best, fontsize=12)\n",
    "plt.ylabel(ylabel_best)\n",
    "plt.xlabel('Epoch')\n",
    "plt.legend(['Train loss', 'Val loss'], fontsize=10, loc='upper right')\n",
    "\n",
    "# ---------- ranking #2 tuning ----------\n",
    "plt.subplot(1, 2, 2)\n",
    "plt.plot(history_top2.history['loss'])\n",
    "plt.plot(history_top2.history['val_loss'])\n",
    "plt.title(title_top2, fontsize=12)\n",
    "plt.ylabel(ylabel_top2)\n",
    "plt.xlabel('Epoch')\n",
    "plt.legend(['Train loss', 'Val loss'], fontsize=10, loc='upper right')"
   ]
  },
  {
   "cell_type": "code",
   "execution_count": 87,
   "id": "cbcb9061-ed6b-430b-987d-8f0b510d006c",
   "metadata": {
    "tags": []
   },
   "outputs": [],
   "source": [
    "model_path = os.path.join(cwd,'saved_model')\n",
    "os.makedirs(model_path, exist_ok=True)\n"
   ]
  },
  {
   "cell_type": "code",
   "execution_count": 88,
   "id": "517d8d3e-6cf9-4392-9384-6fdde19bd32a",
   "metadata": {
    "tags": []
   },
   "outputs": [],
   "source": [
    "model_best.save(os.path.join(model_path,'CNN_model_randomsearch_10trials_rank1.h5'))\n",
    "model_top2.save(os.path.join(model_path,'CNN_model_randomsearch_10trials_rank2.h5'))\n"
   ]
  },
  {
   "cell_type": "markdown",
   "id": "0b5e31a0-42d1-4882-8035-66fb253ebc65",
   "metadata": {
    "tags": []
   },
   "source": [
    "##### LSTM + keras tuner"
   ]
  },
  {
   "cell_type": "code",
   "execution_count": 17,
   "id": "acbf0395-7f43-406a-a6eb-607793b31995",
   "metadata": {
    "tags": []
   },
   "outputs": [],
   "source": [
    "# set hyperparameters\n",
    "num_epochs     = 50\n",
    "minibatch_size = 64\n",
    "n_trials = 12"
   ]
  },
  {
   "cell_type": "code",
   "execution_count": 18,
   "id": "7efb3f0c-66cf-444f-a1e4-066ef2288f97",
   "metadata": {
    "tags": []
   },
   "outputs": [],
   "source": [
    "def LSTM_model(hp):\n",
    "\n",
    "    hp_neuron = hp.Choice('filters', values=[32, 64, 128])\n",
    "    hp_activation = hp.Choice('activation', values=['relu', 'tanh', 'sigmoid'])\n",
    "    hp_learning_rate = hp.Choice('learning_rate', values=[1e-2, 1e-3, 1e-4, 1e-5])\n",
    "    hp_loss = hp.Choice('loss', values=['mse','mae'])\n",
    "    LSTM_model = Sequential()\n",
    "    LSTM_model.add(Reshape((input_shape[0], flattened_spatial_dim), input_shape=input_shape))\n",
    "    LSTM_model.add(LSTM(hp_neuron, return_sequences=True, activation=hp_activation))\n",
    "    LSTM_model.add(LSTM(hp_neuron, return_sequences=False, activation=hp_activation))\n",
    "    LSTM_model.add(Dense(output_shape[0] * output_shape[1], activation=\"linear\"))\n",
    "    LSTM_model.add(Reshape(output_shape))\n",
    "\n",
    "    LSTM_model.compile(loss=hp_loss, optimizer=tf.keras.optimizers.Adam(learning_rate=hp_learning_rate))\n",
    "    return LSTM_model\n"
   ]
  },
  {
   "cell_type": "code",
   "execution_count": 19,
   "id": "e83769b9-127b-4021-8af7-7c73edf27736",
   "metadata": {
    "tags": []
   },
   "outputs": [
    {
     "name": "stdout",
     "output_type": "stream",
     "text": [
      "Reloading Tuner from random_search/random_search_LSTM_12trials/tuner0.json\n"
     ]
    }
   ],
   "source": [
    "early_stop = keras.callbacks.EarlyStopping(monitor='val_loss', patience=20)\n",
    "\n",
    "random_tuner = keras_tuner.RandomSearch(LSTM_model, \n",
    "                                        max_trials=n_trials,\n",
    "                                        seed=5,\n",
    "                                        objective='val_loss', \n",
    "                                        max_retries_per_trial=0,\n",
    "                                        max_consecutive_failed_trials=3,\n",
    "                                        directory='random_search', \n",
    "                                        project_name='random_search_LSTM_12trials')"
   ]
  },
  {
   "cell_type": "code",
   "execution_count": 20,
   "id": "1741aae1-fb72-4b82-b015-2a3c5984fb17",
   "metadata": {
    "scrolled": true,
    "tags": []
   },
   "outputs": [],
   "source": [
    "random_tuner.search(x_train_slider, y_train_slider,\n",
    "                    batch_size = minibatch_size,\n",
    "                    epochs = num_epochs, \n",
    "                    validation_split = 0.2, \n",
    "                    callbacks = [early_stop])"
   ]
  },
  {
   "cell_type": "code",
   "execution_count": 21,
   "id": "4d43ee9c-3505-42f4-92bf-a5390a0d3612",
   "metadata": {
    "tags": []
   },
   "outputs": [],
   "source": [
    "# get the hyperparameters of the best tuning trial\n",
    "best_hps = random_tuner.get_best_hyperparameters(num_trials=n_trials)[0]\n",
    "\n",
    "# get the hyperparameters of the second ranking tuning trial\n",
    "top2_hps = random_tuner.get_best_hyperparameters(num_trials=n_trials)[1]"
   ]
  },
  {
   "cell_type": "code",
   "execution_count": 22,
   "id": "d3dcfda8-fe53-4919-837b-06ab80124770",
   "metadata": {
    "scrolled": true,
    "tags": []
   },
   "outputs": [
    {
     "name": "stderr",
     "output_type": "stream",
     "text": [
      "2023-12-18 17:31:11.840047: I tensorflow/core/common_runtime/executor.cc:1197] [/device:CPU:0] (DEBUG INFO) Executor start aborting (this does not indicate an error and you can ignore this message): INVALID_ARGUMENT: You must feed a value for placeholder tensor 'gradients/split_2_grad/concat/split_2/split_dim' with dtype int32\n",
      "\t [[{{node gradients/split_2_grad/concat/split_2/split_dim}}]]\n",
      "2023-12-18 17:31:11.841589: I tensorflow/core/common_runtime/executor.cc:1197] [/device:CPU:0] (DEBUG INFO) Executor start aborting (this does not indicate an error and you can ignore this message): INVALID_ARGUMENT: You must feed a value for placeholder tensor 'gradients/split_grad/concat/split/split_dim' with dtype int32\n",
      "\t [[{{node gradients/split_grad/concat/split/split_dim}}]]\n",
      "2023-12-18 17:31:11.843126: I tensorflow/core/common_runtime/executor.cc:1197] [/device:CPU:0] (DEBUG INFO) Executor start aborting (this does not indicate an error and you can ignore this message): INVALID_ARGUMENT: You must feed a value for placeholder tensor 'gradients/split_1_grad/concat/split_1/split_dim' with dtype int32\n",
      "\t [[{{node gradients/split_1_grad/concat/split_1/split_dim}}]]\n",
      "2023-12-18 17:31:12.005669: I tensorflow/core/common_runtime/executor.cc:1197] [/device:CPU:0] (DEBUG INFO) Executor start aborting (this does not indicate an error and you can ignore this message): INVALID_ARGUMENT: You must feed a value for placeholder tensor 'gradients/split_2_grad/concat/split_2/split_dim' with dtype int32\n",
      "\t [[{{node gradients/split_2_grad/concat/split_2/split_dim}}]]\n",
      "2023-12-18 17:31:12.006670: I tensorflow/core/common_runtime/executor.cc:1197] [/device:CPU:0] (DEBUG INFO) Executor start aborting (this does not indicate an error and you can ignore this message): INVALID_ARGUMENT: You must feed a value for placeholder tensor 'gradients/split_grad/concat/split/split_dim' with dtype int32\n",
      "\t [[{{node gradients/split_grad/concat/split/split_dim}}]]\n",
      "2023-12-18 17:31:12.007558: I tensorflow/core/common_runtime/executor.cc:1197] [/device:CPU:0] (DEBUG INFO) Executor start aborting (this does not indicate an error and you can ignore this message): INVALID_ARGUMENT: You must feed a value for placeholder tensor 'gradients/split_1_grad/concat/split_1/split_dim' with dtype int32\n",
      "\t [[{{node gradients/split_1_grad/concat/split_1/split_dim}}]]\n"
     ]
    },
    {
     "name": "stdout",
     "output_type": "stream",
     "text": [
      "Epoch 1/50\n",
      "119/119 [==============================] - 3s 13ms/step - loss: 5.6804 - val_loss: 2.2358\n",
      "Epoch 2/50\n",
      "119/119 [==============================] - 1s 10ms/step - loss: 0.5615 - val_loss: 0.5554\n",
      "Epoch 3/50\n",
      "119/119 [==============================] - 1s 9ms/step - loss: 0.2339 - val_loss: 0.1387\n",
      "Epoch 4/50\n",
      "119/119 [==============================] - 1s 10ms/step - loss: 0.1149 - val_loss: 0.1299\n",
      "Epoch 5/50\n",
      "119/119 [==============================] - 1s 9ms/step - loss: 0.0862 - val_loss: 0.1357\n",
      "Epoch 6/50\n",
      "119/119 [==============================] - 1s 10ms/step - loss: 0.0745 - val_loss: 0.1321\n",
      "Epoch 7/50\n",
      "119/119 [==============================] - 1s 9ms/step - loss: 0.0665 - val_loss: 0.1239\n",
      "Epoch 8/50\n",
      "119/119 [==============================] - 1s 9ms/step - loss: 0.0608 - val_loss: 0.1254\n",
      "Epoch 9/50\n",
      "119/119 [==============================] - 1s 10ms/step - loss: 0.0557 - val_loss: 0.1257\n",
      "Epoch 10/50\n",
      "119/119 [==============================] - 1s 10ms/step - loss: 0.0517 - val_loss: 0.1242\n",
      "Epoch 11/50\n",
      "119/119 [==============================] - 1s 10ms/step - loss: 0.0478 - val_loss: 0.1290\n",
      "Epoch 12/50\n",
      "119/119 [==============================] - 1s 9ms/step - loss: 0.0453 - val_loss: 0.1398\n",
      "Epoch 13/50\n",
      "119/119 [==============================] - 1s 10ms/step - loss: 0.0421 - val_loss: 0.1392\n",
      "Epoch 14/50\n",
      "119/119 [==============================] - 1s 10ms/step - loss: 0.0396 - val_loss: 0.1516\n",
      "Epoch 15/50\n",
      "119/119 [==============================] - 1s 10ms/step - loss: 0.0371 - val_loss: 0.1527\n",
      "Epoch 16/50\n",
      "119/119 [==============================] - 1s 9ms/step - loss: 0.0344 - val_loss: 0.1639\n",
      "Epoch 17/50\n",
      "119/119 [==============================] - 1s 10ms/step - loss: 0.0323 - val_loss: 0.1611\n",
      "Epoch 18/50\n",
      "119/119 [==============================] - 1s 9ms/step - loss: 0.0295 - val_loss: 0.1683\n",
      "Epoch 19/50\n",
      "119/119 [==============================] - 1s 10ms/step - loss: 0.0281 - val_loss: 0.1708\n",
      "Epoch 20/50\n",
      "119/119 [==============================] - 1s 9ms/step - loss: 0.0255 - val_loss: 0.1722\n",
      "Epoch 21/50\n",
      "119/119 [==============================] - 1s 9ms/step - loss: 0.0240 - val_loss: 0.1795\n",
      "Epoch 22/50\n",
      "119/119 [==============================] - 1s 10ms/step - loss: 0.0227 - val_loss: 0.1854\n",
      "Epoch 23/50\n",
      "119/119 [==============================] - 1s 10ms/step - loss: 0.0211 - val_loss: 0.1805\n",
      "Epoch 24/50\n",
      "119/119 [==============================] - 1s 10ms/step - loss: 0.0195 - val_loss: 0.1981\n",
      "Epoch 25/50\n",
      "119/119 [==============================] - 1s 9ms/step - loss: 0.0184 - val_loss: 0.2012\n",
      "Epoch 26/50\n",
      "119/119 [==============================] - 1s 10ms/step - loss: 0.0172 - val_loss: 0.1995\n",
      "Epoch 27/50\n",
      "119/119 [==============================] - 1s 9ms/step - loss: 0.0166 - val_loss: 0.1964\n",
      "Epoch 1/50\n"
     ]
    },
    {
     "name": "stderr",
     "output_type": "stream",
     "text": [
      "2023-12-18 17:31:45.187928: I tensorflow/core/common_runtime/executor.cc:1197] [/device:CPU:0] (DEBUG INFO) Executor start aborting (this does not indicate an error and you can ignore this message): INVALID_ARGUMENT: You must feed a value for placeholder tensor 'gradients/split_2_grad/concat/split_2/split_dim' with dtype int32\n",
      "\t [[{{node gradients/split_2_grad/concat/split_2/split_dim}}]]\n",
      "2023-12-18 17:31:45.189646: I tensorflow/core/common_runtime/executor.cc:1197] [/device:CPU:0] (DEBUG INFO) Executor start aborting (this does not indicate an error and you can ignore this message): INVALID_ARGUMENT: You must feed a value for placeholder tensor 'gradients/split_grad/concat/split/split_dim' with dtype int32\n",
      "\t [[{{node gradients/split_grad/concat/split/split_dim}}]]\n",
      "2023-12-18 17:31:45.190631: I tensorflow/core/common_runtime/executor.cc:1197] [/device:CPU:0] (DEBUG INFO) Executor start aborting (this does not indicate an error and you can ignore this message): INVALID_ARGUMENT: You must feed a value for placeholder tensor 'gradients/split_1_grad/concat/split_1/split_dim' with dtype int32\n",
      "\t [[{{node gradients/split_1_grad/concat/split_1/split_dim}}]]\n",
      "2023-12-18 17:31:45.343756: I tensorflow/core/common_runtime/executor.cc:1197] [/device:CPU:0] (DEBUG INFO) Executor start aborting (this does not indicate an error and you can ignore this message): INVALID_ARGUMENT: You must feed a value for placeholder tensor 'gradients/split_2_grad/concat/split_2/split_dim' with dtype int32\n",
      "\t [[{{node gradients/split_2_grad/concat/split_2/split_dim}}]]\n",
      "2023-12-18 17:31:45.345925: I tensorflow/core/common_runtime/executor.cc:1197] [/device:CPU:0] (DEBUG INFO) Executor start aborting (this does not indicate an error and you can ignore this message): INVALID_ARGUMENT: You must feed a value for placeholder tensor 'gradients/split_grad/concat/split/split_dim' with dtype int32\n",
      "\t [[{{node gradients/split_grad/concat/split/split_dim}}]]\n",
      "2023-12-18 17:31:45.347883: I tensorflow/core/common_runtime/executor.cc:1197] [/device:CPU:0] (DEBUG INFO) Executor start aborting (this does not indicate an error and you can ignore this message): INVALID_ARGUMENT: You must feed a value for placeholder tensor 'gradients/split_1_grad/concat/split_1/split_dim' with dtype int32\n",
      "\t [[{{node gradients/split_1_grad/concat/split_1/split_dim}}]]\n",
      "2023-12-18 17:31:46.127773: I tensorflow/core/common_runtime/executor.cc:1197] [/device:CPU:0] (DEBUG INFO) Executor start aborting (this does not indicate an error and you can ignore this message): INVALID_ARGUMENT: You must feed a value for placeholder tensor 'gradients/split_2_grad/concat/split_2/split_dim' with dtype int32\n",
      "\t [[{{node gradients/split_2_grad/concat/split_2/split_dim}}]]\n",
      "2023-12-18 17:31:46.129239: I tensorflow/core/common_runtime/executor.cc:1197] [/device:CPU:0] (DEBUG INFO) Executor start aborting (this does not indicate an error and you can ignore this message): INVALID_ARGUMENT: You must feed a value for placeholder tensor 'gradients/split_grad/concat/split/split_dim' with dtype int32\n",
      "\t [[{{node gradients/split_grad/concat/split/split_dim}}]]\n",
      "2023-12-18 17:31:46.130244: I tensorflow/core/common_runtime/executor.cc:1197] [/device:CPU:0] (DEBUG INFO) Executor start aborting (this does not indicate an error and you can ignore this message): INVALID_ARGUMENT: You must feed a value for placeholder tensor 'gradients/split_1_grad/concat/split_1/split_dim' with dtype int32\n",
      "\t [[{{node gradients/split_1_grad/concat/split_1/split_dim}}]]\n",
      "2023-12-18 17:31:46.314639: I tensorflow/core/common_runtime/executor.cc:1197] [/device:CPU:0] (DEBUG INFO) Executor start aborting (this does not indicate an error and you can ignore this message): INVALID_ARGUMENT: You must feed a value for placeholder tensor 'gradients/split_2_grad/concat/split_2/split_dim' with dtype int32\n",
      "\t [[{{node gradients/split_2_grad/concat/split_2/split_dim}}]]\n",
      "2023-12-18 17:31:46.315692: I tensorflow/core/common_runtime/executor.cc:1197] [/device:CPU:0] (DEBUG INFO) Executor start aborting (this does not indicate an error and you can ignore this message): INVALID_ARGUMENT: You must feed a value for placeholder tensor 'gradients/split_grad/concat/split/split_dim' with dtype int32\n",
      "\t [[{{node gradients/split_grad/concat/split/split_dim}}]]\n",
      "2023-12-18 17:31:46.316642: I tensorflow/core/common_runtime/executor.cc:1197] [/device:CPU:0] (DEBUG INFO) Executor start aborting (this does not indicate an error and you can ignore this message): INVALID_ARGUMENT: You must feed a value for placeholder tensor 'gradients/split_1_grad/concat/split_1/split_dim' with dtype int32\n",
      "\t [[{{node gradients/split_1_grad/concat/split_1/split_dim}}]]\n"
     ]
    },
    {
     "name": "stdout",
     "output_type": "stream",
     "text": [
      "118/119 [============================>.] - ETA: 0s - loss: 0.8659"
     ]
    },
    {
     "name": "stderr",
     "output_type": "stream",
     "text": [
      "2023-12-18 17:31:49.974533: I tensorflow/core/common_runtime/executor.cc:1197] [/device:CPU:0] (DEBUG INFO) Executor start aborting (this does not indicate an error and you can ignore this message): INVALID_ARGUMENT: You must feed a value for placeholder tensor 'gradients/split_2_grad/concat/split_2/split_dim' with dtype int32\n",
      "\t [[{{node gradients/split_2_grad/concat/split_2/split_dim}}]]\n",
      "2023-12-18 17:31:49.975967: I tensorflow/core/common_runtime/executor.cc:1197] [/device:CPU:0] (DEBUG INFO) Executor start aborting (this does not indicate an error and you can ignore this message): INVALID_ARGUMENT: You must feed a value for placeholder tensor 'gradients/split_grad/concat/split/split_dim' with dtype int32\n",
      "\t [[{{node gradients/split_grad/concat/split/split_dim}}]]\n",
      "2023-12-18 17:31:49.976997: I tensorflow/core/common_runtime/executor.cc:1197] [/device:CPU:0] (DEBUG INFO) Executor start aborting (this does not indicate an error and you can ignore this message): INVALID_ARGUMENT: You must feed a value for placeholder tensor 'gradients/split_1_grad/concat/split_1/split_dim' with dtype int32\n",
      "\t [[{{node gradients/split_1_grad/concat/split_1/split_dim}}]]\n",
      "2023-12-18 17:31:50.126737: I tensorflow/core/common_runtime/executor.cc:1197] [/device:CPU:0] (DEBUG INFO) Executor start aborting (this does not indicate an error and you can ignore this message): INVALID_ARGUMENT: You must feed a value for placeholder tensor 'gradients/split_2_grad/concat/split_2/split_dim' with dtype int32\n",
      "\t [[{{node gradients/split_2_grad/concat/split_2/split_dim}}]]\n",
      "2023-12-18 17:31:50.127725: I tensorflow/core/common_runtime/executor.cc:1197] [/device:CPU:0] (DEBUG INFO) Executor start aborting (this does not indicate an error and you can ignore this message): INVALID_ARGUMENT: You must feed a value for placeholder tensor 'gradients/split_grad/concat/split/split_dim' with dtype int32\n",
      "\t [[{{node gradients/split_grad/concat/split/split_dim}}]]\n",
      "2023-12-18 17:31:50.128744: I tensorflow/core/common_runtime/executor.cc:1197] [/device:CPU:0] (DEBUG INFO) Executor start aborting (this does not indicate an error and you can ignore this message): INVALID_ARGUMENT: You must feed a value for placeholder tensor 'gradients/split_1_grad/concat/split_1/split_dim' with dtype int32\n",
      "\t [[{{node gradients/split_1_grad/concat/split_1/split_dim}}]]\n"
     ]
    },
    {
     "name": "stdout",
     "output_type": "stream",
     "text": [
      "119/119 [==============================] - 6s 24ms/step - loss: 0.8617 - val_loss: 0.2643\n",
      "Epoch 2/50\n",
      "119/119 [==============================] - 2s 18ms/step - loss: 0.0778 - val_loss: 0.2033\n",
      "Epoch 3/50\n",
      "119/119 [==============================] - 2s 17ms/step - loss: 0.0617 - val_loss: 0.1890\n",
      "Epoch 4/50\n",
      "119/119 [==============================] - 2s 19ms/step - loss: 0.0447 - val_loss: 0.2530\n",
      "Epoch 5/50\n",
      "119/119 [==============================] - 2s 18ms/step - loss: 0.0383 - val_loss: 0.2289\n",
      "Epoch 6/50\n",
      "119/119 [==============================] - 2s 17ms/step - loss: 0.0331 - val_loss: 0.1497\n",
      "Epoch 7/50\n",
      "119/119 [==============================] - 2s 17ms/step - loss: 0.0266 - val_loss: 0.1430\n",
      "Epoch 8/50\n",
      "119/119 [==============================] - 2s 17ms/step - loss: 0.0248 - val_loss: 0.1558\n",
      "Epoch 9/50\n",
      "119/119 [==============================] - 2s 17ms/step - loss: 0.0238 - val_loss: 0.1610\n",
      "Epoch 10/50\n",
      "119/119 [==============================] - 2s 19ms/step - loss: 0.0211 - val_loss: 0.1482\n",
      "Epoch 11/50\n",
      "119/119 [==============================] - 2s 21ms/step - loss: 0.0165 - val_loss: 0.1389\n",
      "Epoch 12/50\n",
      "119/119 [==============================] - 2s 18ms/step - loss: 0.0138 - val_loss: 0.1269\n",
      "Epoch 13/50\n",
      "119/119 [==============================] - 2s 17ms/step - loss: 0.0135 - val_loss: 0.1367\n",
      "Epoch 14/50\n",
      "119/119 [==============================] - 2s 19ms/step - loss: 0.0123 - val_loss: 0.1464\n",
      "Epoch 15/50\n",
      "119/119 [==============================] - 2s 17ms/step - loss: 0.0117 - val_loss: 0.1270\n",
      "Epoch 16/50\n",
      "119/119 [==============================] - 2s 17ms/step - loss: 0.0105 - val_loss: 0.1367\n",
      "Epoch 17/50\n",
      "119/119 [==============================] - 2s 17ms/step - loss: 0.0118 - val_loss: 0.1367\n",
      "Epoch 18/50\n",
      "119/119 [==============================] - 2s 17ms/step - loss: 0.0130 - val_loss: 0.1520\n",
      "Epoch 19/50\n",
      "119/119 [==============================] - 2s 18ms/step - loss: 0.0110 - val_loss: 0.1445\n",
      "Epoch 20/50\n",
      "119/119 [==============================] - 2s 17ms/step - loss: 0.0152 - val_loss: 0.1806\n",
      "Epoch 21/50\n",
      "119/119 [==============================] - 2s 17ms/step - loss: 0.0140 - val_loss: 0.1276\n",
      "Epoch 22/50\n",
      "119/119 [==============================] - 2s 19ms/step - loss: 0.0124 - val_loss: 0.1568\n",
      "Epoch 23/50\n",
      "119/119 [==============================] - 2s 18ms/step - loss: 0.0102 - val_loss: 0.1445\n",
      "Epoch 24/50\n",
      "119/119 [==============================] - 2s 18ms/step - loss: 0.0081 - val_loss: 0.1456\n",
      "Epoch 25/50\n",
      "119/119 [==============================] - 2s 17ms/step - loss: 0.0078 - val_loss: 0.1408\n",
      "Epoch 26/50\n",
      "119/119 [==============================] - 2s 17ms/step - loss: 0.0073 - val_loss: 0.1398\n",
      "Epoch 27/50\n",
      "119/119 [==============================] - 2s 17ms/step - loss: 0.0066 - val_loss: 0.1240\n",
      "Epoch 28/50\n",
      "119/119 [==============================] - 2s 17ms/step - loss: 0.0049 - val_loss: 0.1326\n",
      "Epoch 29/50\n",
      "119/119 [==============================] - 2s 18ms/step - loss: 0.0050 - val_loss: 0.1330\n",
      "Epoch 30/50\n",
      "119/119 [==============================] - 2s 17ms/step - loss: 0.0050 - val_loss: 0.1317\n",
      "Epoch 31/50\n",
      "119/119 [==============================] - 2s 18ms/step - loss: 0.0052 - val_loss: 0.1389\n",
      "Epoch 32/50\n",
      "119/119 [==============================] - 2s 17ms/step - loss: 0.0085 - val_loss: 0.1333\n",
      "Epoch 33/50\n",
      "119/119 [==============================] - 2s 17ms/step - loss: 0.0113 - val_loss: 0.1522\n",
      "Epoch 34/50\n",
      "119/119 [==============================] - 2s 18ms/step - loss: 0.0110 - val_loss: 0.1434\n",
      "Epoch 35/50\n",
      "119/119 [==============================] - 2s 17ms/step - loss: 0.0124 - val_loss: 0.1489\n",
      "Epoch 36/50\n",
      "119/119 [==============================] - 2s 18ms/step - loss: 0.0100 - val_loss: 0.1589\n",
      "Epoch 37/50\n",
      "119/119 [==============================] - 2s 17ms/step - loss: 0.0177 - val_loss: 0.1316\n",
      "Epoch 38/50\n",
      "119/119 [==============================] - 2s 17ms/step - loss: 0.0090 - val_loss: 0.1288\n",
      "Epoch 39/50\n",
      "119/119 [==============================] - 2s 17ms/step - loss: 0.0154 - val_loss: 0.1353\n",
      "Epoch 40/50\n",
      "119/119 [==============================] - 2s 17ms/step - loss: 0.0133 - val_loss: 0.1418\n",
      "Epoch 41/50\n",
      "119/119 [==============================] - 3s 21ms/step - loss: 0.0094 - val_loss: 0.1373\n",
      "Epoch 42/50\n",
      "119/119 [==============================] - 2s 17ms/step - loss: 0.0064 - val_loss: 0.1332\n",
      "Epoch 43/50\n",
      "119/119 [==============================] - 2s 18ms/step - loss: 0.0061 - val_loss: 0.1231\n",
      "Epoch 44/50\n",
      "119/119 [==============================] - 2s 18ms/step - loss: 0.0043 - val_loss: 0.1355\n",
      "Epoch 45/50\n",
      "119/119 [==============================] - 2s 17ms/step - loss: 0.0040 - val_loss: 0.1277\n",
      "Epoch 46/50\n",
      "119/119 [==============================] - 2s 18ms/step - loss: 0.0041 - val_loss: 0.1354\n",
      "Epoch 47/50\n",
      "119/119 [==============================] - 2s 16ms/step - loss: 0.0046 - val_loss: 0.1346\n",
      "Epoch 48/50\n",
      "119/119 [==============================] - 2s 17ms/step - loss: 0.0038 - val_loss: 0.1267\n",
      "Epoch 49/50\n",
      "119/119 [==============================] - 2s 18ms/step - loss: 0.0031 - val_loss: 0.1292\n",
      "Epoch 50/50\n",
      "119/119 [==============================] - 2s 17ms/step - loss: 0.0034 - val_loss: 0.1292\n"
     ]
    }
   ],
   "source": [
    "## Build the model with the optimal hyperparameters\n",
    "# ---------- best tuning ----------\n",
    "model_best = random_tuner.hypermodel.build(best_hps)\n",
    "\n",
    "# ---------- ranking #2 tuning ----------\n",
    "model_top2 = random_tuner.hypermodel.build(top2_hps)\n",
    "\n",
    "\n",
    "\n",
    "## re-train the model\n",
    "# ---------- best tuning ----------\n",
    "history_best = model_best.fit(x_train_slider, y_train_slider,\n",
    "                              batch_size      = minibatch_size,\n",
    "                              epochs          = num_epochs,\n",
    "                              validation_split= 0.2, \n",
    "                              verbose         = 1,\n",
    "                              callbacks       = [early_stop])\n",
    "# ---------- ranking #2 tuning ----------\n",
    "history_top2 = model_top2.fit(x_train_slider, y_train_slider,\n",
    "                              batch_size      = minibatch_size,\n",
    "                              epochs          = num_epochs,\n",
    "                              validation_split= 0.2, \n",
    "                              verbose         = 1,\n",
    "                              callbacks       = [early_stop])\n"
   ]
  },
  {
   "cell_type": "code",
   "execution_count": 30,
   "id": "473c9d35-6196-44c4-9379-1ba332814dab",
   "metadata": {
    "tags": []
   },
   "outputs": [
    {
     "data": {
      "text/plain": [
       "<matplotlib.legend.Legend at 0x7bfd106276a0>"
      ]
     },
     "execution_count": 30,
     "metadata": {},
     "output_type": "execute_result"
    },
    {
     "data": {
      "image/png": "[encoded data removed]",
      "text/plain": [
       "<Figure size 640x480 with 2 Axes>"
      ]
     },
     "metadata": {},
     "output_type": "display_data"
    }
   ],
   "source": [
    "## set up title and ylabel strings\n",
    "# ---------- best tuning ----------\n",
    "title_best = 'loss: '+str(best_hps['loss'])\n",
    "ylabel_best = best_hps['loss']\n",
    "# ---------- ranking #2 tuning ----------\n",
    "title_top2 = 'loss: '+str(top2_hps['loss'])\n",
    "ylabel_top2 = top2_hps['loss']\n",
    "\n",
    "\n",
    "## plot history\n",
    "# ---------- best tuning ----------\n",
    "plt.subplot(1, 2, 1)\n",
    "plt.plot(history_best.history['loss'])\n",
    "plt.plot(history_best.history['val_loss'])\n",
    "plt.title(title_best, fontsize=12)\n",
    "plt.ylabel(ylabel_best)\n",
    "plt.xlabel('Epoch')\n",
    "plt.legend(['Train loss', 'Val loss'], fontsize=10, loc='upper right')\n",
    "\n",
    "# ---------- ranking #2 tuning ----------\n",
    "plt.subplot(1, 2, 2)\n",
    "plt.plot(history_top2.history['loss'])\n",
    "plt.plot(history_top2.history['val_loss'])\n",
    "plt.title(title_top2, fontsize=12)\n",
    "plt.ylabel(ylabel_top2)\n",
    "plt.xlabel('Epoch')\n",
    "plt.legend(['Train loss', 'Val loss'], fontsize=10, loc='upper right')"
   ]
  },
  {
   "cell_type": "code",
   "execution_count": 31,
   "id": "bd304916-451f-4b1e-afd2-4ec7ce128a9d",
   "metadata": {
    "tags": []
   },
   "outputs": [],
   "source": [
    "model_path = os.path.join(cwd,'saved_model')\n",
    "model_best.save(os.path.join(model_path,'LSTM_model_randomsearch_12trials_rank1.h5'))\n",
    "model_top2.save(os.path.join(model_path,'LSTM_model_randomsearch_12trials_rank2.h5'))"
   ]
  },
  {
   "cell_type": "markdown",
   "id": "c648806b-4b01-449c-86b4-4faabe79379a",
   "metadata": {
    "tags": []
   },
   "source": [
    "#### Test Model\n",
    "- NN\n",
    "- NN + keras tuner\n",
    "- CNN + keras tuner\n",
    "- LSTM + keras tuner\n",
    "- CNN_LSTM + keras tuner"
   ]
  },
  {
   "cell_type": "markdown",
   "id": "cbc220af-1834-408d-91b7-42a85d2ea8db",
   "metadata": {},
   "source": [
    "##### NN"
   ]
  },
  {
   "cell_type": "code",
   "execution_count": 53,
   "id": "9ccc2244-8804-48a1-973a-597728632046",
   "metadata": {
    "tags": []
   },
   "outputs": [],
   "source": [
    "model_mse = load_model(os.path.join(model_path,'NN_mse_model.h5'))\n",
    "model_mae = load_model(os.path.join(model_path,'NN_mae_model.h5'))\n"
   ]
  },
  {
   "cell_type": "code",
   "execution_count": 54,
   "id": "6bca4105-05aa-42d2-98c6-9bb5a0a96e6c",
   "metadata": {
    "tags": []
   },
   "outputs": [
    {
     "name": "stdout",
     "output_type": "stream",
     "text": [
      "53/53 [==============================] - 0s 1ms/step\n",
      "53/53 [==============================] - 0s 627us/step\n"
     ]
    }
   ],
   "source": [
    "y_test_mse_pre = model_mse.predict(x_test_flattened)\n",
    "y_test_mae_pre = model_mae.predict(x_test_flattened)"
   ]
  },
  {
   "cell_type": "code",
   "execution_count": 55,
   "id": "abfb4cda-b16a-43b6-957f-a983ffa5a672",
   "metadata": {
    "tags": []
   },
   "outputs": [],
   "source": [
    "y_test_mse_pre = y_test_mse_pre.reshape(y_test_mse_pre.shape[0], 5, 5)\n",
    "y_test_mse_pre = xr.Dataset(coords={'time': x_test_xr.time.values, \n",
    "                                     'latitude': x_test_xr.latitude.values, \n",
    "                                     'longitude': x_test_xr.longitude.values},\n",
    "                             data_vars=dict(sithick=(['time', 'latitude', 'longitude'], y_test_mse_pre)))\n",
    "\n",
    "y_test_mae_pre = y_test_mae_pre.reshape(y_test_mae_pre.shape[0], 5, 5)\n",
    "y_test_mae_pre = xr.Dataset(coords={'time': x_test_xr.time.values, \n",
    "                                     'latitude': x_test_xr.latitude.values, \n",
    "                                     'longitude': x_test_xr.longitude.values},\n",
    "                             data_vars=dict(sithick=(['time', 'latitude', 'longitude'], y_test_mae_pre)))\n"
   ]
  },
  {
   "cell_type": "code",
   "execution_count": 56,
   "id": "e0a91f6a-1ac7-42c5-a789-493410e8beea",
   "metadata": {
    "tags": []
   },
   "outputs": [
    {
     "data": {
      "text/html": [
       "<div><svg style=\"position: absolute; width: 0; height: 0; overflow: hidden\">\n",
       "<defs>\n",
       "<symbol id=\"icon-database\" viewBox=\"0 0 32 32\">\n",
       "<path d=\"M16 0c-8.837 0-16 2.239-16 5v4c0 2.761 7.163 5 16 5s16-2.239 16-5v-4c0-2.761-7.163-5-16-5z\"></path>\n",
       "<path d=\"M16 17c-8.837 0-16-2.239-16-5v6c0 2.761 7.163 5 16 5s16-2.239 16-5v-6c0 2.761-7.163 5-16 5z\"></path>\n",
       "<path d=\"M16 26c-8.837 0-16-2.239-16-5v6c0 2.761 7.163 5 16 5s16-2.239 16-5v-6c0 2.761-7.163 5-16 5z\"></path>\n",
       "</symbol>\n",
       "<symbol id=\"icon-file-text2\" viewBox=\"0 0 32 32\">\n",
       "<path d=\"M28.681 7.159c-0.694-0.947-1.662-2.053-2.724-3.116s-2.169-2.030-3.116-2.724c-1.612-1.182-2.393-1.319-2.841-1.319h-15.5c-1.378 0-2.5 1.121-2.5 2.5v27c0 1.378 1.122 2.5 2.5 2.5h23c1.378 0 2.5-1.122 2.5-2.5v-19.5c0-0.448-0.137-1.23-1.319-2.841zM24.543 5.457c0.959 0.959 1.712 1.825 2.268 2.543h-4.811v-4.811c0.718 0.556 1.584 1.309 2.543 2.268zM28 29.5c0 0.271-0.229 0.5-0.5 0.5h-23c-0.271 0-0.5-0.229-0.5-0.5v-27c0-0.271 0.229-0.5 0.5-0.5 0 0 15.499-0 15.5 0v7c0 0.552 0.448 1 1 1h7v19.5z\"></path>\n",
       "<path d=\"M23 26h-14c-0.552 0-1-0.448-1-1s0.448-1 1-1h14c0.552 0 1 0.448 1 1s-0.448 1-1 1z\"></path>\n",
       "<path d=\"M23 22h-14c-0.552 0-1-0.448-1-1s0.448-1 1-1h14c0.552 0 1 0.448 1 1s-0.448 1-1 1z\"></path>\n",
       "<path d=\"M23 18h-14c-0.552 0-1-0.448-1-1s0.448-1 1-1h14c0.552 0 1 0.448 1 1s-0.448 1-1 1z\"></path>\n",
       "</symbol>\n",
       "</defs>\n",
       "</svg>\n",
       "<style>/* CSS stylesheet for displaying xarray objects in jupyterlab.\n",
       " *\n",
       " */\n",
       "\n",
       ":root {\n",
       "  --xr-font-color0: var(--jp-content-font-color0, rgba(0, 0, 0, 1));\n",
       "  --xr-font-color2: var(--jp-content-font-color2, rgba(0, 0, 0, 0.54));\n",
       "  --xr-font-color3: var(--jp-content-font-color3, rgba(0, 0, 0, 0.38));\n",
       "  --xr-border-color: var(--jp-border-color2, #e0e0e0);\n",
       "  --xr-disabled-color: var(--jp-layout-color3, #bdbdbd);\n",
       "  --xr-background-color: var(--jp-layout-color0, white);\n",
       "  --xr-background-color-row-even: var(--jp-layout-color1, white);\n",
       "  --xr-background-color-row-odd: var(--jp-layout-color2, #eeeeee);\n",
       "}\n",
       "\n",
       "html[theme=dark],\n",
       "body[data-theme=dark],\n",
       "body.vscode-dark {\n",
       "  --xr-font-color0: rgba(255, 255, 255, 1);\n",
       "  --xr-font-color2: rgba(255, 255, 255, 0.54);\n",
       "  --xr-font-color3: rgba(255, 255, 255, 0.38);\n",
       "  --xr-border-color: #1F1F1F;\n",
       "  --xr-disabled-color: #515151;\n",
       "  --xr-background-color: #111111;\n",
       "  --xr-background-color-row-even: #111111;\n",
       "  --xr-background-color-row-odd: #313131;\n",
       "}\n",
       "\n",
       ".xr-wrap {\n",
       "  display: block !important;\n",
       "  min-width: 300px;\n",
       "  max-width: 700px;\n",
       "}\n",
       "\n",
       ".xr-text-repr-fallback {\n",
       "  /* fallback to plain text repr when CSS is not injected (untrusted notebook) */\n",
       "  display: none;\n",
       "}\n",
       "\n",
       ".xr-header {\n",
       "  padding-top: 6px;\n",
       "  padding-bottom: 6px;\n",
       "  margin-bottom: 4px;\n",
       "  border-bottom: solid 1px var(--xr-border-color);\n",
       "}\n",
       "\n",
       ".xr-header > div,\n",
       ".xr-header > ul {\n",
       "  display: inline;\n",
       "  margin-top: 0;\n",
       "  margin-bottom: 0;\n",
       "}\n",
       "\n",
       ".xr-obj-type,\n",
       ".xr-array-name {\n",
       "  margin-left: 2px;\n",
       "  margin-right: 10px;\n",
       "}\n",
       "\n",
       ".xr-obj-type {\n",
       "  color: var(--xr-font-color2);\n",
       "}\n",
       "\n",
       ".xr-sections {\n",
       "  padding-left: 0 !important;\n",
       "  display: grid;\n",
       "  grid-template-columns: 150px auto auto 1fr 20px 20px;\n",
       "}\n",
       "\n",
       ".xr-section-item {\n",
       "  display: contents;\n",
       "}\n",
       "\n",
       ".xr-section-item input {\n",
       "  display: none;\n",
       "}\n",
       "\n",
       ".xr-section-item input + label {\n",
       "  color: var(--xr-disabled-color);\n",
       "}\n",
       "\n",
       ".xr-section-item input:enabled + label {\n",
       "  cursor: pointer;\n",
       "  color: var(--xr-font-color2);\n",
       "}\n",
       "\n",
       ".xr-section-item input:enabled + label:hover {\n",
       "  color: var(--xr-font-color0);\n",
       "}\n",
       "\n",
       ".xr-section-summary {\n",
       "  grid-column: 1;\n",
       "  color: var(--xr-font-color2);\n",
       "  font-weight: 500;\n",
       "}\n",
       "\n",
       ".xr-section-summary > span {\n",
       "  display: inline-block;\n",
       "  padding-left: 0.5em;\n",
       "}\n",
       "\n",
       ".xr-section-summary-in:disabled + label {\n",
       "  color: var(--xr-font-color2);\n",
       "}\n",
       "\n",
       ".xr-section-summary-in + label:before {\n",
       "  display: inline-block;\n",
       "  content: '►';\n",
       "  font-size: 11px;\n",
       "  width: 15px;\n",
       "  text-align: center;\n",
       "}\n",
       "\n",
       ".xr-section-summary-in:disabled + label:before {\n",
       "  color: var(--xr-disabled-color);\n",
       "}\n",
       "\n",
       ".xr-section-summary-in:checked + label:before {\n",
       "  content: '▼';\n",
       "}\n",
       "\n",
       ".xr-section-summary-in:checked + label > span {\n",
       "  display: none;\n",
       "}\n",
       "\n",
       ".xr-section-summary,\n",
       ".xr-section-inline-details {\n",
       "  padding-top: 4px;\n",
       "  padding-bottom: 4px;\n",
       "}\n",
       "\n",
       ".xr-section-inline-details {\n",
       "  grid-column: 2 / -1;\n",
       "}\n",
       "\n",
       ".xr-section-details {\n",
       "  display: none;\n",
       "  grid-column: 1 / -1;\n",
       "  margin-bottom: 5px;\n",
       "}\n",
       "\n",
       ".xr-section-summary-in:checked ~ .xr-section-details {\n",
       "  display: contents;\n",
       "}\n",
       "\n",
       ".xr-array-wrap {\n",
       "  grid-column: 1 / -1;\n",
       "  display: grid;\n",
       "  grid-template-columns: 20px auto;\n",
       "}\n",
       "\n",
       ".xr-array-wrap > label {\n",
       "  grid-column: 1;\n",
       "  vertical-align: top;\n",
       "}\n",
       "\n",
       ".xr-preview {\n",
       "  color: var(--xr-font-color3);\n",
       "}\n",
       "\n",
       ".xr-array-preview,\n",
       ".xr-array-data {\n",
       "  padding: 0 5px !important;\n",
       "  grid-column: 2;\n",
       "}\n",
       "\n",
       ".xr-array-data,\n",
       ".xr-array-in:checked ~ .xr-array-preview {\n",
       "  display: none;\n",
       "}\n",
       "\n",
       ".xr-array-in:checked ~ .xr-array-data,\n",
       ".xr-array-preview {\n",
       "  display: inline-block;\n",
       "}\n",
       "\n",
       ".xr-dim-list {\n",
       "  display: inline-block !important;\n",
       "  list-style: none;\n",
       "  padding: 0 !important;\n",
       "  margin: 0;\n",
       "}\n",
       "\n",
       ".xr-dim-list li {\n",
       "  display: inline-block;\n",
       "  padding: 0;\n",
       "  margin: 0;\n",
       "}\n",
       "\n",
       ".xr-dim-list:before {\n",
       "  content: '(';\n",
       "}\n",
       "\n",
       ".xr-dim-list:after {\n",
       "  content: ')';\n",
       "}\n",
       "\n",
       ".xr-dim-list li:not(:last-child):after {\n",
       "  content: ',';\n",
       "  padding-right: 5px;\n",
       "}\n",
       "\n",
       ".xr-has-index {\n",
       "  font-weight: bold;\n",
       "}\n",
       "\n",
       ".xr-var-list,\n",
       ".xr-var-item {\n",
       "  display: contents;\n",
       "}\n",
       "\n",
       ".xr-var-item > div,\n",
       ".xr-var-item label,\n",
       ".xr-var-item > .xr-var-name span {\n",
       "  background-color: var(--xr-background-color-row-even);\n",
       "  margin-bottom: 0;\n",
       "}\n",
       "\n",
       ".xr-var-item > .xr-var-name:hover span {\n",
       "  padding-right: 5px;\n",
       "}\n",
       "\n",
       ".xr-var-list > li:nth-child(odd) > div,\n",
       ".xr-var-list > li:nth-child(odd) > label,\n",
       ".xr-var-list > li:nth-child(odd) > .xr-var-name span {\n",
       "  background-color: var(--xr-background-color-row-odd);\n",
       "}\n",
       "\n",
       ".xr-var-name {\n",
       "  grid-column: 1;\n",
       "}\n",
       "\n",
       ".xr-var-dims {\n",
       "  grid-column: 2;\n",
       "}\n",
       "\n",
       ".xr-var-dtype {\n",
       "  grid-column: 3;\n",
       "  text-align: right;\n",
       "  color: var(--xr-font-color2);\n",
       "}\n",
       "\n",
       ".xr-var-preview {\n",
       "  grid-column: 4;\n",
       "}\n",
       "\n",
       ".xr-index-preview {\n",
       "  grid-column: 2 / 5;\n",
       "  color: var(--xr-font-color2);\n",
       "}\n",
       "\n",
       ".xr-var-name,\n",
       ".xr-var-dims,\n",
       ".xr-var-dtype,\n",
       ".xr-preview,\n",
       ".xr-attrs dt {\n",
       "  white-space: nowrap;\n",
       "  overflow: hidden;\n",
       "  text-overflow: ellipsis;\n",
       "  padding-right: 10px;\n",
       "}\n",
       "\n",
       ".xr-var-name:hover,\n",
       ".xr-var-dims:hover,\n",
       ".xr-var-dtype:hover,\n",
       ".xr-attrs dt:hover {\n",
       "  overflow: visible;\n",
       "  width: auto;\n",
       "  z-index: 1;\n",
       "}\n",
       "\n",
       ".xr-var-attrs,\n",
       ".xr-var-data,\n",
       ".xr-index-data {\n",
       "  display: none;\n",
       "  background-color: var(--xr-background-color) !important;\n",
       "  padding-bottom: 5px !important;\n",
       "}\n",
       "\n",
       ".xr-var-attrs-in:checked ~ .xr-var-attrs,\n",
       ".xr-var-data-in:checked ~ .xr-var-data,\n",
       ".xr-index-data-in:checked ~ .xr-index-data {\n",
       "  display: block;\n",
       "}\n",
       "\n",
       ".xr-var-data > table {\n",
       "  float: right;\n",
       "}\n",
       "\n",
       ".xr-var-name span,\n",
       ".xr-var-data,\n",
       ".xr-index-name div,\n",
       ".xr-index-data,\n",
       ".xr-attrs {\n",
       "  padding-left: 25px !important;\n",
       "}\n",
       "\n",
       ".xr-attrs,\n",
       ".xr-var-attrs,\n",
       ".xr-var-data,\n",
       ".xr-index-data {\n",
       "  grid-column: 1 / -1;\n",
       "}\n",
       "\n",
       "dl.xr-attrs {\n",
       "  padding: 0;\n",
       "  margin: 0;\n",
       "  display: grid;\n",
       "  grid-template-columns: 125px auto;\n",
       "}\n",
       "\n",
       ".xr-attrs dt,\n",
       ".xr-attrs dd {\n",
       "  padding: 0;\n",
       "  margin: 0;\n",
       "  float: left;\n",
       "  padding-right: 10px;\n",
       "  width: auto;\n",
       "}\n",
       "\n",
       ".xr-attrs dt {\n",
       "  font-weight: normal;\n",
       "  grid-column: 1;\n",
       "}\n",
       "\n",
       ".xr-attrs dt:hover span {\n",
       "  display: inline-block;\n",
       "  background: var(--xr-background-color);\n",
       "  padding-right: 10px;\n",
       "}\n",
       "\n",
       ".xr-attrs dd {\n",
       "  grid-column: 2;\n",
       "  white-space: pre-wrap;\n",
       "  word-break: break-all;\n",
       "}\n",
       "\n",
       ".xr-icon-database,\n",
       ".xr-icon-file-text2,\n",
       ".xr-no-icon {\n",
       "  display: inline-block;\n",
       "  vertical-align: middle;\n",
       "  width: 1em;\n",
       "  height: 1.5em !important;\n",
       "  stroke-width: 0;\n",
       "  stroke: currentColor;\n",
       "  fill: currentColor;\n",
       "}\n",
       "</style><pre class='xr-text-repr-fallback'>&lt;xarray.Dataset&gt;\n",
       "Dimensions:    (time: 1673, latitude: 5, longitude: 5)\n",
       "Coordinates:\n",
       "  * time       (time) datetime64[ns] 2019-01-01 2019-01-02 ... 2023-07-31\n",
       "  * latitude   (latitude) float32 82.92 83.0 83.08 83.17 83.25\n",
       "  * longitude  (longitude) float32 -58.08 -58.0 -57.92 -57.83 -57.75\n",
       "Data variables:\n",
       "    sithick    (time, latitude, longitude) float32 2.94 2.836 ... 3.127 3.173</pre><div class='xr-wrap' style='display:none'><div class='xr-header'><div class='xr-obj-type'>xarray.Dataset</div></div><ul class='xr-sections'><li class='xr-section-item'><input id='section-3631240d-6fc8-41e2-a37c-8d81350f0a53' class='xr-section-summary-in' type='checkbox' disabled ><label for='section-3631240d-6fc8-41e2-a37c-8d81350f0a53' class='xr-section-summary'  title='Expand/collapse section'>Dimensions:</label><div class='xr-section-inline-details'><ul class='xr-dim-list'><li><span class='xr-has-index'>time</span>: 1673</li><li><span class='xr-has-index'>latitude</span>: 5</li><li><span class='xr-has-index'>longitude</span>: 5</li></ul></div><div class='xr-section-details'></div></li><li class='xr-section-item'><input id='section-0cc4d48e-2f9b-4d24-9894-dad35e4a09ff' class='xr-section-summary-in' type='checkbox'  checked><label for='section-0cc4d48e-2f9b-4d24-9894-dad35e4a09ff' class='xr-section-summary' >Coordinates: <span>(3)</span></label><div class='xr-section-inline-details'></div><div class='xr-section-details'><ul class='xr-var-list'><li class='xr-var-item'><div class='xr-var-name'><span class='xr-has-index'>time</span></div><div class='xr-var-dims'>(time)</div><div class='xr-var-dtype'>datetime64[ns]</div><div class='xr-var-preview xr-preview'>2019-01-01 ... 2023-07-31</div><input id='attrs-db7060f1-6984-41ea-8392-45e205c030c5' class='xr-var-attrs-in' type='checkbox' disabled><label for='attrs-db7060f1-6984-41ea-8392-45e205c030c5' title='Show/Hide attributes'><svg class='icon xr-icon-file-text2'><use xlink:href='#icon-file-text2'></use></svg></label><input id='data-bafd051a-a644-443e-900e-741e3690f8aa' class='xr-var-data-in' type='checkbox'><label for='data-bafd051a-a644-443e-900e-741e3690f8aa' title='Show/Hide data repr'><svg class='icon xr-icon-database'><use xlink:href='#icon-database'></use></svg></label><div class='xr-var-attrs'><dl class='xr-attrs'></dl></div><div class='xr-var-data'><pre>array([&#x27;2019-01-01T00:00:00.000000000&#x27;, &#x27;2019-01-02T00:00:00.000000000&#x27;,\n",
       "       &#x27;2019-01-03T00:00:00.000000000&#x27;, ..., &#x27;2023-07-29T00:00:00.000000000&#x27;,\n",
       "       &#x27;2023-07-30T00:00:00.000000000&#x27;, &#x27;2023-07-31T00:00:00.000000000&#x27;],\n",
       "      dtype=&#x27;datetime64[ns]&#x27;)</pre></div></li><li class='xr-var-item'><div class='xr-var-name'><span class='xr-has-index'>latitude</span></div><div class='xr-var-dims'>(latitude)</div><div class='xr-var-dtype'>float32</div><div class='xr-var-preview xr-preview'>82.92 83.0 83.08 83.17 83.25</div><input id='attrs-969681be-33e1-4b19-89a0-51f1ff15d8f9' class='xr-var-attrs-in' type='checkbox' disabled><label for='attrs-969681be-33e1-4b19-89a0-51f1ff15d8f9' title='Show/Hide attributes'><svg class='icon xr-icon-file-text2'><use xlink:href='#icon-file-text2'></use></svg></label><input id='data-ce4928b0-cd9b-4a68-95ee-e82fc91075d0' class='xr-var-data-in' type='checkbox'><label for='data-ce4928b0-cd9b-4a68-95ee-e82fc91075d0' title='Show/Hide data repr'><svg class='icon xr-icon-database'><use xlink:href='#icon-database'></use></svg></label><div class='xr-var-attrs'><dl class='xr-attrs'></dl></div><div class='xr-var-data'><pre>array([82.916664, 83.      , 83.083336, 83.166664, 83.25    ], dtype=float32)</pre></div></li><li class='xr-var-item'><div class='xr-var-name'><span class='xr-has-index'>longitude</span></div><div class='xr-var-dims'>(longitude)</div><div class='xr-var-dtype'>float32</div><div class='xr-var-preview xr-preview'>-58.08 -58.0 -57.92 -57.83 -57.75</div><input id='attrs-75ef5c14-d480-4dd7-83ed-5e9cd89dde99' class='xr-var-attrs-in' type='checkbox' disabled><label for='attrs-75ef5c14-d480-4dd7-83ed-5e9cd89dde99' title='Show/Hide attributes'><svg class='icon xr-icon-file-text2'><use xlink:href='#icon-file-text2'></use></svg></label><input id='data-6376e2a4-84b0-4085-87f8-69a3a3b15e01' class='xr-var-data-in' type='checkbox'><label for='data-6376e2a4-84b0-4085-87f8-69a3a3b15e01' title='Show/Hide data repr'><svg class='icon xr-icon-database'><use xlink:href='#icon-database'></use></svg></label><div class='xr-var-attrs'><dl class='xr-attrs'></dl></div><div class='xr-var-data'><pre>array([-58.083332, -58.      , -57.916668, -57.833332, -57.75    ],\n",
       "      dtype=float32)</pre></div></li></ul></div></li><li class='xr-section-item'><input id='section-2b4480e8-0ff4-45ac-980f-838fd3d1840b' class='xr-section-summary-in' type='checkbox'  checked><label for='section-2b4480e8-0ff4-45ac-980f-838fd3d1840b' class='xr-section-summary' >Data variables: <span>(1)</span></label><div class='xr-section-inline-details'></div><div class='xr-section-details'><ul class='xr-var-list'><li class='xr-var-item'><div class='xr-var-name'><span>sithick</span></div><div class='xr-var-dims'>(time, latitude, longitude)</div><div class='xr-var-dtype'>float32</div><div class='xr-var-preview xr-preview'>2.94 2.836 2.828 ... 3.127 3.173</div><input id='attrs-352b29a4-4c99-4aa7-9234-a889e325a7f2' class='xr-var-attrs-in' type='checkbox' disabled><label for='attrs-352b29a4-4c99-4aa7-9234-a889e325a7f2' title='Show/Hide attributes'><svg class='icon xr-icon-file-text2'><use xlink:href='#icon-file-text2'></use></svg></label><input id='data-2664b621-1fa6-4d9f-874e-378e83b0ce59' class='xr-var-data-in' type='checkbox'><label for='data-2664b621-1fa6-4d9f-874e-378e83b0ce59' title='Show/Hide data repr'><svg class='icon xr-icon-database'><use xlink:href='#icon-database'></use></svg></label><div class='xr-var-attrs'><dl class='xr-attrs'></dl></div><div class='xr-var-data'><pre>array([[[2.9399083, 2.8358757, 2.8283033, 2.9058862, 2.972542 ],\n",
       "        [2.8222187, 3.1303256, 3.0441797, 2.9508119, 3.0466554],\n",
       "        [3.0665853, 2.9834003, 3.030539 , 2.996241 , 3.0394032],\n",
       "        [3.0826676, 3.0509684, 3.096954 , 3.16405  , 3.0880432],\n",
       "        [3.3110027, 3.0429444, 3.1468573, 3.1251311, 3.1374905]],\n",
       "\n",
       "       [[2.8462071, 2.7724247, 2.7713325, 3.022108 , 2.9574347],\n",
       "        [2.772257 , 3.06809  , 3.0232618, 3.0543222, 3.0742004],\n",
       "        [2.9612334, 2.9501476, 2.907899 , 2.8709571, 2.8890915],\n",
       "        [2.9586747, 3.0814216, 2.8963082, 3.0558784, 3.0595298],\n",
       "        [3.2194393, 2.8706083, 2.9475918, 2.9121666, 3.0810525]],\n",
       "\n",
       "       [[2.7885168, 2.7130685, 2.7515357, 2.9135988, 2.8881013],\n",
       "        [2.7354171, 3.029814 , 3.0018961, 3.0095007, 3.016309 ],\n",
       "        [2.9226208, 2.9133117, 2.8948205, 2.8661735, 2.9082932],\n",
       "        [2.9388142, 3.0453556, 2.8931816, 3.0963988, 3.0663147],\n",
       "        [3.263913 , 2.934642 , 2.984321 , 2.9398785, 3.1012795]],\n",
       "\n",
       "       ...,\n",
       "\n",
       "       [[3.6461968, 3.7828648, 3.999486 , 3.961994 , 3.8788068],\n",
       "        [3.6324358, 3.627233 , 3.7993665, 3.8831446, 3.8013148],\n",
       "        [3.2802153, 3.2459457, 3.5299554, 3.3180707, 3.4192615],\n",
       "        [3.3185432, 3.579727 , 3.169886 , 3.4140964, 3.2085402],\n",
       "        [3.0994515, 3.1945639, 3.0735126, 2.9458737, 3.0445805]],\n",
       "\n",
       "       [[3.9255612, 4.0822835, 4.237949 , 4.1929655, 4.1262836],\n",
       "        [3.9707587, 3.868757 , 4.093831 , 4.093812 , 3.9950044],\n",
       "        [3.5567927, 3.5918808, 3.7471595, 3.5887525, 3.6438944],\n",
       "        [3.5787003, 3.7745407, 3.4171064, 3.6004055, 3.4879003],\n",
       "        [3.33185  , 3.4660456, 3.2816014, 3.2635808, 3.3318937]],\n",
       "\n",
       "       [[3.8258595, 4.075073 , 4.3087645, 4.202601 , 4.1128263],\n",
       "        [3.8989673, 3.8660111, 4.067628 , 4.0490184, 4.0190077],\n",
       "        [3.455017 , 3.4444897, 3.7550745, 3.4822052, 3.6459165],\n",
       "        [3.484791 , 3.740148 , 3.3848503, 3.5939984, 3.421779 ],\n",
       "        [3.2860668, 3.3365207, 3.1254144, 3.1267695, 3.172982 ]]],\n",
       "      dtype=float32)</pre></div></li></ul></div></li><li class='xr-section-item'><input id='section-17ecb1bc-5d4a-4685-b914-0f5ca2a270b8' class='xr-section-summary-in' type='checkbox'  ><label for='section-17ecb1bc-5d4a-4685-b914-0f5ca2a270b8' class='xr-section-summary' >Indexes: <span>(3)</span></label><div class='xr-section-inline-details'></div><div class='xr-section-details'><ul class='xr-var-list'><li class='xr-var-item'><div class='xr-index-name'><div>time</div></div><div class='xr-index-preview'>PandasIndex</div><div></div><input id='index-59bb11cc-bf5d-476e-bdda-2c7ac5bf3a99' class='xr-index-data-in' type='checkbox'/><label for='index-59bb11cc-bf5d-476e-bdda-2c7ac5bf3a99' title='Show/Hide index repr'><svg class='icon xr-icon-database'><use xlink:href='#icon-database'></use></svg></label><div class='xr-index-data'><pre>PandasIndex(DatetimeIndex([&#x27;2019-01-01&#x27;, &#x27;2019-01-02&#x27;, &#x27;2019-01-03&#x27;, &#x27;2019-01-04&#x27;,\n",
       "               &#x27;2019-01-05&#x27;, &#x27;2019-01-06&#x27;, &#x27;2019-01-07&#x27;, &#x27;2019-01-08&#x27;,\n",
       "               &#x27;2019-01-09&#x27;, &#x27;2019-01-10&#x27;,\n",
       "               ...\n",
       "               &#x27;2023-07-22&#x27;, &#x27;2023-07-23&#x27;, &#x27;2023-07-24&#x27;, &#x27;2023-07-25&#x27;,\n",
       "               &#x27;2023-07-26&#x27;, &#x27;2023-07-27&#x27;, &#x27;2023-07-28&#x27;, &#x27;2023-07-29&#x27;,\n",
       "               &#x27;2023-07-30&#x27;, &#x27;2023-07-31&#x27;],\n",
       "              dtype=&#x27;datetime64[ns]&#x27;, name=&#x27;time&#x27;, length=1673, freq=None))</pre></div></li><li class='xr-var-item'><div class='xr-index-name'><div>latitude</div></div><div class='xr-index-preview'>PandasIndex</div><div></div><input id='index-42a0692f-7c70-4e96-9f56-6efc68dd2ecf' class='xr-index-data-in' type='checkbox'/><label for='index-42a0692f-7c70-4e96-9f56-6efc68dd2ecf' title='Show/Hide index repr'><svg class='icon xr-icon-database'><use xlink:href='#icon-database'></use></svg></label><div class='xr-index-data'><pre>PandasIndex(Index([82.91666412353516, 83.0, 83.08333587646484, 83.16666412353516, 83.25], dtype=&#x27;float32&#x27;, name=&#x27;latitude&#x27;))</pre></div></li><li class='xr-var-item'><div class='xr-index-name'><div>longitude</div></div><div class='xr-index-preview'>PandasIndex</div><div></div><input id='index-0e490a09-46eb-487d-b2ec-3e0ae3102002' class='xr-index-data-in' type='checkbox'/><label for='index-0e490a09-46eb-487d-b2ec-3e0ae3102002' title='Show/Hide index repr'><svg class='icon xr-icon-database'><use xlink:href='#icon-database'></use></svg></label><div class='xr-index-data'><pre>PandasIndex(Index([-58.08333206176758, -58.0, -57.91666793823242, -57.83333206176758,\n",
       "       -57.75],\n",
       "      dtype=&#x27;float32&#x27;, name=&#x27;longitude&#x27;))</pre></div></li></ul></div></li><li class='xr-section-item'><input id='section-33333e00-0ba4-421b-a70c-6685e3375663' class='xr-section-summary-in' type='checkbox' disabled ><label for='section-33333e00-0ba4-421b-a70c-6685e3375663' class='xr-section-summary'  title='Expand/collapse section'>Attributes: <span>(0)</span></label><div class='xr-section-inline-details'></div><div class='xr-section-details'><dl class='xr-attrs'></dl></div></li></ul></div></div>"
      ],
      "text/plain": [
       "<xarray.Dataset>\n",
       "Dimensions:    (time: 1673, latitude: 5, longitude: 5)\n",
       "Coordinates:\n",
       "  * time       (time) datetime64[ns] 2019-01-01 2019-01-02 ... 2023-07-31\n",
       "  * latitude   (latitude) float32 82.92 83.0 83.08 83.17 83.25\n",
       "  * longitude  (longitude) float32 -58.08 -58.0 -57.92 -57.83 -57.75\n",
       "Data variables:\n",
       "    sithick    (time, latitude, longitude) float32 2.94 2.836 ... 3.127 3.173"
      ]
     },
     "execution_count": 56,
     "metadata": {},
     "output_type": "execute_result"
    }
   ],
   "source": [
    "y_test_mse_pre"
   ]
  },
  {
   "cell_type": "markdown",
   "id": "649252cc-345d-4966-8c09-ff22f750a7b5",
   "metadata": {},
   "source": [
    "##### CNN + keras tuner"
   ]
  },
  {
   "cell_type": "code",
   "execution_count": 56,
   "id": "bdf6f03e-0868-41eb-8fd6-ab80ad2e5e6c",
   "metadata": {
    "tags": []
   },
   "outputs": [],
   "source": [
    "## reload the saved model\n",
    "model_best = load_model(os.path.join(model_path,'CNN_model_randomsearch_10trials_rank1.h5'))\n",
    "model_top2 = load_model(os.path.join(model_path,'CNN_model_randomsearch_10trials_rank2.h5'))\n"
   ]
  },
  {
   "cell_type": "code",
   "execution_count": 57,
   "id": "de00ecab-12d7-47ea-8f43-d2db603ac67b",
   "metadata": {
    "tags": []
   },
   "outputs": [
    {
     "name": "stdout",
     "output_type": "stream",
     "text": [
      "53/53 [==============================] - 1s 11ms/step\n",
      "53/53 [==============================] - 0s 6ms/step\n"
     ]
    }
   ],
   "source": [
    "y_test_best_pre = model_best.predict(x_test_np)\n",
    "y_test_best_pre = y_test_best_pre.reshape(y_test_best_pre.shape[0], 5, 5)\n",
    "y_test_best_pre = xr.Dataset(coords={'time': x_test_xr.time.values, \n",
    "                                     'latitude': x_test_xr.latitude.values, \n",
    "                                     'longitude': x_test_xr.longitude.values},\n",
    "                             data_vars=dict(sithick=(['time', 'latitude', 'longitude'], y_test_best_pre)))\n",
    "# ---------- rank #2 tuning ----------\n",
    "y_test_top2_pre = model_top2.predict(x_test_np)\n",
    "y_test_top2_pre = y_test_top2_pre.reshape(y_test_top2_pre.shape[0], 5, 5)\n",
    "y_test_top2_pre = xr.Dataset(coords={'time': x_test_xr.time.values, \n",
    "                                     'latitude': x_test_xr.latitude.values, \n",
    "                                     'longitude': x_test_xr.longitude.values},\n",
    "                             data_vars=dict(sithick=(['time', 'latitude', 'longitude'], y_test_top2_pre)))\n"
   ]
  },
  {
   "cell_type": "markdown",
   "id": "6b9f013c-4665-4bcd-b0e6-c1588c4f3e50",
   "metadata": {
    "tags": []
   },
   "source": [
    "##### LSTM + keras tuner"
   ]
  },
  {
   "cell_type": "code",
   "execution_count": 32,
   "id": "364bf472-9e74-45e1-9a3a-464d6f9c50c2",
   "metadata": {
    "scrolled": true,
    "tags": []
   },
   "outputs": [
    {
     "name": "stderr",
     "output_type": "stream",
     "text": [
      "2023-12-18 17:08:58.283573: I tensorflow/core/common_runtime/executor.cc:1197] [/device:CPU:0] (DEBUG INFO) Executor start aborting (this does not indicate an error and you can ignore this message): INVALID_ARGUMENT: You must feed a value for placeholder tensor 'gradients/split_2_grad/concat/split_2/split_dim' with dtype int32\n",
      "\t [[{{node gradients/split_2_grad/concat/split_2/split_dim}}]]\n",
      "2023-12-18 17:08:58.284901: I tensorflow/core/common_runtime/executor.cc:1197] [/device:CPU:0] (DEBUG INFO) Executor start aborting (this does not indicate an error and you can ignore this message): INVALID_ARGUMENT: You must feed a value for placeholder tensor 'gradients/split_grad/concat/split/split_dim' with dtype int32\n",
      "\t [[{{node gradients/split_grad/concat/split/split_dim}}]]\n",
      "2023-12-18 17:08:58.286195: I tensorflow/core/common_runtime/executor.cc:1197] [/device:CPU:0] (DEBUG INFO) Executor start aborting (this does not indicate an error and you can ignore this message): INVALID_ARGUMENT: You must feed a value for placeholder tensor 'gradients/split_1_grad/concat/split_1/split_dim' with dtype int32\n",
      "\t [[{{node gradients/split_1_grad/concat/split_1/split_dim}}]]\n",
      "2023-12-18 17:08:58.515440: I tensorflow/core/common_runtime/executor.cc:1197] [/device:CPU:0] (DEBUG INFO) Executor start aborting (this does not indicate an error and you can ignore this message): INVALID_ARGUMENT: You must feed a value for placeholder tensor 'gradients/split_2_grad/concat/split_2/split_dim' with dtype int32\n",
      "\t [[{{node gradients/split_2_grad/concat/split_2/split_dim}}]]\n",
      "2023-12-18 17:08:58.516603: I tensorflow/core/common_runtime/executor.cc:1197] [/device:CPU:0] (DEBUG INFO) Executor start aborting (this does not indicate an error and you can ignore this message): INVALID_ARGUMENT: You must feed a value for placeholder tensor 'gradients/split_grad/concat/split/split_dim' with dtype int32\n",
      "\t [[{{node gradients/split_grad/concat/split/split_dim}}]]\n",
      "2023-12-18 17:08:58.517496: I tensorflow/core/common_runtime/executor.cc:1197] [/device:CPU:0] (DEBUG INFO) Executor start aborting (this does not indicate an error and you can ignore this message): INVALID_ARGUMENT: You must feed a value for placeholder tensor 'gradients/split_1_grad/concat/split_1/split_dim' with dtype int32\n",
      "\t [[{{node gradients/split_1_grad/concat/split_1/split_dim}}]]\n"
     ]
    }
   ],
   "source": [
    "## reload the saved model\n",
    "model_best = load_model(os.path.join(model_path,'LSTM_model_randomsearch_12trials_rank1.h5'))\n",
    "model_top2 = load_model(os.path.join(model_path,'LSTM_model_randomsearch_12trials_rank2.h5'))\n"
   ]
  },
  {
   "cell_type": "code",
   "execution_count": 42,
   "id": "0f299fdc-4b34-4bd8-bde2-1b236db441b0",
   "metadata": {
    "tags": []
   },
   "outputs": [
    {
     "name": "stdout",
     "output_type": "stream",
     "text": [
      "53/53 [==============================] - 0s 3ms/step\n",
      "53/53 [==============================] - 0s 4ms/step\n"
     ]
    }
   ],
   "source": [
    "y_test_best_pre = model_best.predict(x_test_slider)\n",
    "y_test_best_pre = y_test_best_pre.reshape(y_test_best_pre.shape[0], 5, 5)\n",
    "y_test_best_pre = xr.Dataset(coords={'time': x_test_xr.time.values[slider-1:], \n",
    "                                     'latitude': x_test_xr.latitude.values, \n",
    "                                     'longitude': x_test_xr.longitude.values},\n",
    "                             data_vars=dict(sithick=(['time', 'latitude', 'longitude'], y_test_best_pre)))\n",
    "# ---------- rank #2 tuning ----------\n",
    "y_test_top2_pre = model_top2.predict(x_test_slider)\n",
    "y_test_top2_pre = y_test_top2_pre.reshape(y_test_top2_pre.shape[0], 5, 5)\n",
    "y_test_top2_pre = xr.Dataset(coords={'time': x_test_xr.time.values[slider-1:], \n",
    "                                     'latitude': x_test_xr.latitude.values, \n",
    "                                     'longitude': x_test_xr.longitude.values},\n",
    "                             data_vars=dict(sithick=(['time', 'latitude', 'longitude'], y_test_top2_pre)))"
   ]
  },
  {
   "cell_type": "code",
   "execution_count": null,
   "id": "e68ea404-ed99-4597-815e-908cc992494a",
   "metadata": {},
   "outputs": [],
   "source": []
  }
 ],
 "metadata": {
  "kernelspec": {
   "display_name": "Python 3 (ipykernel)",
   "language": "python",
   "name": "python3"
  },
  "language_info": {
   "codemirror_mode": {
    "name": "ipython",
    "version": 3
   },
   "file_extension": ".py",
   "mimetype": "text/x-python",
   "name": "python",
   "nbconvert_exporter": "python",
   "pygments_lexer": "ipython3",
   "version": "3.10.12"
  }
 },
 "nbformat": 4,
 "nbformat_minor": 5
}
