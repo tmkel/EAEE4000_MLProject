{
 "cells": [
  {
   "cell_type": "markdown",
   "id": "c47ab45f-bf9f-4020-bc4b-99e8e0d7e048",
   "metadata": {
    "tags": []
   },
   "source": [
    "#### Prepare Dataset\n"
   ]
  },
  {
   "cell_type": "markdown",
   "id": "414aa7b5-fbe5-428f-a3e6-7e252558ed4b",
   "metadata": {
    "tags": []
   },
   "source": [
    "##### Install Packages"
   ]
  },
  {
   "cell_type": "code",
   "execution_count": 1,
   "id": "b43cfc38-1225-4550-9333-5a72e6ff0049",
   "metadata": {
    "tags": []
   },
   "outputs": [],
   "source": [
    "# pip install copernicus_marine_client\n",
    "# pip install keras-tuner --upgrade"
   ]
  },
  {
   "cell_type": "markdown",
   "id": "99ce9bfc-38b6-42a2-b4b1-81015e19c2a4",
   "metadata": {
    "tags": []
   },
   "source": [
    "##### Import Packages"
   ]
  },
  {
   "cell_type": "code",
   "execution_count": 2,
   "id": "c2dacf9d-9826-4e3e-b101-40a766867b79",
   "metadata": {
    "tags": []
   },
   "outputs": [
    {
     "name": "stderr",
     "output_type": "stream",
     "text": [
      "2023-12-17 22:46:00.312416: I tensorflow/core/util/port.cc:110] oneDNN custom operations are on. You may see slightly different numerical results due to floating-point round-off errors from different computation orders. To turn them off, set the environment variable `TF_ENABLE_ONEDNN_OPTS=0`.\n",
      "2023-12-17 22:46:00.368591: I tensorflow/core/platform/cpu_feature_guard.cc:182] This TensorFlow binary is optimized to use available CPU instructions in performance-critical operations.\n",
      "To enable the following instructions: SSE4.1 SSE4.2 AVX AVX2 AVX512F AVX512_VNNI FMA, in other operations, rebuild TensorFlow with the appropriate compiler flags.\n"
     ]
    }
   ],
   "source": [
    "import os\n",
    "import xarray as xr\n",
    "import copernicus_marine_client as copernicusmarine\n",
    "\n",
    "import numpy as np\n",
    "import pandas as pd\n",
    "import matplotlib.pyplot as plt\n",
    "from glob import glob\n",
    "\n",
    "import tensorflow as tf\n",
    "from tensorflow import keras\n",
    "from tensorflow.keras.models import Model, load_model\n",
    "from tensorflow.keras.layers import *\n",
    "from tensorflow.keras import Sequential\n",
    "from tensorflow.keras.regularizers import l1_l2\n",
    "import keras_tuner"
   ]
  },
  {
   "cell_type": "markdown",
   "id": "9b025463-ad45-468f-965b-79bfae57ce4a",
   "metadata": {
    "tags": []
   },
   "source": [
    "##### Download Related Data  \n",
    "- Download data from source website form two dataset_id\n",
    "- Merge two dataset"
   ]
  },
  {
   "cell_type": "code",
   "execution_count": 3,
   "id": "deb6e527-4534-4d4c-b344-9f1d24dcec0a",
   "metadata": {
    "tags": []
   },
   "outputs": [
    {
     "name": "stdout",
     "output_type": "stream",
     "text": [
      "File /home/jovyan/.copernicus-marine-client/.copernicus-marine-credentials already exists, overwrite it ? [y/N]:"
     ]
    },
    {
     "name": "stdin",
     "output_type": "stream",
     "text": [
      "  y\n"
     ]
    },
    {
     "name": "stdout",
     "output_type": "stream",
     "text": [
      "INFO - 2023-12-17T22:46:04Z - Credentials file stored in /home/jovyan/.copernicus-marine-client/.copernicus-marine-credentials.\n",
      "down\n"
     ]
    }
   ],
   "source": [
    "#Download data from source website: there are two dataset_id\n",
    "copernicusmarine.login(\"xfeng4\",\"Sf1260358662@\")\n",
    "\n",
    "data_variables = [\"sithick\",\"siconc\",\"thetao\",\"bottomT\",\"so\", \"usi\", \"vsi\",\"uo\",\"vo\"] #field name in dataset\n",
    "\n",
    "cwd = os.getcwd()\n",
    "folder = \"sea ice thickness dataset\"\n",
    "site = \"greenland\"\n",
    "folder_path = os.path.join(cwd, folder, site) #folder to store raw data\n",
    "os.makedirs(folder_path, exist_ok=True) \n",
    "\n",
    "#First dataset ID\n",
    "for var in data_variables:\n",
    "    output_file = os.path.join(folder_path, f\"{var}_id1.nc\")\n",
    "    if os.path.exists(output_file):\n",
    "        pass\n",
    "    else:\n",
    "        copernicusmarine.subset(\n",
    "          dataset_id=\"cmems_mod_glo_phy_my_0.083deg_P1D-m\",\n",
    "          variables=[var],\n",
    "          minimum_longitude=-58.133,\n",
    "          maximum_longitude=-57.718,\n",
    "          minimum_latitude=82.892,\n",
    "          maximum_latitude=83.307,\n",
    "          start_datetime=\"1993-01-01T00:00:00\",\n",
    "          end_datetime=\"2021-06-30T23:59:59\",\n",
    "          output_filename=output_file)\n",
    "\n",
    "#Second dataset ID\n",
    "for var in data_variables:\n",
    "    output_file = os.path.join(folder_path, f\"{var}_id2.nc\")\n",
    "    if os.path.exists(output_file):\n",
    "        pass\n",
    "    else:\n",
    "        copernicusmarine.subset(\n",
    "          dataset_id=\"cmems_mod_glo_phy_myint_0.083deg_P1D-m\",\n",
    "          variables=[var],\n",
    "          minimum_longitude=-58.133,\n",
    "          maximum_longitude=-57.718,\n",
    "          minimum_latitude=82.892,\n",
    "          maximum_latitude=83.307,\n",
    "          start_datetime=\"2021-07-01T00:00:00\",\n",
    "          end_datetime=\"2023-07-31T23:59:59\",\n",
    "          output_filename=os.path.join(folder_path, f\"{var}_id2.nc\"))\n",
    "        \n",
    "print(\"down\")"
   ]
  },
  {
   "cell_type": "code",
   "execution_count": 4,
   "id": "2bb54ea9-9f23-49df-95b2-2de9939afa31",
   "metadata": {
    "tags": []
   },
   "outputs": [
    {
     "name": "stdout",
     "output_type": "stream",
     "text": [
      "down\n"
     ]
    }
   ],
   "source": [
    "#Merge two dataset\n",
    "os.makedirs(os.path.join(folder_path, \"Merged\"), exist_ok=True) \n",
    "\n",
    "for var in data_variables:\n",
    "    output_file = os.path.join(folder_path, \"Merged\", f\"{var}_merged.nc\")\n",
    "    if os.path.exists(output_file):\n",
    "        pass\n",
    "    else:\n",
    "        data_id1_file = os.path.join(folder_path, f\"{var}_id1.nc\")\n",
    "        data_id2_file = os.path.join(folder_path, f\"{var}_id2.nc\")\n",
    "        data_id1_xr = xr.open_dataset(data_id1_file)\n",
    "        data_id2_xr = xr.open_dataset(data_id2_file)\n",
    "        data_xr = xr.merge([data_id1_xr, data_id2_xr])\n",
    "        data_file = os.path.join(folder_path, \"Merged\", f\"{var}_merged.nc\")\n",
    "        data_xr.to_netcdf(data_file)\n",
    "        \n",
    "print(\"down\")"
   ]
  },
  {
   "cell_type": "markdown",
   "id": "19826406-26dc-4dce-ab40-69bdb3eb2e3b",
   "metadata": {
    "tags": []
   },
   "source": [
    "#### Process Data\n",
    "- read as xarray, drop \"depth\" dimension, and merge xrray\n",
    "- normalization\n",
    "- shape as (n_time_points, n_lat, n_lon, n_features), which can feed into NN, CNN\n",
    "- shape as (n_time_points, time_steps, n_lat, n_longtitude, n_features), which can feed into LSTM, and CNN-LSTM"
   ]
  },
  {
   "cell_type": "markdown",
   "id": "9874809b-ea77-4b18-a403-f41bdd93c1c4",
   "metadata": {},
   "source": [
    "##### Read as xarray, drop \"depth\" dimension, and merge xarray"
   ]
  },
  {
   "cell_type": "code",
   "execution_count": 51,
   "id": "e6b57ecc-19de-4b23-800a-083c4a63c8e4",
   "metadata": {
    "tags": []
   },
   "outputs": [
    {
     "name": "stderr",
     "output_type": "stream",
     "text": [
      "/srv/conda/envs/notebook/lib/python3.10/site-packages/xarray/core/utils.py:494: FutureWarning: The return type of `Dataset.dims` will be changed to return a set of dimension names in future, in order to be more consistent with `DataArray.dims`. To access a mapping from dimension names to lengths, please use `Dataset.sizes`.\n",
      "  warnings.warn(\n"
     ]
    }
   ],
   "source": [
    "cwd = os.getcwd()\n",
    "folder = \"sea ice thickness dataset\"\n",
    "site = \"greenland\"\n",
    "folder_path = os.path.join(cwd, folder, site)  # Folder to store raw data\n",
    "\n",
    "# Extract training_data\n",
    "training_data = {}\n",
    "for var in data_variables:\n",
    "    data_file = os.path.join(folder_path, \"Merged\", f\"{var}_merged.nc\")\n",
    "    selection_dataset = xr.open_dataset(data_file)\n",
    "    selection_dataset_time = selection_dataset.sel(time=slice('1993-01-01', '2018-12-31'))\n",
    "\n",
    "    # Assuming 'data_var' should be 'var' here\n",
    "    if 'depth' in selection_dataset_time[var].dims:\n",
    "        # Average over the 'depth' dimension\n",
    "        selection_dataset_time[var] = selection_dataset_time[var].mean(dim='depth')\n",
    "        selection_dataset_time = selection_dataset_time.drop_vars(\"depth\")\n",
    "        check_nans = selection_dataset_time[var].isnull().any()\n",
    "        if check_nans:\n",
    "            selection_dataset_time[var] = selection_dataset_time[var].interpolate_na(dim='time')\n",
    "    else:\n",
    "        # 'depth' is not a dimension\n",
    "        check_nans = selection_dataset_time[var].isnull().any()\n",
    "        if check_nans:\n",
    "            selection_dataset_time[var] = selection_dataset_time[var].interpolate_na(dim='time')\n",
    "\n",
    "    training_data[var] = selection_dataset_time\n",
    "    \n",
    "dimensions = None\n",
    "for var, dataset in training_data.items():\n",
    "    if dimensions is None:\n",
    "        dimensions = dataset.dims\n",
    "    elif dimensions != dataset.dims:\n",
    "        raise ValueError(f\"Dimension mismatch in variable {var}\")\n",
    "\n",
    "train = xr.merge([training_data[var] for var in data_variables])\n",
    " \n",
    "x_train_xr = train[[\"siconc\", \"thetao\", \"bottomT\", \"so\", \"usi\", \"vsi\", \"uo\", \"vo\"]]\n",
    "y_train_xr = train[\"sithick\"]"
   ]
  },
  {
   "cell_type": "code",
   "execution_count": 52,
   "id": "0466ad8a-0ce7-44b3-85af-4caa40d27125",
   "metadata": {
    "tags": []
   },
   "outputs": [
    {
     "name": "stderr",
     "output_type": "stream",
     "text": [
      "/srv/conda/envs/notebook/lib/python3.10/site-packages/xarray/core/utils.py:494: FutureWarning: The return type of `Dataset.dims` will be changed to return a set of dimension names in future, in order to be more consistent with `DataArray.dims`. To access a mapping from dimension names to lengths, please use `Dataset.sizes`.\n",
      "  warnings.warn(\n"
     ]
    }
   ],
   "source": [
    "# Extract testing_data\n",
    "testing_data = {}\n",
    "for var in data_variables:\n",
    "    data_file = os.path.join(folder_path, \"Merged\", f\"{var}_merged.nc\")\n",
    "    selection_dataset = xr.open_dataset(data_file)\n",
    "    selection_dataset_time = selection_dataset.sel(time=slice('2019-01-01', '2023-07-31'))\n",
    "\n",
    "    # Assuming 'data_var' should be 'var' here\n",
    "    if 'depth' in selection_dataset_time[var].dims:\n",
    "        # Average over the 'depth' dimension\n",
    "        selection_dataset_time[var] = selection_dataset_time[var].mean(dim='depth')\n",
    "        selection_dataset_time = selection_dataset_time.drop_vars(\"depth\")\n",
    "        check_nans = selection_dataset_time[var].isnull().any()\n",
    "        if check_nans:\n",
    "            selection_dataset_time[var] = selection_dataset_time[var].interpolate_na(dim='time')\n",
    "    else:\n",
    "        # 'depth' is not a dimension\n",
    "        check_nans = selection_dataset_time[var].isnull().any()\n",
    "        if check_nans:\n",
    "            selection_dataset_time[var] = selection_dataset_time[var].interpolate_na(dim='time')\n",
    "\n",
    "    testing_data[var] = selection_dataset_time\n",
    "    \n",
    "# Check dimensions\n",
    "dimensions = None\n",
    "for var, dataset in testing_data.items():\n",
    "    if dimensions is None:\n",
    "        dimensions = dataset.dims\n",
    "    elif dimensions != dataset.dims:\n",
    "        raise ValueError(f\"Dimension mismatch in variable {var}\")\n",
    "\n",
    "test = xr.merge([testing_data[var] for var in data_variables])\n",
    "\n",
    "x_test_xr = test[[\"siconc\", \"thetao\", \"bottomT\", \"so\", \"usi\", \"vsi\", \"uo\", \"vo\"]]\n",
    "y_test_xr = test[\"sithick\"]"
   ]
  },
  {
   "cell_type": "markdown",
   "id": "2b5639fb-0cee-450b-9e69-ec81421b1c42",
   "metadata": {
    "tags": []
   },
   "source": [
    "##### Normalization"
   ]
  },
  {
   "cell_type": "code",
   "execution_count": 53,
   "id": "b742e8ac-39ed-40a4-ab30-530dc38c0eb3",
   "metadata": {
    "tags": []
   },
   "outputs": [],
   "source": [
    "meanstd_inputs = {}\n",
    "predictors = [\"siconc\", \"thetao\", \"bottomT\", \"so\", \"usi\", \"vsi\", \"uo\", \"vo\"]\n",
    "\n",
    "def normalize(data, var, meanstd_dict):\n",
    "    mean = meanstd_dict[var][0]\n",
    "    std = meanstd_dict[var][1]\n",
    "    return (data - mean)/std\n",
    "\n",
    "for var in predictors:\n",
    "    meanstd_inputs[var] = (x_train_xr[var].data.mean(), x_train_xr[var].data.std())\n",
    "    \n",
    "# normalize each variables\n",
    "for var in predictors:\n",
    "    # training set\n",
    "    var_dims   = x_train_xr[var].dims\n",
    "    x_train_xr = x_train_xr.assign({var: (var_dims, normalize(x_train_xr[var].data, var, meanstd_inputs))})\n",
    "    \n",
    "    # test set\n",
    "    var_dims  = x_test_xr[var].dims\n",
    "    x_test_xr = x_test_xr.assign({var: (var_dims, normalize(x_test_xr[var].data, var, meanstd_inputs))})"
   ]
  },
  {
   "cell_type": "code",
   "execution_count": 54,
   "id": "0db79ddd-c1c7-4021-b943-ef144128d77c",
   "metadata": {
    "tags": []
   },
   "outputs": [],
   "source": [
    "x_train_np  = x_train_xr.to_array().transpose('time', 'latitude', 'longitude', 'variable').data\n",
    "x_test_np  = x_test_xr.to_array().transpose('time', 'latitude', 'longitude', 'variable').data\n",
    "\n",
    "y_train_np = y_train_xr.data\n",
    "y_test_np = y_test_xr.data"
   ]
  },
  {
   "cell_type": "code",
   "execution_count": 55,
   "id": "34a59cf2-54f6-455c-b2c2-c0739153e77b",
   "metadata": {
    "tags": []
   },
   "outputs": [
    {
     "name": "stdout",
     "output_type": "stream",
     "text": [
      "(9496, 5, 5, 8) (1673, 5, 5, 8) (9496, 5, 5) (1673, 5, 5)\n"
     ]
    }
   ],
   "source": [
    "print(x_train_np.shape, x_test_np.shape, y_train_np.shape, y_test_np.shape)"
   ]
  },
  {
   "cell_type": "markdown",
   "id": "ea9d66fe-4ad3-4ddb-8766-31a8a4140878",
   "metadata": {
    "tags": []
   },
   "source": [
    "#### 3. Train the model\n",
    "- NN\n",
    "- NN + keras_tuner, always excess the limit\n",
    "- CNN + keras_tuner\n",
    "- LSTM + keras_tuner\n",
    "- CNN LSTM + keras_tuner  \n",
    "*how to do feature selection?*"
   ]
  },
  {
   "cell_type": "markdown",
   "id": "b945ad29-11b1-4b44-9b4f-10877eb75985",
   "metadata": {
    "jp-MarkdownHeadingCollapsed": true,
    "tags": []
   },
   "source": [
    "##### NN"
   ]
  },
  {
   "cell_type": "code",
   "execution_count": 12,
   "id": "15532ce2-9dd0-40f8-b5b9-5e01757d09c7",
   "metadata": {
    "tags": []
   },
   "outputs": [],
   "source": [
    "x_train_flattened = x_train_np.reshape(x_train_np.shape[0], -1)  # x_train.shape[0] is the number of samples\n",
    "y_train_flattened = y_train_np.reshape(y_train_np.shape[0], -1)"
   ]
  },
  {
   "cell_type": "code",
   "execution_count": 13,
   "id": "322d956e-2064-41d7-af42-09b915266650",
   "metadata": {
    "tags": []
   },
   "outputs": [],
   "source": [
    "n_neuron       = 64 #the number of n_neuron\n",
    "activation     = 'relu' #activation methods\n",
    "num_epochs     = 50 #go through how many times weight adjusted\n",
    "learning_rate  = 0.001 #related to optimize\n",
    "minibatch_size = 64 #the way to optimize\n",
    "model_num      = 1\n",
    "N_layers       = 2 # number of hidden layers"
   ]
  },
  {
   "cell_type": "code",
   "execution_count": 17,
   "id": "f23bc1e2-6ec5-45c6-89b3-16c155fc4da1",
   "metadata": {
    "tags": []
   },
   "outputs": [
    {
     "name": "stdout",
     "output_type": "stream",
     "text": [
      "Model: \"sequential_1\"\n",
      "_________________________________________________________________\n",
      " Layer (type)                Output Shape              Param #   \n",
      "=================================================================\n",
      " hidden_layer_1 (Dense)      (None, 64)                12864     \n",
      "                                                                 \n",
      " hidden_layer_2 (Dense)      (None, 64)                4160      \n",
      "                                                                 \n",
      " output_layer (Dense)        (None, 25)                1625      \n",
      "                                                                 \n",
      "=================================================================\n",
      "Total params: 18,649\n",
      "Trainable params: 18,649\n",
      "Non-trainable params: 0\n",
      "_________________________________________________________________\n"
     ]
    }
   ],
   "source": [
    "model_mse = Sequential()\n",
    "model_mse.add(Dense(n_neuron,  activation=activation, name=\"hidden_layer_1\" ,input_shape=(x_train_flattened.shape[1],)))\n",
    "for n in range(N_layers-1):\n",
    "    model_mse.add(Dense(n_neuron,  activation=activation, name=\"hidden_layer_\"+str(n+2))) \n",
    "model_mse.add(Dense(y_train_flattened.shape[1],  activation='linear', name=\"output_layer\")) # the output layer\n",
    "model_mse.compile(loss='mae',optimizer=tf.keras.optimizers.Adam(learning_rate=learning_rate))\n",
    "model_mse.summary()"
   ]
  },
  {
   "cell_type": "code",
   "execution_count": 18,
   "id": "2abbdf11-5e7e-4f13-910a-695c5cc2aa1d",
   "metadata": {
    "tags": []
   },
   "outputs": [
    {
     "name": "stdout",
     "output_type": "stream",
     "text": [
      "Epoch 1/50\n",
      "119/119 [==============================] - 1s 4ms/step - loss: 1.4023 - val_loss: 0.6037\n",
      "Epoch 2/50\n",
      "119/119 [==============================] - 0s 3ms/step - loss: 0.3612 - val_loss: 0.6580\n",
      "Epoch 3/50\n",
      "119/119 [==============================] - 0s 2ms/step - loss: 0.3234 - val_loss: 0.6044\n",
      "Epoch 4/50\n",
      "119/119 [==============================] - 0s 3ms/step - loss: 0.2914 - val_loss: 0.5629\n",
      "Epoch 5/50\n",
      "119/119 [==============================] - 0s 4ms/step - loss: 0.2705 - val_loss: 0.4958\n",
      "Epoch 6/50\n",
      "119/119 [==============================] - 0s 3ms/step - loss: 0.2494 - val_loss: 0.4871\n",
      "Epoch 7/50\n",
      "119/119 [==============================] - 0s 3ms/step - loss: 0.2362 - val_loss: 0.6261\n",
      "Epoch 8/50\n",
      "119/119 [==============================] - 0s 3ms/step - loss: 0.2267 - val_loss: 0.6305\n",
      "Epoch 9/50\n",
      "119/119 [==============================] - 0s 2ms/step - loss: 0.2145 - val_loss: 0.6736\n",
      "Epoch 10/50\n",
      "119/119 [==============================] - 0s 2ms/step - loss: 0.2187 - val_loss: 0.7621\n",
      "Epoch 11/50\n",
      "119/119 [==============================] - 0s 3ms/step - loss: 0.2009 - val_loss: 0.6573\n",
      "Epoch 12/50\n",
      "119/119 [==============================] - 0s 3ms/step - loss: 0.1983 - val_loss: 0.6785\n",
      "Epoch 13/50\n",
      "119/119 [==============================] - 0s 3ms/step - loss: 0.1972 - val_loss: 0.6027\n",
      "Epoch 14/50\n",
      "119/119 [==============================] - 0s 3ms/step - loss: 0.1867 - val_loss: 0.5611\n",
      "Epoch 15/50\n",
      "119/119 [==============================] - 0s 2ms/step - loss: 0.1856 - val_loss: 0.5453\n",
      "Epoch 16/50\n",
      "119/119 [==============================] - 0s 3ms/step - loss: 0.1804 - val_loss: 0.5481\n",
      "Epoch 17/50\n",
      "119/119 [==============================] - 0s 3ms/step - loss: 0.1812 - val_loss: 0.4818\n",
      "Epoch 18/50\n",
      "119/119 [==============================] - 0s 3ms/step - loss: 0.1777 - val_loss: 0.4953\n",
      "Epoch 19/50\n",
      "119/119 [==============================] - 0s 3ms/step - loss: 0.1728 - val_loss: 0.4738\n",
      "Epoch 20/50\n",
      "119/119 [==============================] - 0s 3ms/step - loss: 0.1665 - val_loss: 0.4785\n",
      "Epoch 21/50\n",
      "119/119 [==============================] - 0s 3ms/step - loss: 0.1682 - val_loss: 0.4702\n",
      "Epoch 22/50\n",
      "119/119 [==============================] - 0s 3ms/step - loss: 0.1625 - val_loss: 0.5098\n",
      "Epoch 23/50\n",
      "119/119 [==============================] - 0s 2ms/step - loss: 0.1640 - val_loss: 0.5088\n",
      "Epoch 24/50\n",
      "119/119 [==============================] - 0s 3ms/step - loss: 0.1647 - val_loss: 0.5097\n",
      "Epoch 25/50\n",
      "119/119 [==============================] - 0s 3ms/step - loss: 0.1588 - val_loss: 0.5058\n",
      "Epoch 26/50\n",
      "119/119 [==============================] - 0s 3ms/step - loss: 0.1558 - val_loss: 0.4902\n",
      "Epoch 27/50\n",
      "119/119 [==============================] - 0s 3ms/step - loss: 0.1499 - val_loss: 0.4949\n",
      "Epoch 28/50\n",
      "119/119 [==============================] - 0s 3ms/step - loss: 0.1512 - val_loss: 0.4500\n",
      "Epoch 29/50\n",
      "119/119 [==============================] - 0s 3ms/step - loss: 0.1509 - val_loss: 0.5066\n",
      "Epoch 30/50\n",
      "119/119 [==============================] - 0s 2ms/step - loss: 0.1493 - val_loss: 0.4555\n",
      "Epoch 31/50\n",
      "119/119 [==============================] - 0s 3ms/step - loss: 0.1471 - val_loss: 0.5108\n",
      "Epoch 32/50\n",
      "119/119 [==============================] - 0s 3ms/step - loss: 0.1432 - val_loss: 0.5046\n",
      "Epoch 33/50\n",
      "119/119 [==============================] - 0s 3ms/step - loss: 0.1425 - val_loss: 0.4157\n",
      "Epoch 34/50\n",
      "119/119 [==============================] - 0s 3ms/step - loss: 0.1435 - val_loss: 0.4304\n",
      "Epoch 35/50\n",
      "119/119 [==============================] - 0s 3ms/step - loss: 0.1413 - val_loss: 0.4856\n",
      "Epoch 36/50\n",
      "119/119 [==============================] - 0s 3ms/step - loss: 0.1360 - val_loss: 0.4524\n",
      "Epoch 37/50\n",
      "119/119 [==============================] - 0s 3ms/step - loss: 0.1367 - val_loss: 0.5163\n",
      "Epoch 38/50\n",
      "119/119 [==============================] - 0s 3ms/step - loss: 0.1319 - val_loss: 0.4290\n",
      "Epoch 39/50\n",
      "119/119 [==============================] - 0s 3ms/step - loss: 0.1334 - val_loss: 0.4390\n",
      "Epoch 40/50\n",
      "119/119 [==============================] - 0s 3ms/step - loss: 0.1318 - val_loss: 0.4369\n",
      "Epoch 41/50\n",
      "119/119 [==============================] - 0s 3ms/step - loss: 0.1304 - val_loss: 0.4296\n",
      "Epoch 42/50\n",
      "119/119 [==============================] - 0s 3ms/step - loss: 0.1274 - val_loss: 0.4538\n",
      "Epoch 43/50\n",
      "119/119 [==============================] - 0s 3ms/step - loss: 0.1279 - val_loss: 0.4682\n",
      "Epoch 44/50\n",
      "119/119 [==============================] - 0s 3ms/step - loss: 0.1317 - val_loss: 0.4737\n",
      "Epoch 45/50\n",
      "119/119 [==============================] - 0s 3ms/step - loss: 0.1305 - val_loss: 0.4264\n",
      "Epoch 46/50\n",
      "119/119 [==============================] - 0s 2ms/step - loss: 0.1251 - val_loss: 0.4727\n",
      "Epoch 47/50\n",
      "119/119 [==============================] - 0s 3ms/step - loss: 0.1224 - val_loss: 0.4148\n",
      "Epoch 48/50\n",
      "119/119 [==============================] - 0s 3ms/step - loss: 0.1261 - val_loss: 0.4339\n",
      "Epoch 49/50\n",
      "119/119 [==============================] - 0s 3ms/step - loss: 0.1288 - val_loss: 0.4530\n",
      "Epoch 50/50\n",
      "119/119 [==============================] - 0s 3ms/step - loss: 0.1261 - val_loss: 0.4397\n"
     ]
    }
   ],
   "source": [
    "early_stop = keras.callbacks.EarlyStopping(monitor='val_loss', patience=20)\n",
    "\n",
    "### train NN models\n",
    "history_mse = model_mse.fit(x_train_flattened, y_train_flattened, \n",
    "                            batch_size      = minibatch_size,\n",
    "                            epochs          = num_epochs,\n",
    "                            validation_split= 0.2, \n",
    "                            verbose         = 1,\n",
    "                            callbacks       = [early_stop])"
   ]
  },
  {
   "cell_type": "code",
   "execution_count": 19,
   "id": "433a2506-3a89-4ba7-86aa-abbcb63aa9f7",
   "metadata": {
    "tags": []
   },
   "outputs": [
    {
     "data": {
      "text/plain": [
       "<matplotlib.legend.Legend at 0x78abe8e0bd60>"
      ]
     },
     "execution_count": 19,
     "metadata": {},
     "output_type": "execute_result"
    },
    {
     "data": {
      "image/png": "[encoded data removed]",
      "text/plain": [
       "<Figure size 640x480 with 1 Axes>"
      ]
     },
     "metadata": {},
     "output_type": "display_data"
    }
   ],
   "source": [
    "plt.subplot(2, 2, 1)\n",
    "plt.plot(history_mse.history['loss'])\n",
    "plt.plot(history_mse.history['val_loss'])\n",
    "plt.title('loss: Mean Squared Error', fontsize=12)\n",
    "plt.ylabel('mse')\n",
    "plt.xlabel('Epoch')\n",
    "plt.legend(['Train loss', 'Val loss'], fontsize=10, loc='upper right')"
   ]
  },
  {
   "cell_type": "code",
   "execution_count": 20,
   "id": "33fb1fdc-9c80-4ec7-a08b-47b9c172d8bb",
   "metadata": {
    "tags": []
   },
   "outputs": [],
   "source": [
    "model_path = os.path.join(cwd,'saved_model')\n",
    "os.makedirs(model_path, exist_ok=True)\n",
    "model_mse.save(os.path.join(model_path,'NN_mae_model.h5'))"
   ]
  },
  {
   "cell_type": "markdown",
   "id": "186001d7-ca83-4f1c-b27e-69b460591009",
   "metadata": {
    "jp-MarkdownHeadingCollapsed": true,
    "tags": []
   },
   "source": [
    "##### NN + keras tuner"
   ]
  },
  {
   "cell_type": "code",
   "execution_count": 52,
   "id": "ec104e44-57fa-4258-be6b-c53e58318305",
   "metadata": {
    "tags": []
   },
   "outputs": [],
   "source": [
    "x_train_flattened = x_train.reshape(x_train.shape[0], -1)  # x_train.shape[0] is the number of samples\n",
    "y_train_flattened = y_train.reshape(y_train.shape[0], -1)"
   ]
  },
  {
   "cell_type": "code",
   "execution_count": 65,
   "id": "de753466-42b0-4073-950f-cd2140c52af3",
   "metadata": {
    "tags": []
   },
   "outputs": [],
   "source": [
    "N_layers = 2\n",
    "minibatch_size = 64\n",
    "num_epochs = 80\n",
    "\n",
    "def NN_model(hp):\n",
    "    # options for hyperparameters\n",
    "    hp_neuron = hp.Choice('neurons', values=[16, 32])\n",
    "    hp_kernel_size = hp.Choice('kernel_size', values=[2, 3, 4, 5])\n",
    "    hp_activation = hp.Choice('activation', values=['relu', 'tanh', 'sigmoid'])\n",
    "    hp_learning_rate = hp.Choice('learning_rate', values=[1e-2, 1e-3, 1e-4, 1e-5])\n",
    "    \n",
    "    model_mse = Sequential()\n",
    "    model_mse.add(Dense(hp_neuron*x_train_flattened.shape[1],  activation=hp_activation, name=\"hidden_layer_1\" ,input_shape=(x_train_flattened.shape[1],)))\n",
    "    for n in range(N_layers-1):\n",
    "        model_mse.add(Dense(hp_neuron*x_train_flattened.shape[1],  activation=activation, name=\"hidden_layer_\"+str(n+2))) \n",
    "    model_mse.add(Dense(y_train_flattened.shape[1],  activation='linear', name=\"output_layer\")) # the output layer\n",
    "    model_mse.compile(loss=\"mse\",optimizer=tf.keras.optimizers.Adam(learning_rate=learning_rate))\n",
    "    model_mse.summary()\n",
    "    return model"
   ]
  },
  {
   "cell_type": "code",
   "execution_count": 67,
   "id": "d8eff8e8-b188-4da1-a0e3-8aecb0abf97e",
   "metadata": {
    "tags": []
   },
   "outputs": [
    {
     "name": "stdout",
     "output_type": "stream",
     "text": [
      "Reloading Tuner from random_search_NN/random_search_NN_10trials/tuner0.json\n",
      "\n",
      "Search: Running Trial #5\n",
      "\n",
      "Value             |Best Value So Far |Hyperparameter\n",
      "32                |64                |filters\n",
      "4                 |3                 |kernel_size\n",
      "tanh              |tanh              |activation\n",
      "0.01              |0.01              |learning_rate\n",
      "mae               |mae               |loss\n",
      "\n",
      "Model: \"sequential\"\n",
      "_________________________________________________________________\n",
      " Layer (type)                Output Shape              Param #   \n",
      "=================================================================\n",
      " hidden_layer_1 (Dense)      (None, 3200)              643200    \n",
      "                                                                 \n",
      " hidden_layer_2 (Dense)      (None, 3200)              10243200  \n",
      "                                                                 \n",
      " output_layer (Dense)        (None, 25)                80025     \n",
      "                                                                 \n",
      "=================================================================\n",
      "Total params: 10,966,425\n",
      "Trainable params: 10,966,425\n",
      "Non-trainable params: 0\n",
      "_________________________________________________________________\n"
     ]
    },
    {
     "name": "stderr",
     "output_type": "stream",
     "text": [
      "Traceback (most recent call last):\n",
      "  File \"/srv/conda/envs/notebook/lib/python3.10/site-packages/keras_tuner/src/engine/base_tuner.py\", line 273, in _try_run_and_update_trial\n",
      "    self._run_and_update_trial(trial, *fit_args, **fit_kwargs)\n",
      "  File \"/srv/conda/envs/notebook/lib/python3.10/site-packages/keras_tuner/src/engine/base_tuner.py\", line 238, in _run_and_update_trial\n",
      "    results = self.run_trial(trial, *fit_args, **fit_kwargs)\n",
      "  File \"/srv/conda/envs/notebook/lib/python3.10/site-packages/keras_tuner/src/engine/tuner.py\", line 314, in run_trial\n",
      "    obj_value = self._build_and_fit_model(trial, *args, **copied_kwargs)\n",
      "  File \"/srv/conda/envs/notebook/lib/python3.10/site-packages/keras_tuner/src/engine/tuner.py\", line 232, in _build_and_fit_model\n",
      "    model = self._try_build(hp)\n",
      "  File \"/srv/conda/envs/notebook/lib/python3.10/site-packages/keras_tuner/src/engine/tuner.py\", line 164, in _try_build\n",
      "    model = self._build_hypermodel(hp)\n",
      "  File \"/srv/conda/envs/notebook/lib/python3.10/site-packages/keras_tuner/src/engine/tuner.py\", line 155, in _build_hypermodel\n",
      "    model = self.hypermodel.build(hp)\n",
      "  File \"/tmp/ipykernel_12246/1593225579.py\", line 20, in NN_model\n",
      "    return model\n",
      "NameError: name 'model' is not defined\n"
     ]
    },
    {
     "ename": "RuntimeError",
     "evalue": "Number of consecutive failures exceeded the limit of 3.\nTraceback (most recent call last):\n  File \"/srv/conda/envs/notebook/lib/python3.10/site-packages/keras_tuner/src/engine/base_tuner.py\", line 273, in _try_run_and_update_trial\n    self._run_and_update_trial(trial, *fit_args, **fit_kwargs)\n  File \"/srv/conda/envs/notebook/lib/python3.10/site-packages/keras_tuner/src/engine/base_tuner.py\", line 238, in _run_and_update_trial\n    results = self.run_trial(trial, *fit_args, **fit_kwargs)\n  File \"/srv/conda/envs/notebook/lib/python3.10/site-packages/keras_tuner/src/engine/tuner.py\", line 314, in run_trial\n    obj_value = self._build_and_fit_model(trial, *args, **copied_kwargs)\n  File \"/srv/conda/envs/notebook/lib/python3.10/site-packages/keras_tuner/src/engine/tuner.py\", line 233, in _build_and_fit_model\n    results = self.hypermodel.fit(hp, model, *args, **kwargs)\n  File \"/srv/conda/envs/notebook/lib/python3.10/site-packages/keras_tuner/src/engine/hypermodel.py\", line 149, in fit\n    return model.fit(*args, **kwargs)\n  File \"/srv/conda/envs/notebook/lib/python3.10/site-packages/keras/utils/traceback_utils.py\", line 70, in error_handler\n    raise e.with_traceback(filtered_tb) from None\n  File \"/srv/conda/envs/notebook/lib/python3.10/site-packages/keras/engine/data_adapter.py\", line 1668, in train_validation_split\n    raise ValueError(\nValueError: `validation_split` is only supported for Tensors or NumPy arrays, found following types in the input: [<class 'xarray.core.dataarray.DataArray'>, <class 'xarray.core.dataarray.DataArray'>, <class 'xarray.core.dataarray.DataArray'>, <class 'xarray.core.dataarray.DataArray'>, <class 'xarray.core.dataarray.DataArray'>, <class 'xarray.core.dataarray.DataArray'>, <class 'xarray.core.dataarray.DataArray'>, <class 'xarray.core.dataarray.DataArray'>, <class 'xarray.core.dataarray.DataArray'>]\n",
     "output_type": "error",
     "traceback": [
      "\u001b[0;31m---------------------------------------------------------------------------\u001b[0m",
      "\u001b[0;31mRuntimeError\u001b[0m                              Traceback (most recent call last)",
      "Cell \u001b[0;32mIn[67], line 11\u001b[0m\n\u001b[1;32m      1\u001b[0m random_tuner \u001b[38;5;241m=\u001b[39m keras_tuner\u001b[38;5;241m.\u001b[39mRandomSearch(NN_model, \n\u001b[1;32m      2\u001b[0m                                         max_trials\u001b[38;5;241m=\u001b[39mn_trials,\n\u001b[1;32m      3\u001b[0m                                         seed\u001b[38;5;241m=\u001b[39m\u001b[38;5;241m5\u001b[39m,\n\u001b[0;32m   (...)\u001b[0m\n\u001b[1;32m      6\u001b[0m                                         directory\u001b[38;5;241m=\u001b[39m\u001b[38;5;124m'\u001b[39m\u001b[38;5;124mrandom_search_NN\u001b[39m\u001b[38;5;124m'\u001b[39m, \n\u001b[1;32m      7\u001b[0m                                         project_name\u001b[38;5;241m=\u001b[39m\u001b[38;5;124m'\u001b[39m\u001b[38;5;124mrandom_search_NN_10trials\u001b[39m\u001b[38;5;124m'\u001b[39m)\n\u001b[1;32m      9\u001b[0m early_stop \u001b[38;5;241m=\u001b[39m keras\u001b[38;5;241m.\u001b[39mcallbacks\u001b[38;5;241m.\u001b[39mEarlyStopping(monitor\u001b[38;5;241m=\u001b[39m\u001b[38;5;124m'\u001b[39m\u001b[38;5;124mval_loss\u001b[39m\u001b[38;5;124m'\u001b[39m, patience\u001b[38;5;241m=\u001b[39m\u001b[38;5;241m10\u001b[39m)\n\u001b[0;32m---> 11\u001b[0m \u001b[43mrandom_tuner\u001b[49m\u001b[38;5;241;43m.\u001b[39;49m\u001b[43msearch\u001b[49m\u001b[43m(\u001b[49m\u001b[43mx_train_flattened\u001b[49m\u001b[43m,\u001b[49m\u001b[43m \u001b[49m\u001b[43my_train_flattened\u001b[49m\u001b[43m,\u001b[49m\n\u001b[1;32m     12\u001b[0m \u001b[43m                    \u001b[49m\u001b[43mbatch_size\u001b[49m\u001b[43m \u001b[49m\u001b[38;5;241;43m=\u001b[39;49m\u001b[43m \u001b[49m\u001b[43mminibatch_size\u001b[49m\u001b[43m,\u001b[49m\n\u001b[1;32m     13\u001b[0m \u001b[43m                    \u001b[49m\u001b[43mepochs\u001b[49m\u001b[43m \u001b[49m\u001b[38;5;241;43m=\u001b[39;49m\u001b[43m \u001b[49m\u001b[43mnum_epochs\u001b[49m\u001b[43m,\u001b[49m\u001b[43m \u001b[49m\n\u001b[1;32m     14\u001b[0m \u001b[43m                    \u001b[49m\u001b[43mvalidation_split\u001b[49m\u001b[43m \u001b[49m\u001b[38;5;241;43m=\u001b[39;49m\u001b[43m \u001b[49m\u001b[38;5;241;43m0.2\u001b[39;49m\u001b[43m,\u001b[49m\u001b[43m \u001b[49m\n\u001b[1;32m     15\u001b[0m \u001b[43m                    \u001b[49m\u001b[43mcallbacks\u001b[49m\u001b[43m \u001b[49m\u001b[38;5;241;43m=\u001b[39;49m\u001b[43m \u001b[49m\u001b[43m[\u001b[49m\u001b[43mearly_stop\u001b[49m\u001b[43m]\u001b[49m\u001b[43m)\u001b[49m\n",
      "File \u001b[0;32m/srv/conda/envs/notebook/lib/python3.10/site-packages/keras_tuner/src/engine/base_tuner.py:234\u001b[0m, in \u001b[0;36mBaseTuner.search\u001b[0;34m(self, *fit_args, **fit_kwargs)\u001b[0m\n\u001b[1;32m    232\u001b[0m     \u001b[38;5;28mself\u001b[39m\u001b[38;5;241m.\u001b[39mon_trial_begin(trial)\n\u001b[1;32m    233\u001b[0m     \u001b[38;5;28mself\u001b[39m\u001b[38;5;241m.\u001b[39m_try_run_and_update_trial(trial, \u001b[38;5;241m*\u001b[39mfit_args, \u001b[38;5;241m*\u001b[39m\u001b[38;5;241m*\u001b[39mfit_kwargs)\n\u001b[0;32m--> 234\u001b[0m     \u001b[38;5;28;43mself\u001b[39;49m\u001b[38;5;241;43m.\u001b[39;49m\u001b[43mon_trial_end\u001b[49m\u001b[43m(\u001b[49m\u001b[43mtrial\u001b[49m\u001b[43m)\u001b[49m\n\u001b[1;32m    235\u001b[0m \u001b[38;5;28mself\u001b[39m\u001b[38;5;241m.\u001b[39mon_search_end()\n",
      "File \u001b[0;32m/srv/conda/envs/notebook/lib/python3.10/site-packages/keras_tuner/src/engine/base_tuner.py:338\u001b[0m, in \u001b[0;36mBaseTuner.on_trial_end\u001b[0;34m(self, trial)\u001b[0m\n\u001b[1;32m    332\u001b[0m \u001b[38;5;28;01mdef\u001b[39;00m \u001b[38;5;21mon_trial_end\u001b[39m(\u001b[38;5;28mself\u001b[39m, trial):\n\u001b[1;32m    333\u001b[0m \u001b[38;5;250m    \u001b[39m\u001b[38;5;124;03m\"\"\"Called at the end of a trial.\u001b[39;00m\n\u001b[1;32m    334\u001b[0m \n\u001b[1;32m    335\u001b[0m \u001b[38;5;124;03m    Args:\u001b[39;00m\n\u001b[1;32m    336\u001b[0m \u001b[38;5;124;03m        trial: A `Trial` instance.\u001b[39;00m\n\u001b[1;32m    337\u001b[0m \u001b[38;5;124;03m    \"\"\"\u001b[39;00m\n\u001b[0;32m--> 338\u001b[0m     \u001b[38;5;28;43mself\u001b[39;49m\u001b[38;5;241;43m.\u001b[39;49m\u001b[43moracle\u001b[49m\u001b[38;5;241;43m.\u001b[39;49m\u001b[43mend_trial\u001b[49m\u001b[43m(\u001b[49m\u001b[43mtrial\u001b[49m\u001b[43m)\u001b[49m\n\u001b[1;32m    339\u001b[0m     \u001b[38;5;28mself\u001b[39m\u001b[38;5;241m.\u001b[39msave()\n",
      "File \u001b[0;32m/srv/conda/envs/notebook/lib/python3.10/site-packages/keras_tuner/src/engine/oracle.py:108\u001b[0m, in \u001b[0;36msynchronized.<locals>.wrapped_func\u001b[0;34m(*args, **kwargs)\u001b[0m\n\u001b[1;32m    106\u001b[0m     LOCKS[oracle]\u001b[38;5;241m.\u001b[39macquire()\n\u001b[1;32m    107\u001b[0m     THREADS[oracle] \u001b[38;5;241m=\u001b[39m thread_name\n\u001b[0;32m--> 108\u001b[0m ret_val \u001b[38;5;241m=\u001b[39m \u001b[43mfunc\u001b[49m\u001b[43m(\u001b[49m\u001b[38;5;241;43m*\u001b[39;49m\u001b[43margs\u001b[49m\u001b[43m,\u001b[49m\u001b[43m \u001b[49m\u001b[38;5;241;43m*\u001b[39;49m\u001b[38;5;241;43m*\u001b[39;49m\u001b[43mkwargs\u001b[49m\u001b[43m)\u001b[49m\n\u001b[1;32m    109\u001b[0m \u001b[38;5;28;01mif\u001b[39;00m need_acquire:\n\u001b[1;32m    110\u001b[0m     THREADS[oracle] \u001b[38;5;241m=\u001b[39m \u001b[38;5;28;01mNone\u001b[39;00m\n",
      "File \u001b[0;32m/srv/conda/envs/notebook/lib/python3.10/site-packages/keras_tuner/src/engine/oracle.py:586\u001b[0m, in \u001b[0;36mOracle.end_trial\u001b[0;34m(self, trial)\u001b[0m\n\u001b[1;32m    584\u001b[0m \u001b[38;5;28;01mif\u001b[39;00m \u001b[38;5;129;01mnot\u001b[39;00m \u001b[38;5;28mself\u001b[39m\u001b[38;5;241m.\u001b[39m_retry(trial):\n\u001b[1;32m    585\u001b[0m     \u001b[38;5;28mself\u001b[39m\u001b[38;5;241m.\u001b[39mend_order\u001b[38;5;241m.\u001b[39mappend(trial\u001b[38;5;241m.\u001b[39mtrial_id)\n\u001b[0;32m--> 586\u001b[0m     \u001b[38;5;28;43mself\u001b[39;49m\u001b[38;5;241;43m.\u001b[39;49m\u001b[43m_check_consecutive_failures\u001b[49m\u001b[43m(\u001b[49m\u001b[43m)\u001b[49m\n\u001b[1;32m    588\u001b[0m \u001b[38;5;28mself\u001b[39m\u001b[38;5;241m.\u001b[39m_save_trial(trial)\n\u001b[1;32m    589\u001b[0m \u001b[38;5;28mself\u001b[39m\u001b[38;5;241m.\u001b[39msave()\n",
      "File \u001b[0;32m/srv/conda/envs/notebook/lib/python3.10/site-packages/keras_tuner/src/engine/oracle.py:543\u001b[0m, in \u001b[0;36mOracle._check_consecutive_failures\u001b[0;34m(self)\u001b[0m\n\u001b[1;32m    541\u001b[0m     consecutive_failures \u001b[38;5;241m=\u001b[39m \u001b[38;5;241m0\u001b[39m\n\u001b[1;32m    542\u001b[0m \u001b[38;5;28;01mif\u001b[39;00m consecutive_failures \u001b[38;5;241m==\u001b[39m \u001b[38;5;28mself\u001b[39m\u001b[38;5;241m.\u001b[39mmax_consecutive_failed_trials:\n\u001b[0;32m--> 543\u001b[0m     \u001b[38;5;28;01mraise\u001b[39;00m \u001b[38;5;167;01mRuntimeError\u001b[39;00m(\n\u001b[1;32m    544\u001b[0m         \u001b[38;5;124m\"\u001b[39m\u001b[38;5;124mNumber of consecutive failures exceeded the limit \u001b[39m\u001b[38;5;124m\"\u001b[39m\n\u001b[1;32m    545\u001b[0m         \u001b[38;5;124mf\u001b[39m\u001b[38;5;124m\"\u001b[39m\u001b[38;5;124mof \u001b[39m\u001b[38;5;132;01m{\u001b[39;00m\u001b[38;5;28mself\u001b[39m\u001b[38;5;241m.\u001b[39mmax_consecutive_failed_trials\u001b[38;5;132;01m}\u001b[39;00m\u001b[38;5;124m.\u001b[39m\u001b[38;5;130;01m\\n\u001b[39;00m\u001b[38;5;124m\"\u001b[39m\n\u001b[1;32m    546\u001b[0m         \u001b[38;5;241m+\u001b[39m (trial\u001b[38;5;241m.\u001b[39mmessage \u001b[38;5;129;01mor\u001b[39;00m \u001b[38;5;124m\"\u001b[39m\u001b[38;5;124m\"\u001b[39m)\n\u001b[1;32m    547\u001b[0m     )\n",
      "\u001b[0;31mRuntimeError\u001b[0m: Number of consecutive failures exceeded the limit of 3.\nTraceback (most recent call last):\n  File \"/srv/conda/envs/notebook/lib/python3.10/site-packages/keras_tuner/src/engine/base_tuner.py\", line 273, in _try_run_and_update_trial\n    self._run_and_update_trial(trial, *fit_args, **fit_kwargs)\n  File \"/srv/conda/envs/notebook/lib/python3.10/site-packages/keras_tuner/src/engine/base_tuner.py\", line 238, in _run_and_update_trial\n    results = self.run_trial(trial, *fit_args, **fit_kwargs)\n  File \"/srv/conda/envs/notebook/lib/python3.10/site-packages/keras_tuner/src/engine/tuner.py\", line 314, in run_trial\n    obj_value = self._build_and_fit_model(trial, *args, **copied_kwargs)\n  File \"/srv/conda/envs/notebook/lib/python3.10/site-packages/keras_tuner/src/engine/tuner.py\", line 233, in _build_and_fit_model\n    results = self.hypermodel.fit(hp, model, *args, **kwargs)\n  File \"/srv/conda/envs/notebook/lib/python3.10/site-packages/keras_tuner/src/engine/hypermodel.py\", line 149, in fit\n    return model.fit(*args, **kwargs)\n  File \"/srv/conda/envs/notebook/lib/python3.10/site-packages/keras/utils/traceback_utils.py\", line 70, in error_handler\n    raise e.with_traceback(filtered_tb) from None\n  File \"/srv/conda/envs/notebook/lib/python3.10/site-packages/keras/engine/data_adapter.py\", line 1668, in train_validation_split\n    raise ValueError(\nValueError: `validation_split` is only supported for Tensors or NumPy arrays, found following types in the input: [<class 'xarray.core.dataarray.DataArray'>, <class 'xarray.core.dataarray.DataArray'>, <class 'xarray.core.dataarray.DataArray'>, <class 'xarray.core.dataarray.DataArray'>, <class 'xarray.core.dataarray.DataArray'>, <class 'xarray.core.dataarray.DataArray'>, <class 'xarray.core.dataarray.DataArray'>, <class 'xarray.core.dataarray.DataArray'>, <class 'xarray.core.dataarray.DataArray'>]\n"
     ]
    }
   ],
   "source": [
    "random_tuner = keras_tuner.RandomSearch(NN_model, \n",
    "                                        max_trials=n_trials,\n",
    "                                        seed=5,\n",
    "                                        objective='val_loss', \n",
    "                                        max_retries_per_trial=0,\n",
    "                                        directory='random_search_NN', \n",
    "                                        project_name='random_search_NN_10trials')\n",
    "\n",
    "early_stop = keras.callbacks.EarlyStopping(monitor='val_loss', patience=10)\n",
    "\n",
    "random_tuner.search(x_train_flattened, y_train_flattened,\n",
    "                    batch_size = minibatch_size,\n",
    "                    epochs = num_epochs, \n",
    "                    validation_split = 0.2, \n",
    "                    callbacks = [early_stop])"
   ]
  },
  {
   "cell_type": "markdown",
   "id": "2130c776-1cef-40fd-8819-a1df83a60295",
   "metadata": {
    "jp-MarkdownHeadingCollapsed": true,
    "tags": []
   },
   "source": [
    "##### CNN + Keras tuner"
   ]
  },
  {
   "cell_type": "code",
   "execution_count": 21,
   "id": "b6843ab9-ba25-4e07-949f-b8c3a494004d",
   "metadata": {
    "tags": []
   },
   "outputs": [],
   "source": [
    "minibatch_size = 64\n",
    "num_epochs     = 80\n",
    "n_trials       = 10   # total number of trials in hyperparameter tuning"
   ]
  },
  {
   "cell_type": "code",
   "execution_count": 22,
   "id": "d8777505-b248-4456-a841-6b0eb1774f34",
   "metadata": {
    "tags": []
   },
   "outputs": [],
   "source": [
    "def CNN_model(hp):\n",
    "    \n",
    "    # options for hyperparameters\n",
    "    hp_filters = hp.Choice('filters', values=[16,32,64])\n",
    "    hp_kernel_size = hp.Choice('kernel_size', values=[2,3,4,5])\n",
    "    hp_activation = hp.Choice('activation', values=['relu', 'tanh', 'sigmoid'])\n",
    "    hp_learning_rate = hp.Choice('learning_rate', values=[1e-2, 1e-3, 1e-4, 1e-5])\n",
    "    hp_loss = hp.Choice('loss', values=['mse','mae'])\n",
    "    \n",
    "    # build CNN models according to the hyperparameters\n",
    "    model = keras.models.Sequential()\n",
    "\n",
    "    model.add(Dense(hp_filters*5*5, input_shape=x_train.shape[1:], activation=hp_activation)) \n",
    "    \n",
    "    model.add(Conv2DTranspose(filters=hp_filters, kernel_size=hp_kernel_size, \n",
    "                              activation=hp_activation, strides=1, padding='same')) # shape: (5,5,filters)\n",
    "    \n",
    "    model.add(Conv2DTranspose(filters=hp_filters, kernel_size=hp_kernel_size, \n",
    "                              activation=hp_activation, strides=1, padding='same')) # shape: (48,72,filters)\n",
    "    \n",
    "    model.add(Conv2DTranspose(filters=hp_filters, kernel_size=hp_kernel_size, \n",
    "                              activation=hp_activation, strides=1, padding='same')) # shape: (96,144,filters)\n",
    "    \n",
    "    model.add(Conv2DTranspose(filters=1, kernel_size=hp_kernel_size, \n",
    "                              activation=\"linear\", padding=\"same\")) # shape: (96,144,1)\n",
    "    \n",
    "    model.compile(loss=hp_loss, optimizer=tf.keras.optimizers.Adam(learning_rate=hp_learning_rate))\n",
    "    \n",
    "    return model"
   ]
  },
  {
   "cell_type": "code",
   "execution_count": 76,
   "id": "7d1561e4-767a-44d6-96f1-d8c2541a3b31",
   "metadata": {
    "tags": []
   },
   "outputs": [],
   "source": [
    "random_tuner = keras_tuner.RandomSearch(CNN_model, \n",
    "                                        max_trials=n_trials,\n",
    "                                        seed=5,\n",
    "                                        objective='val_loss', \n",
    "                                        max_retries_per_trial=0,\n",
    "                                        max_consecutive_failed_trials=3,\n",
    "                                        directory='random_search', \n",
    "                                        project_name='random_search_CNN_10trials')"
   ]
  },
  {
   "cell_type": "code",
   "execution_count": 77,
   "id": "c6a39edb-504d-4b30-bb4d-a270f3f62814",
   "metadata": {
    "tags": []
   },
   "outputs": [],
   "source": [
    "early_stop = keras.callbacks.EarlyStopping(monitor='val_loss', patience=10)\n"
   ]
  },
  {
   "cell_type": "code",
   "execution_count": 79,
   "id": "a69854b2-8a5a-4c42-8158-f45e7bf803a4",
   "metadata": {
    "tags": []
   },
   "outputs": [
    {
     "name": "stdout",
     "output_type": "stream",
     "text": [
      "Trial 10 Complete [00h 00m 44s]\n",
      "val_loss: 0.9716030359268188\n",
      "\n",
      "Best val_loss So Far: 0.1266775131225586\n",
      "Total elapsed time: 00h 23m 45s\n"
     ]
    }
   ],
   "source": [
    "random_tuner.search(x_train_np, y_train_np,\n",
    "                    batch_size = minibatch_size,\n",
    "                    epochs = num_epochs, \n",
    "                    validation_split = 0.2, \n",
    "                    callbacks = [early_stop])"
   ]
  },
  {
   "cell_type": "code",
   "execution_count": 80,
   "id": "d15119b1-e2b9-40ac-80ae-97b8786aff99",
   "metadata": {
    "tags": []
   },
   "outputs": [
    {
     "name": "stdout",
     "output_type": "stream",
     "text": [
      "Model: \"sequential\"\n",
      "_________________________________________________________________\n",
      " Layer (type)                Output Shape              Param #   \n",
      "=================================================================\n",
      " dense (Dense)               (None, 5, 5, 800)         7200      \n",
      "                                                                 \n",
      " conv2d_transpose (Conv2DTra  (None, 5, 5, 32)         640032    \n",
      " nspose)                                                         \n",
      "                                                                 \n",
      " conv2d_transpose_1 (Conv2DT  (None, 5, 5, 32)         25632     \n",
      " ranspose)                                                       \n",
      "                                                                 \n",
      " conv2d_transpose_2 (Conv2DT  (None, 5, 5, 32)         25632     \n",
      " ranspose)                                                       \n",
      "                                                                 \n",
      " conv2d_transpose_3 (Conv2DT  (None, 5, 5, 1)          801       \n",
      " ranspose)                                                       \n",
      "                                                                 \n",
      "=================================================================\n",
      "Total params: 699,297\n",
      "Trainable params: 699,297\n",
      "Non-trainable params: 0\n",
      "_________________________________________________________________\n"
     ]
    }
   ],
   "source": [
    "best_model = random_tuner.get_best_models()[0]\n",
    "best_model.summary()\n"
   ]
  },
  {
   "cell_type": "code",
   "execution_count": 81,
   "id": "7f640435-7259-4127-975a-b3d64171ea0a",
   "metadata": {
    "tags": []
   },
   "outputs": [
    {
     "name": "stdout",
     "output_type": "stream",
     "text": [
      "Ranking # 1 of best tuning, total trials =  10\n",
      "{'filters': 32, 'kernel_size': 5, 'activation': 'relu', 'learning_rate': 0.01, 'loss': 'mse'}\n",
      "=============================================================================================\n",
      "Ranking # 2 of best tuning, total trials =  10\n",
      "{'filters': 32, 'kernel_size': 3, 'activation': 'tanh', 'learning_rate': 0.001, 'loss': 'mse'}\n",
      "=============================================================================================\n",
      "Ranking # 3 of best tuning, total trials =  10\n",
      "{'filters': 32, 'kernel_size': 2, 'activation': 'relu', 'learning_rate': 0.0001, 'loss': 'mae'}\n",
      "=============================================================================================\n"
     ]
    }
   ],
   "source": [
    "all_hps = random_tuner.get_best_hyperparameters(num_trials=n_trials)\n",
    "\n",
    "# print the hyperparameters of the top 3 tuning trials\n",
    "for it in range(3):\n",
    "    print(\"Ranking #\", str(it+1).zfill(1), \"of best tuning, total trials = \", str(n_trials))\n",
    "    print(all_hps[it].values)\n",
    "    print(\"=============================================================================================\")\n",
    "\n",
    "\n",
    "# get the hyperparameters of the best tuning trial\n",
    "best_hps = random_tuner.get_best_hyperparameters(num_trials=n_trials)[0]\n",
    "\n",
    "# get the hyperparameters of the second ranking tuning trial\n",
    "top2_hps = random_tuner.get_best_hyperparameters(num_trials=n_trials)[1]"
   ]
  },
  {
   "cell_type": "code",
   "execution_count": 82,
   "id": "513e3be4-9906-48e2-a368-4e16b12908cd",
   "metadata": {
    "tags": []
   },
   "outputs": [
    {
     "name": "stdout",
     "output_type": "stream",
     "text": [
      "Epoch 1/80\n",
      "119/119 [==============================] - 9s 71ms/step - loss: 55.8466 - val_loss: 5.8398\n",
      "Epoch 2/80\n",
      "119/119 [==============================] - 8s 69ms/step - loss: 13.9084 - val_loss: 2.8493\n",
      "Epoch 3/80\n",
      "119/119 [==============================] - 8s 72ms/step - loss: 9.0837 - val_loss: 1.0253\n",
      "Epoch 4/80\n",
      "119/119 [==============================] - 9s 73ms/step - loss: 5.6151 - val_loss: 0.2682\n",
      "Epoch 5/80\n",
      "119/119 [==============================] - 8s 69ms/step - loss: 3.3661 - val_loss: 0.2464\n",
      "Epoch 6/80\n",
      "119/119 [==============================] - 8s 70ms/step - loss: 2.0292 - val_loss: 0.6285\n",
      "Epoch 7/80\n",
      "119/119 [==============================] - 8s 69ms/step - loss: 1.3000 - val_loss: 1.1536\n",
      "Epoch 8/80\n",
      "119/119 [==============================] - 8s 70ms/step - loss: 0.9352 - val_loss: 1.6622\n",
      "Epoch 9/80\n",
      "119/119 [==============================] - 8s 70ms/step - loss: 0.7690 - val_loss: 2.0738\n",
      "Epoch 10/80\n",
      "119/119 [==============================] - 8s 70ms/step - loss: 0.7000 - val_loss: 2.3793\n",
      "Epoch 11/80\n",
      "119/119 [==============================] - 9s 73ms/step - loss: 0.6743 - val_loss: 2.5736\n",
      "Epoch 12/80\n",
      "119/119 [==============================] - 8s 69ms/step - loss: 0.6658 - val_loss: 2.6863\n",
      "Epoch 13/80\n",
      "119/119 [==============================] - 8s 69ms/step - loss: 0.6633 - val_loss: 2.7584\n",
      "Epoch 14/80\n",
      "119/119 [==============================] - 8s 69ms/step - loss: 0.6626 - val_loss: 2.7890\n",
      "Epoch 15/80\n",
      "119/119 [==============================] - 8s 70ms/step - loss: 0.6624 - val_loss: 2.8064\n",
      "Epoch 1/80\n",
      "119/119 [==============================] - 6s 40ms/step - loss: 1.2779 - val_loss: 1.5905\n",
      "Epoch 2/80\n",
      "119/119 [==============================] - 4s 37ms/step - loss: 0.1261 - val_loss: 0.6060\n",
      "Epoch 3/80\n",
      "119/119 [==============================] - 5s 41ms/step - loss: 0.0990 - val_loss: 0.5147\n",
      "Epoch 4/80\n",
      "119/119 [==============================] - 4s 35ms/step - loss: 0.0872 - val_loss: 0.3075\n",
      "Epoch 5/80\n",
      "119/119 [==============================] - 4s 38ms/step - loss: 0.0769 - val_loss: 0.2345\n",
      "Epoch 6/80\n",
      "119/119 [==============================] - 4s 36ms/step - loss: 0.0697 - val_loss: 0.2807\n",
      "Epoch 7/80\n",
      "119/119 [==============================] - 4s 35ms/step - loss: 0.0632 - val_loss: 0.2371\n",
      "Epoch 8/80\n",
      "119/119 [==============================] - 4s 36ms/step - loss: 0.0603 - val_loss: 0.2711\n",
      "Epoch 9/80\n",
      "119/119 [==============================] - 4s 35ms/step - loss: 0.0550 - val_loss: 0.2191\n",
      "Epoch 10/80\n",
      "119/119 [==============================] - 4s 35ms/step - loss: 0.0510 - val_loss: 0.2089\n",
      "Epoch 11/80\n",
      "119/119 [==============================] - 4s 35ms/step - loss: 0.0502 - val_loss: 0.2083\n",
      "Epoch 12/80\n",
      "119/119 [==============================] - 5s 38ms/step - loss: 0.0486 - val_loss: 0.2122\n",
      "Epoch 13/80\n",
      "119/119 [==============================] - 4s 35ms/step - loss: 0.0420 - val_loss: 0.2366\n",
      "Epoch 14/80\n",
      "119/119 [==============================] - 4s 35ms/step - loss: 0.0387 - val_loss: 0.2311\n",
      "Epoch 15/80\n",
      "119/119 [==============================] - 4s 35ms/step - loss: 0.0369 - val_loss: 0.2419\n",
      "Epoch 16/80\n",
      "119/119 [==============================] - 4s 36ms/step - loss: 0.0385 - val_loss: 0.2779\n",
      "Epoch 17/80\n",
      "119/119 [==============================] - 5s 39ms/step - loss: 0.0346 - val_loss: 0.1814\n",
      "Epoch 18/80\n",
      "119/119 [==============================] - 4s 37ms/step - loss: 0.0331 - val_loss: 0.1757\n",
      "Epoch 19/80\n",
      "119/119 [==============================] - 4s 35ms/step - loss: 0.0304 - val_loss: 0.2492\n",
      "Epoch 20/80\n",
      "119/119 [==============================] - 4s 36ms/step - loss: 0.0307 - val_loss: 0.1859\n",
      "Epoch 21/80\n",
      "119/119 [==============================] - 4s 36ms/step - loss: 0.0310 - val_loss: 0.2166\n",
      "Epoch 22/80\n",
      "119/119 [==============================] - 4s 35ms/step - loss: 0.0281 - val_loss: 0.2095\n",
      "Epoch 23/80\n",
      "119/119 [==============================] - 4s 35ms/step - loss: 0.0275 - val_loss: 0.2038\n",
      "Epoch 24/80\n",
      "119/119 [==============================] - 5s 38ms/step - loss: 0.0273 - val_loss: 0.2202\n",
      "Epoch 25/80\n",
      "119/119 [==============================] - 4s 35ms/step - loss: 0.0252 - val_loss: 0.2056\n",
      "Epoch 26/80\n",
      "119/119 [==============================] - 4s 35ms/step - loss: 0.0260 - val_loss: 0.2081\n",
      "Epoch 27/80\n",
      "119/119 [==============================] - 4s 36ms/step - loss: 0.0241 - val_loss: 0.1944\n",
      "Epoch 28/80\n",
      "119/119 [==============================] - 4s 37ms/step - loss: 0.0237 - val_loss: 0.1866\n"
     ]
    }
   ],
   "source": [
    "## Build the model with the optimal hyperparameters\n",
    "# ---------- best tuning ----------\n",
    "model_best = random_tuner.hypermodel.build(best_hps)\n",
    "\n",
    "# ---------- ranking #2 tuning ----------\n",
    "model_top2 = random_tuner.hypermodel.build(top2_hps)\n",
    "\n",
    "\n",
    "\n",
    "## re-train the model\n",
    "# ---------- best tuning ----------\n",
    "history_best = model_best.fit(x_train, y_train,\n",
    "                              batch_size      = minibatch_size,\n",
    "                              epochs          = num_epochs,\n",
    "                              validation_split= 0.2, \n",
    "                              verbose         = 1,\n",
    "                              callbacks       = [early_stop])\n",
    "# ---------- ranking #2 tuning ----------\n",
    "history_top2 = model_top2.fit(x_train, y_train,\n",
    "                              batch_size      = minibatch_size,\n",
    "                              epochs          = num_epochs,\n",
    "                              validation_split= 0.2, \n",
    "                              verbose         = 1,\n",
    "                              callbacks       = [early_stop])"
   ]
  },
  {
   "cell_type": "code",
   "execution_count": 83,
   "id": "b64dbe51-0290-4479-b065-6aac55e18282",
   "metadata": {
    "tags": []
   },
   "outputs": [
    {
     "data": {
      "text/plain": [
       "<matplotlib.legend.Legend at 0x7bf1515c9360>"
      ]
     },
     "execution_count": 83,
     "metadata": {},
     "output_type": "execute_result"
    },
    {
     "data": {
      "image/png": "[encoded data removed]",
      "text/plain": [
       "<Figure size 640x480 with 2 Axes>"
      ]
     },
     "metadata": {},
     "output_type": "display_data"
    }
   ],
   "source": [
    "## set up title and ylabel strings\n",
    "# ---------- best tuning ----------\n",
    "title_best = 'loss: '+str(best_hps['loss'])\n",
    "ylabel_best = best_hps['loss']\n",
    "# ---------- ranking #2 tuning ----------\n",
    "title_top2 = 'loss: '+str(top2_hps['loss'])\n",
    "ylabel_top2 = top2_hps['loss']\n",
    "\n",
    "\n",
    "## plot history\n",
    "# ---------- best tuning ----------\n",
    "plt.subplot(1, 2, 1)\n",
    "plt.plot(history_best.history['loss'])\n",
    "plt.plot(history_best.history['val_loss'])\n",
    "plt.title(title_best, fontsize=12)\n",
    "plt.ylabel(ylabel_best)\n",
    "plt.xlabel('Epoch')\n",
    "plt.legend(['Train loss', 'Val loss'], fontsize=10, loc='upper right')\n",
    "\n",
    "# ---------- ranking #2 tuning ----------\n",
    "plt.subplot(1, 2, 2)\n",
    "plt.plot(history_top2.history['loss'])\n",
    "plt.plot(history_top2.history['val_loss'])\n",
    "plt.title(title_top2, fontsize=12)\n",
    "plt.ylabel(ylabel_top2)\n",
    "plt.xlabel('Epoch')\n",
    "plt.legend(['Train loss', 'Val loss'], fontsize=10, loc='upper right')"
   ]
  },
  {
   "cell_type": "code",
   "execution_count": 87,
   "id": "cbcb9061-ed6b-430b-987d-8f0b510d006c",
   "metadata": {
    "tags": []
   },
   "outputs": [],
   "source": [
    "model_path = os.path.join(cwd,'saved_model')\n",
    "os.makedirs(model_path, exist_ok=True)\n"
   ]
  },
  {
   "cell_type": "code",
   "execution_count": 88,
   "id": "517d8d3e-6cf9-4392-9384-6fdde19bd32a",
   "metadata": {
    "tags": []
   },
   "outputs": [],
   "source": [
    "model_best.save(os.path.join(model_path,'CNN_model_randomsearch_10trials_rank1.h5'))\n",
    "model_top2.save(os.path.join(model_path,'CNN_model_randomsearch_10trials_rank2.h5'))\n"
   ]
  },
  {
   "cell_type": "markdown",
   "id": "c648806b-4b01-449c-86b4-4faabe79379a",
   "metadata": {},
   "source": [
    "#### 4. Test Model\n",
    "- NN\n",
    "- NN + keras tuner\n",
    "- CNN + keras tuner\n",
    "- LSTM + keras tuner\n",
    "- CNN_LSTM + keras tuner"
   ]
  },
  {
   "cell_type": "code",
   "execution_count": 56,
   "id": "bdf6f03e-0868-41eb-8fd6-ab80ad2e5e6c",
   "metadata": {
    "tags": []
   },
   "outputs": [],
   "source": [
    "## reload the saved model\n",
    "model_best = load_model(os.path.join(model_path,'CNN_model_randomsearch_10trials_rank1.h5'))\n",
    "model_top2 = load_model(os.path.join(model_path,'CNN_model_randomsearch_10trials_rank2.h5'))\n"
   ]
  },
  {
   "cell_type": "code",
   "execution_count": 57,
   "id": "de00ecab-12d7-47ea-8f43-d2db603ac67b",
   "metadata": {
    "tags": []
   },
   "outputs": [
    {
     "name": "stdout",
     "output_type": "stream",
     "text": [
      "53/53 [==============================] - 1s 11ms/step\n",
      "53/53 [==============================] - 0s 6ms/step\n"
     ]
    }
   ],
   "source": [
    "y_test_best_pre = model_best.predict(x_test_np)\n",
    "y_test_best_pre = y_test_best_pre.reshape(y_test_best_pre.shape[0], 5, 5)\n",
    "y_test_best_pre = xr.Dataset(coords={'time': x_test_xr.time.values, \n",
    "                                     'latitude': x_test_xr.latitude.values, \n",
    "                                     'longitude': x_test_xr.longitude.values},\n",
    "                             data_vars=dict(sithick=(['time', 'latitude', 'longitude'], y_test_best_pre)))\n",
    "# ---------- rank #2 tuning ----------\n",
    "y_test_top2_pre = model_top2.predict(x_test_np)\n",
    "y_test_top2_pre = y_test_top2_pre.reshape(y_test_top2_pre.shape[0], 5, 5)\n",
    "y_test_top2_pre = xr.Dataset(coords={'time': x_test_xr.time.values, \n",
    "                                     'latitude': x_test_xr.latitude.values, \n",
    "                                     'longitude': x_test_xr.longitude.values},\n",
    "                             data_vars=dict(sithick=(['time', 'latitude', 'longitude'], y_test_top2_pre)))\n",
    "\n",
    "y_test_xr = xr.Dataset(coords={'time': x_test_xr.time.values, \n",
    "                                     'latitude': x_test_xr.latitude.values, \n",
    "                                     'longitude': x_test_xr.longitude.values},\n",
    "                             data_vars=dict(sithick=(['time', 'latitude', 'longitude'], y_test_xr.data)))\n"
   ]
  },
  {
   "cell_type": "code",
   "execution_count": null,
   "id": "ffd354d7-fe5c-4271-8f87-bbc32e5a2d07",
   "metadata": {},
   "outputs": [],
   "source": []
  }
 ],
 "metadata": {
  "kernelspec": {
   "display_name": "Python 3 (ipykernel)",
   "language": "python",
   "name": "python3"
  },
  "language_info": {
   "codemirror_mode": {
    "name": "ipython",
    "version": 3
   },
   "file_extension": ".py",
   "mimetype": "text/x-python",
   "name": "python",
   "nbconvert_exporter": "python",
   "pygments_lexer": "ipython3",
   "version": "3.10.12"
  }
 },
 "nbformat": 4,
 "nbformat_minor": 5
}
