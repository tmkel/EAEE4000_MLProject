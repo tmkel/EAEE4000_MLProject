{
 "cells": [
  {
   "cell_type": "markdown",
   "id": "c47ab45f-bf9f-4020-bc4b-99e8e0d7e048",
   "metadata": {
    "tags": []
   },
   "source": [
    "#### Prepare Dataset\n",
    "- Install Packages\n",
    "- Import Packages\n",
    "- Download Data"
   ]
  },
  {
   "cell_type": "markdown",
   "id": "414aa7b5-fbe5-428f-a3e6-7e252558ed4b",
   "metadata": {
    "tags": []
   },
   "source": [
    "##### Install Packages"
   ]
  },
  {
   "cell_type": "code",
   "execution_count": 1,
   "id": "b5d2637b-f67f-47da-98c2-bf89a59abd16",
   "metadata": {
    "ExecuteTime": {
     "end_time": "2023-12-19T06:29:05.680940500Z",
     "start_time": "2023-12-19T06:29:05.371695400Z"
    },
    "tags": []
   },
   "outputs": [],
   "source": [
    "# pip install copernicus_marine_client\n",
    "# pip install tensorflow\n",
    "# pip install tensorflow"
   ]
  },
  {
   "cell_type": "code",
   "execution_count": 2,
   "id": "b43cfc38-1225-4550-9333-5a72e6ff0049",
   "metadata": {
    "ExecuteTime": {
     "end_time": "2023-12-19T06:29:05.680940500Z",
     "start_time": "2023-12-19T06:29:05.386590800Z"
    },
    "tags": []
   },
   "outputs": [],
   "source": [
    "# pip install keras-tuner --upgrade"
   ]
  },
  {
   "cell_type": "markdown",
   "id": "99ce9bfc-38b6-42a2-b4b1-81015e19c2a4",
   "metadata": {
    "tags": []
   },
   "source": [
    "##### Import Packages"
   ]
  },
  {
   "cell_type": "code",
   "execution_count": 3,
   "id": "c2dacf9d-9826-4e3e-b101-40a766867b79",
   "metadata": {
    "ExecuteTime": {
     "end_time": "2023-12-19T06:29:07.038048Z",
     "start_time": "2023-12-19T06:29:05.403674500Z"
    },
    "scrolled": true,
    "tags": []
   },
   "outputs": [
    {
     "name": "stderr",
     "output_type": "stream",
     "text": [
      "2023-12-20 02:14:47.229682: I tensorflow/core/util/port.cc:113] oneDNN custom operations are on. You may see slightly different numerical results due to floating-point round-off errors from different computation orders. To turn them off, set the environment variable `TF_ENABLE_ONEDNN_OPTS=0`.\n",
      "2023-12-20 02:14:47.232580: I external/local_tsl/tsl/cuda/cudart_stub.cc:31] Could not find cuda drivers on your machine, GPU will not be used.\n",
      "2023-12-20 02:14:47.266005: E external/local_xla/xla/stream_executor/cuda/cuda_dnn.cc:9261] Unable to register cuDNN factory: Attempting to register factory for plugin cuDNN when one has already been registered\n",
      "2023-12-20 02:14:47.266025: E external/local_xla/xla/stream_executor/cuda/cuda_fft.cc:607] Unable to register cuFFT factory: Attempting to register factory for plugin cuFFT when one has already been registered\n",
      "2023-12-20 02:14:47.266930: E external/local_xla/xla/stream_executor/cuda/cuda_blas.cc:1515] Unable to register cuBLAS factory: Attempting to register factory for plugin cuBLAS when one has already been registered\n",
      "2023-12-20 02:14:47.272412: I external/local_tsl/tsl/cuda/cudart_stub.cc:31] Could not find cuda drivers on your machine, GPU will not be used.\n",
      "2023-12-20 02:14:47.273227: I tensorflow/core/platform/cpu_feature_guard.cc:182] This TensorFlow binary is optimized to use available CPU instructions in performance-critical operations.\n",
      "To enable the following instructions: AVX2 AVX512F AVX512_VNNI FMA, in other operations, rebuild TensorFlow with the appropriate compiler flags.\n",
      "2023-12-20 02:14:48.105449: W tensorflow/compiler/tf2tensorrt/utils/py_utils.cc:38] TF-TRT Warning: Could not find TensorRT\n"
     ]
    }
   ],
   "source": [
    "import os\n",
    "import xarray as xr\n",
    "import copernicus_marine_client as copernicusmarine\n",
    "\n",
    "import numpy as np\n",
    "import pandas as pd\n",
    "import matplotlib.pyplot as plt\n",
    "from glob import glob\n",
    "\n",
    "import tensorflow as tf\n",
    "from tensorflow import keras\n",
    "from tensorflow.keras.models import Model, load_model\n",
    "from tensorflow.keras.layers import *\n",
    "from tensorflow.keras import Sequential\n",
    "from tensorflow.keras.regularizers import l1_l2\n",
    "import keras_tuner"
   ]
  },
  {
   "cell_type": "markdown",
   "id": "9b025463-ad45-468f-965b-79bfae57ce4a",
   "metadata": {
    "tags": []
   },
   "source": [
    "##### Download Data  \n",
    "- Download data from source website form two dataset_id\n",
    "- Merge two dataset"
   ]
  },
  {
   "cell_type": "code",
   "execution_count": 4,
   "id": "af42bcb7-4509-4ebc-ba01-e6493a6077dc",
   "metadata": {
    "ExecuteTime": {
     "start_time": "2023-12-19T06:29:07.034312100Z"
    },
    "tags": []
   },
   "outputs": [
    {
     "name": "stdout",
     "output_type": "stream",
     "text": [
      "File /home/jovyan/.copernicus-marine-client/.copernicus-marine-credentials already exists, overwrite it ? [y/N]:"
     ]
    },
    {
     "name": "stdin",
     "output_type": "stream",
     "text": [
      "  y\n"
     ]
    },
    {
     "name": "stdout",
     "output_type": "stream",
     "text": [
      "INFO - 2023-12-20T02:14:51Z - Credentials file stored in /home/jovyan/.copernicus-marine-client/.copernicus-marine-credentials.\n"
     ]
    }
   ],
   "source": [
    "# Download data from source website form two dataset_id\n",
    "copernicusmarine.login(\"xfeng4\",\"Sf1260358662@\") #login, overwrite it ? [y/N]: y\n",
    "\n",
    "#field name in dataset\n",
    "data_variables = [\"sithick\",\"siconc\",\"thetao\",\"bottomT\",\"so\", \"usi\", \"vsi\",\"uo\",\"vo\"]\n",
    "\n",
    "#create folder to store raw data\n",
    "cwd = os.getcwd()\n",
    "folder = \"sea ice thickness dataset\"\n",
    "site = \"greenland\" #create dictionary: {site: lat and long range}\n",
    "folder_path = os.path.join(cwd, folder, site) \n",
    "os.makedirs(folder_path, exist_ok=True) "
   ]
  },
  {
   "cell_type": "code",
   "execution_count": 5,
   "id": "deb6e527-4534-4d4c-b344-9f1d24dcec0a",
   "metadata": {
    "ExecuteTime": {
     "start_time": "2023-12-19T06:29:07.034312100Z"
    },
    "tags": []
   },
   "outputs": [
    {
     "name": "stdout",
     "output_type": "stream",
     "text": [
      "down\n"
     ]
    }
   ],
   "source": [
    "#first dataset\n",
    "for var in data_variables:\n",
    "    output_file = os.path.join(folder_path, f\"{var}_id1.nc\")\n",
    "    if os.path.exists(output_file):\n",
    "        pass\n",
    "    else:\n",
    "        copernicusmarine.subset(\n",
    "          dataset_id=\"cmems_mod_glo_phy_my_0.083deg_P1D-m\",\n",
    "          variables=[var],\n",
    "          minimum_longitude=-58.133,\n",
    "          maximum_longitude=-57.718,\n",
    "          minimum_latitude=82.892,\n",
    "          maximum_latitude=83.307,\n",
    "          start_datetime=\"1993-01-01T00:00:00\",\n",
    "          end_datetime=\"2021-06-30T23:59:59\",\n",
    "          output_filename=output_file)\n",
    "\n",
    "#second dataset ID\n",
    "for var in data_variables:\n",
    "    output_file = os.path.join(folder_path, f\"{var}_id2.nc\")\n",
    "    if os.path.exists(output_file):\n",
    "        pass\n",
    "    else:\n",
    "        copernicusmarine.subset(\n",
    "          dataset_id=\"cmems_mod_glo_phy_myint_0.083deg_P1D-m\",\n",
    "          variables=[var],\n",
    "          minimum_longitude=-58.133,\n",
    "          maximum_longitude=-57.718,\n",
    "          minimum_latitude=82.892,\n",
    "          maximum_latitude=83.307,\n",
    "          start_datetime=\"2021-07-01T00:00:00\",\n",
    "          end_datetime=\"2023-07-31T23:59:59\",\n",
    "          output_filename=os.path.join(folder_path, f\"{var}_id2.nc\"))\n",
    "        \n",
    "print(\"down\")"
   ]
  },
  {
   "cell_type": "code",
   "execution_count": 6,
   "id": "2bb54ea9-9f23-49df-95b2-2de9939afa31",
   "metadata": {
    "ExecuteTime": {
     "start_time": "2023-12-19T06:29:07.035540700Z"
    },
    "tags": []
   },
   "outputs": [
    {
     "name": "stdout",
     "output_type": "stream",
     "text": [
      "down\n"
     ]
    }
   ],
   "source": [
    "#Merge two dataset\n",
    "os.makedirs(os.path.join(folder_path, \"Merged\"), exist_ok=True) \n",
    "\n",
    "for var in data_variables:\n",
    "    output_file = os.path.join(folder_path, \"Merged\", f\"{var}_merged.nc\")\n",
    "    if os.path.exists(output_file):\n",
    "        pass\n",
    "    else:\n",
    "        data_id1_file = os.path.join(folder_path, f\"{var}_id1.nc\")\n",
    "        data_id2_file = os.path.join(folder_path, f\"{var}_id2.nc\")\n",
    "        data_id1_xr = xr.open_dataset(data_id1_file)\n",
    "        data_id2_xr = xr.open_dataset(data_id2_file)\n",
    "        data_xr = xr.merge([data_id1_xr, data_id2_xr])\n",
    "        data_file = os.path.join(folder_path, \"Merged\", f\"{var}_merged.nc\")\n",
    "        data_xr.to_netcdf(data_file)\n",
    "        \n",
    "print(\"down\")"
   ]
  },
  {
   "cell_type": "markdown",
   "id": "19826406-26dc-4dce-ab40-69bdb3eb2e3b",
   "metadata": {
    "tags": []
   },
   "source": [
    "#### Process Data\n",
    "- read as xarray, drop \"depth\" dimension, and merge xrray\n",
    "- normalization\n",
    "- flat data for NN\n",
    "- time slider for LSTM"
   ]
  },
  {
   "cell_type": "markdown",
   "id": "9874809b-ea77-4b18-a403-f41bdd93c1c4",
   "metadata": {
    "tags": []
   },
   "source": [
    "##### Read as xarray, drop \"depth\" dimension, and merge xarray"
   ]
  },
  {
   "cell_type": "code",
   "execution_count": 7,
   "id": "e6b57ecc-19de-4b23-800a-083c4a63c8e4",
   "metadata": {
    "ExecuteTime": {
     "start_time": "2023-12-19T06:29:07.036542900Z"
    },
    "tags": []
   },
   "outputs": [
    {
     "name": "stderr",
     "output_type": "stream",
     "text": [
      "/srv/conda/envs/notebook/lib/python3.10/site-packages/xarray/core/utils.py:494: FutureWarning: The return type of `Dataset.dims` will be changed to return a set of dimension names in future, in order to be more consistent with `DataArray.dims`. To access a mapping from dimension names to lengths, please use `Dataset.sizes`.\n",
      "  warnings.warn(\n"
     ]
    }
   ],
   "source": [
    "#extract training_data\n",
    "#create variable for time slice\n",
    "training_data = {}\n",
    "for var in data_variables:\n",
    "    data_file = os.path.join(folder_path, \"Merged\", f\"{var}_merged.nc\")\n",
    "    selection_dataset = xr.open_dataset(data_file)\n",
    "    selection_dataset_time = selection_dataset.sel(time=slice('1993-01-01', '2018-12-31'))\n",
    "\n",
    "    if 'depth' in selection_dataset_time[var].dims: #drop \"depth\" if it exists\n",
    "        selection_dataset_time[var] = selection_dataset_time[var].mean(dim='depth')\n",
    "        selection_dataset_time = selection_dataset_time.drop_vars(\"depth\")\n",
    "        check_nans = selection_dataset_time[var].isnull().any()\n",
    "        if check_nans: #complete data via linear interpolate\n",
    "            selection_dataset_time[var] = selection_dataset_time[var].interpolate_na(dim='time')\n",
    "    else:\n",
    "        check_nans = selection_dataset_time[var].isnull().any()\n",
    "        if check_nans:\n",
    "            selection_dataset_time[var] = selection_dataset_time[var].interpolate_na(dim='time')\n",
    "\n",
    "    training_data[var] = selection_dataset_time\n",
    "\n",
    "#check if dimensions same: only keep time, lat and lon\n",
    "dimensions = None\n",
    "for var, dataset in training_data.items():\n",
    "    if dimensions is None:\n",
    "        dimensions = dataset.dims\n",
    "    elif dimensions != dataset.dims:\n",
    "        raise ValueError(f\"Dimension mismatch in variable {var}\")\n",
    "\n",
    "train = xr.merge([training_data[var] for var in data_variables])\n",
    "\n",
    "#get input and output variables \n",
    "x_train_xr = train[[\"siconc\", \"thetao\", \"bottomT\", \"so\", \"usi\", \"vsi\", \"uo\", \"vo\"]]\n",
    "y_train_xr = train[\"sithick\"]"
   ]
  },
  {
   "cell_type": "code",
   "execution_count": 8,
   "id": "0466ad8a-0ce7-44b3-85af-4caa40d27125",
   "metadata": {
    "ExecuteTime": {
     "start_time": "2023-12-19T06:29:07.036542900Z"
    },
    "tags": []
   },
   "outputs": [
    {
     "name": "stderr",
     "output_type": "stream",
     "text": [
      "/srv/conda/envs/notebook/lib/python3.10/site-packages/xarray/core/utils.py:494: FutureWarning: The return type of `Dataset.dims` will be changed to return a set of dimension names in future, in order to be more consistent with `DataArray.dims`. To access a mapping from dimension names to lengths, please use `Dataset.sizes`.\n",
      "  warnings.warn(\n"
     ]
    }
   ],
   "source": [
    "#extract testing_data\n",
    "#write a function for extract and merge\n",
    "testing_data = {}\n",
    "for var in data_variables:\n",
    "    data_file = os.path.join(folder_path, \"Merged\", f\"{var}_merged.nc\")\n",
    "    selection_dataset = xr.open_dataset(data_file)\n",
    "    selection_dataset_time = selection_dataset.sel(time=slice('2019-01-01', '2023-07-31'))\n",
    "\n",
    "    if 'depth' in selection_dataset_time[var].dims:\n",
    "        selection_dataset_time[var] = selection_dataset_time[var].mean(dim='depth')\n",
    "        selection_dataset_time = selection_dataset_time.drop_vars(\"depth\")\n",
    "        check_nans = selection_dataset_time[var].isnull().any()\n",
    "        if check_nans:\n",
    "            selection_dataset_time[var] = selection_dataset_time[var].interpolate_na(dim='time')\n",
    "    else:\n",
    "        check_nans = selection_dataset_time[var].isnull().any()\n",
    "        if check_nans:\n",
    "            selection_dataset_time[var] = selection_dataset_time[var].interpolate_na(dim='time')\n",
    "\n",
    "    testing_data[var] = selection_dataset_time\n",
    "    \n",
    "dimensions = None\n",
    "for var, dataset in testing_data.items():\n",
    "    if dimensions is None:\n",
    "        dimensions = dataset.dims\n",
    "    elif dimensions != dataset.dims:\n",
    "        raise ValueError(f\"Dimension mismatch in variable {var}\")\n",
    "\n",
    "test = xr.merge([testing_data[var] for var in data_variables])\n",
    "\n",
    "x_test_xr = test[[\"siconc\", \"thetao\", \"bottomT\", \"so\", \"usi\", \"vsi\", \"uo\", \"vo\"]]\n",
    "y_test_xr = test[\"sithick\"]"
   ]
  },
  {
   "cell_type": "markdown",
   "id": "2b5639fb-0cee-450b-9e69-ec81421b1c42",
   "metadata": {
    "tags": []
   },
   "source": [
    "##### Normalization"
   ]
  },
  {
   "cell_type": "code",
   "execution_count": 9,
   "id": "b742e8ac-39ed-40a4-ab30-530dc38c0eb3",
   "metadata": {
    "ExecuteTime": {
     "start_time": "2023-12-19T06:29:07.038048Z"
    },
    "tags": []
   },
   "outputs": [],
   "source": [
    "meanstd_inputs = {}\n",
    "predictors = [\"siconc\", \"thetao\", \"bottomT\", \"so\", \"usi\", \"vsi\", \"uo\", \"vo\"]\n",
    "\n",
    "def normalize(data, var, meanstd_dict):\n",
    "    mean = meanstd_dict[var][0]\n",
    "    std = meanstd_dict[var][1]\n",
    "    return (data - mean)/std\n",
    "\n",
    "for var in predictors:\n",
    "    meanstd_inputs[var] = (x_train_xr[var].data.mean(), x_train_xr[var].data.std())\n",
    "    \n",
    "# normalize each variables\n",
    "for var in predictors:\n",
    "    # training set\n",
    "    var_dims   = x_train_xr[var].dims\n",
    "    x_train_xr = x_train_xr.assign({var: (var_dims, normalize(x_train_xr[var].data, var, meanstd_inputs))})\n",
    "    \n",
    "    # test set\n",
    "    var_dims  = x_test_xr[var].dims\n",
    "    x_test_xr = x_test_xr.assign({var: (var_dims, normalize(x_test_xr[var].data, var, meanstd_inputs))})"
   ]
  },
  {
   "cell_type": "code",
   "execution_count": 10,
   "id": "0db79ddd-c1c7-4021-b943-ef144128d77c",
   "metadata": {
    "ExecuteTime": {
     "start_time": "2023-12-19T06:29:07.038048Z"
    },
    "tags": []
   },
   "outputs": [
    {
     "name": "stdout",
     "output_type": "stream",
     "text": [
      "(9496, 5, 5, 8) (1673, 5, 5, 8) (9496, 5, 5) (1673, 5, 5)\n"
     ]
    }
   ],
   "source": [
    "x_train_np  = x_train_xr.to_array().transpose('time', 'latitude', 'longitude', 'variable').data\n",
    "x_test_np  = x_test_xr.to_array().transpose('time', 'latitude', 'longitude', 'variable').data\n",
    "\n",
    "y_train_np = y_train_xr.data\n",
    "y_test_np = y_test_xr.data\n",
    "\n",
    "print(x_train_np.shape, x_test_np.shape, y_train_np.shape, y_test_np.shape)"
   ]
  },
  {
   "cell_type": "markdown",
   "id": "3cae2221-a9de-4f50-bbd9-941ccf350659",
   "metadata": {},
   "source": [
    "##### Flat data for NN"
   ]
  },
  {
   "cell_type": "code",
   "execution_count": 11,
   "id": "a165f57f-aa46-46cc-afbc-ca58c6fcde19",
   "metadata": {
    "ExecuteTime": {
     "start_time": "2023-12-19T06:29:07.039558100Z"
    },
    "tags": []
   },
   "outputs": [],
   "source": [
    "#convert model to 1D for NN\n",
    "x_train_flattened = x_train_np.reshape(x_train_np.shape[0], -1)  # x_train.shape[0] is the number of samples\n",
    "y_train_flattened = y_train_np.reshape(y_train_np.shape[0], -1)\n",
    "x_test_flattened = x_test_np.reshape(x_test_np.shape[0], -1)"
   ]
  },
  {
   "cell_type": "markdown",
   "id": "6ae3935f-eb69-4cfb-a3f0-69a3e8d25168",
   "metadata": {
    "tags": []
   },
   "source": [
    "##### Add time slider for LSTM"
   ]
  },
  {
   "cell_type": "code",
   "execution_count": 12,
   "id": "0a2d52ab-bd76-437c-8cbb-7ac206a1d01f",
   "metadata": {
    "ExecuteTime": {
     "start_time": "2023-12-19T06:29:07.040564600Z"
    },
    "tags": []
   },
   "outputs": [
    {
     "name": "stdout",
     "output_type": "stream",
     "text": [
      "(9496, 5, 5, 8) (9492, 5, 5, 5, 8)\n",
      "(9496, 5, 5) (9492, 5, 5)\n",
      "(1673, 5, 5, 8) (1669, 5, 5, 5, 8)\n"
     ]
    }
   ],
   "source": [
    "#adjust dataset to feed LSTM\n",
    "slider = 5\n",
    "x_train_slider = np.array([x_train_np[i:i+slider] for i in range(0, x_train_np.shape[0]-slider+1)])\n",
    "y_train_slider = np.array([y_train_np[i+slider-1] for i in range(0, y_train_np.shape[0]-slider+1)])\n",
    "\n",
    "x_test_slider = np.array([x_test_np[i:i+slider] for i in range(0, x_test_np.shape[0]-slider+1)])\n",
    "\n",
    "print(x_train_np.shape, x_train_slider.shape)\n",
    "print(y_train_np.shape, y_train_slider.shape)\n",
    "print(x_test_np.shape, x_test_slider.shape)\n",
    "\n",
    "#stack them to get shape (n_timepoints, n_slider, features)\n",
    "input_shape = (5, 5, 5, 8)  # time slider, lat, long, features\n",
    "output_shape = (5, 5)    # lat, long\n",
    "\n",
    "# Flatten the spatial dimensions for the LSTM input\n",
    "flattened_spatial_dim = input_shape[1] * input_shape[2] * input_shape[3]"
   ]
  },
  {
   "cell_type": "markdown",
   "id": "8fa6ea1a-1367-49c3-8db5-1f2a1a3c0f3c",
   "metadata": {
    "tags": []
   },
   "source": [
    "#### Train the model\n",
    "- NN\n",
    "- NN + keras_tuner, always excess the limit\n",
    "- CNN + keras_tuner\n",
    "- LSTM + keras_tuner\n",
    "- CNN LSTM + keras_tuner  \n",
    "*how to do feature selection?*"
   ]
  },
  {
   "cell_type": "markdown",
   "id": "b945ad29-11b1-4b44-9b4f-10877eb75985",
   "metadata": {
    "tags": []
   },
   "source": [
    "##### NN"
   ]
  },
  {
   "cell_type": "code",
   "execution_count": 13,
   "id": "322d956e-2064-41d7-af42-09b915266650",
   "metadata": {
    "ExecuteTime": {
     "end_time": "2023-12-19T06:29:07.057663700Z",
     "start_time": "2023-12-19T06:29:07.042070400Z"
    },
    "tags": []
   },
   "outputs": [],
   "source": [
    "n_neuron       = 64 #the number of n_neuron\n",
    "activation     = 'relu' #activation methods\n",
    "num_epochs     = 50 #go through how many times weight adjusted\n",
    "learning_rate  = 0.001 #related to optimize\n",
    "minibatch_size = 64 #the way to optimize\n",
    "model_num      = 1\n",
    "N_layers       = 2 # number of hidden layers"
   ]
  },
  {
   "cell_type": "code",
   "execution_count": 14,
   "id": "f23bc1e2-6ec5-45c6-89b3-16c155fc4da1",
   "metadata": {
    "ExecuteTime": {
     "start_time": "2023-12-19T06:29:07.043072900Z"
    },
    "scrolled": true,
    "tags": []
   },
   "outputs": [
    {
     "name": "stdout",
     "output_type": "stream",
     "text": [
      "Model: \"sequential\"\n",
      "_________________________________________________________________\n",
      " Layer (type)                Output Shape              Param #   \n",
      "=================================================================\n",
      " hidden_layer_1 (Dense)      (None, 64)                12864     \n",
      "                                                                 \n",
      " hidden_layer_2 (Dense)      (None, 64)                4160      \n",
      "                                                                 \n",
      " output_layer (Dense)        (None, 25)                1625      \n",
      "                                                                 \n",
      "=================================================================\n",
      "Total params: 18649 (72.85 KB)\n",
      "Trainable params: 18649 (72.85 KB)\n",
      "Non-trainable params: 0 (0.00 Byte)\n",
      "_________________________________________________________________\n",
      "Model: \"sequential_1\"\n",
      "_________________________________________________________________\n",
      " Layer (type)                Output Shape              Param #   \n",
      "=================================================================\n",
      " hidden_layer_1 (Dense)      (None, 64)                12864     \n",
      "                                                                 \n",
      " hidden_layer_2 (Dense)      (None, 64)                4160      \n",
      "                                                                 \n",
      " output_layer (Dense)        (None, 25)                1625      \n",
      "                                                                 \n",
      "=================================================================\n",
      "Total params: 18649 (72.85 KB)\n",
      "Trainable params: 18649 (72.85 KB)\n",
      "Non-trainable params: 0 (0.00 Byte)\n",
      "_________________________________________________________________\n"
     ]
    }
   ],
   "source": [
    "# mse\n",
    "model_mse = Sequential()\n",
    "model_mse.add(Dense(n_neuron,  activation=activation, name=\"hidden_layer_1\" ,input_shape=(x_train_flattened.shape[1],)))\n",
    "for n in range(N_layers-1):\n",
    "    model_mse.add(Dense(n_neuron,  activation=activation, name=\"hidden_layer_\"+str(n+2))) \n",
    "model_mse.add(Dense(y_train_flattened.shape[1],  activation='linear', name=\"output_layer\")) # the output layer\n",
    "model_mse.compile(loss='mse',optimizer=tf.keras.optimizers.Adam(learning_rate=learning_rate))\n",
    "model_mse.summary()\n",
    "\n",
    "#mae\n",
    "model_mae = Sequential()\n",
    "model_mae.add(Dense(n_neuron,  activation=activation, name=\"hidden_layer_1\" ,input_shape=(x_train_flattened.shape[1],)))\n",
    "for n in range(N_layers-1):\n",
    "    model_mae.add(Dense(n_neuron,  activation=activation, name=\"hidden_layer_\"+str(n+2))) \n",
    "model_mae.add(Dense(y_train_flattened.shape[1],  activation='linear', name=\"output_layer\")) # the output layer\n",
    "model_mae.compile(loss='mae',optimizer=tf.keras.optimizers.Adam(learning_rate=learning_rate))\n",
    "model_mae.summary()\n"
   ]
  },
  {
   "cell_type": "code",
   "execution_count": 15,
   "id": "2abbdf11-5e7e-4f13-910a-695c5cc2aa1d",
   "metadata": {
    "ExecuteTime": {
     "start_time": "2023-12-19T06:29:07.044073500Z"
    },
    "scrolled": true,
    "tags": []
   },
   "outputs": [
    {
     "name": "stdout",
     "output_type": "stream",
     "text": [
      "Epoch 1/50\n",
      "119/119 [==============================] - 1s 3ms/step - loss: 4.0692 - val_loss: 0.8559\n",
      "Epoch 2/50\n",
      "119/119 [==============================] - 0s 2ms/step - loss: 0.2236 - val_loss: 0.7779\n",
      "Epoch 3/50\n",
      "119/119 [==============================] - 0s 1ms/step - loss: 0.1831 - val_loss: 0.7244\n",
      "Epoch 4/50\n",
      "119/119 [==============================] - 0s 1ms/step - loss: 0.1603 - val_loss: 0.6580\n",
      "Epoch 5/50\n",
      "119/119 [==============================] - 0s 1ms/step - loss: 0.1425 - val_loss: 0.6544\n",
      "Epoch 6/50\n",
      "119/119 [==============================] - 0s 2ms/step - loss: 0.1282 - val_loss: 0.4079\n",
      "Epoch 7/50\n",
      "119/119 [==============================] - 0s 2ms/step - loss: 0.1164 - val_loss: 0.5223\n",
      "Epoch 8/50\n",
      "119/119 [==============================] - 0s 2ms/step - loss: 0.1061 - val_loss: 0.5872\n",
      "Epoch 9/50\n",
      "119/119 [==============================] - 0s 2ms/step - loss: 0.1001 - val_loss: 0.7797\n",
      "Epoch 10/50\n",
      "119/119 [==============================] - 0s 2ms/step - loss: 0.0952 - val_loss: 0.6647\n",
      "Epoch 11/50\n",
      "119/119 [==============================] - 0s 1ms/step - loss: 0.0902 - val_loss: 0.7087\n",
      "Epoch 12/50\n",
      "119/119 [==============================] - 0s 1ms/step - loss: 0.0832 - val_loss: 0.6582\n",
      "Epoch 13/50\n",
      "119/119 [==============================] - 0s 1ms/step - loss: 0.0866 - val_loss: 0.7060\n",
      "Epoch 14/50\n",
      "119/119 [==============================] - 0s 2ms/step - loss: 0.0772 - val_loss: 0.6103\n",
      "Epoch 15/50\n",
      "119/119 [==============================] - 0s 1ms/step - loss: 0.0762 - val_loss: 0.7239\n",
      "Epoch 16/50\n",
      "119/119 [==============================] - 0s 2ms/step - loss: 0.0757 - val_loss: 0.7073\n",
      "Epoch 17/50\n",
      "119/119 [==============================] - 0s 1ms/step - loss: 0.0711 - val_loss: 0.6437\n",
      "Epoch 18/50\n",
      "119/119 [==============================] - 0s 1ms/step - loss: 0.0700 - val_loss: 0.4692\n",
      "Epoch 19/50\n",
      "119/119 [==============================] - 0s 2ms/step - loss: 0.0660 - val_loss: 0.6661\n",
      "Epoch 20/50\n",
      "119/119 [==============================] - 0s 1ms/step - loss: 0.0678 - val_loss: 0.4586\n",
      "Epoch 21/50\n",
      "119/119 [==============================] - 0s 1ms/step - loss: 0.0678 - val_loss: 0.5087\n",
      "Epoch 22/50\n",
      "119/119 [==============================] - 0s 1ms/step - loss: 0.0623 - val_loss: 0.5245\n",
      "Epoch 23/50\n",
      "119/119 [==============================] - 0s 1ms/step - loss: 0.0631 - val_loss: 0.5735\n",
      "Epoch 24/50\n",
      "119/119 [==============================] - 0s 2ms/step - loss: 0.0572 - val_loss: 0.4195\n",
      "Epoch 25/50\n",
      "119/119 [==============================] - 0s 1ms/step - loss: 0.0567 - val_loss: 0.6006\n",
      "Epoch 26/50\n",
      "119/119 [==============================] - 0s 1ms/step - loss: 0.0533 - val_loss: 0.4258\n",
      "Epoch 1/50\n",
      "119/119 [==============================] - 1s 2ms/step - loss: 1.3508 - val_loss: 0.6297\n",
      "Epoch 2/50\n",
      "119/119 [==============================] - 0s 2ms/step - loss: 0.3491 - val_loss: 0.7749\n",
      "Epoch 3/50\n",
      "119/119 [==============================] - 0s 2ms/step - loss: 0.3181 - val_loss: 0.5704\n",
      "Epoch 4/50\n",
      "119/119 [==============================] - 0s 2ms/step - loss: 0.2930 - val_loss: 0.5520\n",
      "Epoch 5/50\n",
      "119/119 [==============================] - 0s 1ms/step - loss: 0.2697 - val_loss: 0.5076\n",
      "Epoch 6/50\n",
      "119/119 [==============================] - 0s 1ms/step - loss: 0.2525 - val_loss: 0.4858\n",
      "Epoch 7/50\n",
      "119/119 [==============================] - 0s 1ms/step - loss: 0.2452 - val_loss: 0.4229\n",
      "Epoch 8/50\n",
      "119/119 [==============================] - 0s 2ms/step - loss: 0.2348 - val_loss: 0.3804\n",
      "Epoch 9/50\n",
      "119/119 [==============================] - 0s 2ms/step - loss: 0.2261 - val_loss: 0.3783\n",
      "Epoch 10/50\n",
      "119/119 [==============================] - 0s 2ms/step - loss: 0.2149 - val_loss: 0.3879\n",
      "Epoch 11/50\n",
      "119/119 [==============================] - 0s 2ms/step - loss: 0.2135 - val_loss: 0.4338\n",
      "Epoch 12/50\n",
      "119/119 [==============================] - 0s 2ms/step - loss: 0.2074 - val_loss: 0.3975\n",
      "Epoch 13/50\n",
      "119/119 [==============================] - 0s 1ms/step - loss: 0.1998 - val_loss: 0.4051\n",
      "Epoch 14/50\n",
      "119/119 [==============================] - 0s 1ms/step - loss: 0.1989 - val_loss: 0.3663\n",
      "Epoch 15/50\n",
      "119/119 [==============================] - 0s 1ms/step - loss: 0.1964 - val_loss: 0.3714\n",
      "Epoch 16/50\n",
      "119/119 [==============================] - 0s 1ms/step - loss: 0.1904 - val_loss: 0.4025\n",
      "Epoch 17/50\n",
      "119/119 [==============================] - 0s 2ms/step - loss: 0.1847 - val_loss: 0.3761\n",
      "Epoch 18/50\n",
      "119/119 [==============================] - 0s 2ms/step - loss: 0.1809 - val_loss: 0.4216\n",
      "Epoch 19/50\n",
      "119/119 [==============================] - 0s 1ms/step - loss: 0.1746 - val_loss: 0.3570\n",
      "Epoch 20/50\n",
      "119/119 [==============================] - 0s 1ms/step - loss: 0.1750 - val_loss: 0.3685\n",
      "Epoch 21/50\n",
      "119/119 [==============================] - 0s 2ms/step - loss: 0.1704 - val_loss: 0.3775\n",
      "Epoch 22/50\n",
      "119/119 [==============================] - 0s 2ms/step - loss: 0.1709 - val_loss: 0.3502\n",
      "Epoch 23/50\n",
      "119/119 [==============================] - 0s 1ms/step - loss: 0.1676 - val_loss: 0.3284\n",
      "Epoch 24/50\n",
      "119/119 [==============================] - 0s 2ms/step - loss: 0.1605 - val_loss: 0.3705\n",
      "Epoch 25/50\n",
      "119/119 [==============================] - 0s 1ms/step - loss: 0.1633 - val_loss: 0.4051\n",
      "Epoch 26/50\n",
      "119/119 [==============================] - 0s 1ms/step - loss: 0.1600 - val_loss: 0.4093\n",
      "Epoch 27/50\n",
      "119/119 [==============================] - 0s 1ms/step - loss: 0.1627 - val_loss: 0.3895\n",
      "Epoch 28/50\n",
      "119/119 [==============================] - 0s 1ms/step - loss: 0.1611 - val_loss: 0.4007\n",
      "Epoch 29/50\n",
      "119/119 [==============================] - 0s 2ms/step - loss: 0.1551 - val_loss: 0.3980\n",
      "Epoch 30/50\n",
      "119/119 [==============================] - 0s 2ms/step - loss: 0.1543 - val_loss: 0.3665\n",
      "Epoch 31/50\n",
      "119/119 [==============================] - 0s 1ms/step - loss: 0.1524 - val_loss: 0.3920\n",
      "Epoch 32/50\n",
      "119/119 [==============================] - 0s 1ms/step - loss: 0.1476 - val_loss: 0.3527\n",
      "Epoch 33/50\n",
      "119/119 [==============================] - 0s 2ms/step - loss: 0.1556 - val_loss: 0.3931\n",
      "Epoch 34/50\n",
      "119/119 [==============================] - 0s 1ms/step - loss: 0.1505 - val_loss: 0.3987\n",
      "Epoch 35/50\n",
      "119/119 [==============================] - 0s 2ms/step - loss: 0.1503 - val_loss: 0.3773\n",
      "Epoch 36/50\n",
      "119/119 [==============================] - 0s 1ms/step - loss: 0.1505 - val_loss: 0.4113\n",
      "Epoch 37/50\n",
      "119/119 [==============================] - 0s 2ms/step - loss: 0.1526 - val_loss: 0.4085\n",
      "Epoch 38/50\n",
      "119/119 [==============================] - 0s 1ms/step - loss: 0.1456 - val_loss: 0.4000\n",
      "Epoch 39/50\n",
      "119/119 [==============================] - 0s 2ms/step - loss: 0.1452 - val_loss: 0.3774\n",
      "Epoch 40/50\n",
      "119/119 [==============================] - 0s 1ms/step - loss: 0.1430 - val_loss: 0.3988\n",
      "Epoch 41/50\n",
      "119/119 [==============================] - 0s 1ms/step - loss: 0.1452 - val_loss: 0.3792\n",
      "Epoch 42/50\n",
      "119/119 [==============================] - 0s 2ms/step - loss: 0.1376 - val_loss: 0.4170\n",
      "Epoch 43/50\n",
      "119/119 [==============================] - 0s 2ms/step - loss: 0.1404 - val_loss: 0.4240\n"
     ]
    }
   ],
   "source": [
    "early_stop = keras.callbacks.EarlyStopping(monitor='val_loss', patience=20)\n",
    "\n",
    "#mse\n",
    "history_mse = model_mse.fit(x_train_flattened, y_train_flattened, \n",
    "                            batch_size      = minibatch_size,\n",
    "                            epochs          = num_epochs,\n",
    "                            validation_split= 0.2, \n",
    "                            verbose         = 1,\n",
    "                            callbacks       = [early_stop])\n",
    "#mae\n",
    "history_mae = model_mae.fit(x_train_flattened, y_train_flattened, \n",
    "                            batch_size      = minibatch_size,\n",
    "                            epochs          = num_epochs,\n",
    "                            validation_split= 0.2, \n",
    "                            verbose         = 1,\n",
    "                            callbacks       = [early_stop])"
   ]
  },
  {
   "cell_type": "code",
   "execution_count": 16,
   "id": "433a2506-3a89-4ba7-86aa-abbcb63aa9f7",
   "metadata": {
    "ExecuteTime": {
     "start_time": "2023-12-19T06:29:07.045072900Z"
    },
    "tags": []
   },
   "outputs": [
    {
     "data": {
      "text/plain": [
       "<matplotlib.legend.Legend at 0x7c663c281f30>"
      ]
     },
     "execution_count": 16,
     "metadata": {},
     "output_type": "execute_result"
    },
    {
     "data": {
      "image/png": "[encoded data removed]",
      "text/plain": [
       "<Figure size 640x480 with 2 Axes>"
      ]
     },
     "metadata": {},
     "output_type": "display_data"
    }
   ],
   "source": [
    "plt.subplot(2, 2, 1)\n",
    "plt.plot(history_mse.history['loss'])\n",
    "plt.plot(history_mse.history['val_loss'])\n",
    "plt.title('loss: Mean Squared Error', fontsize=12)\n",
    "plt.ylabel('mse')\n",
    "plt.xlabel('Epoch')\n",
    "plt.legend(['Train loss', 'Val loss'], fontsize=10, loc='upper right')\n",
    "\n",
    "plt.subplot(2, 2, 2)\n",
    "plt.plot(history_mae.history['loss'])\n",
    "plt.plot(history_mae.history['val_loss'])\n",
    "plt.title('loss: Mean Absolute Error', fontsize=12)\n",
    "plt.ylabel('mae')\n",
    "plt.xlabel('Epoch')\n",
    "plt.legend(['Train loss', 'Val loss'], fontsize=10, loc='upper right')"
   ]
  },
  {
   "cell_type": "code",
   "execution_count": 17,
   "id": "33fb1fdc-9c80-4ec7-a08b-47b9c172d8bb",
   "metadata": {
    "ExecuteTime": {
     "start_time": "2023-12-19T06:29:07.046072800Z"
    },
    "tags": []
   },
   "outputs": [
    {
     "name": "stderr",
     "output_type": "stream",
     "text": [
      "/srv/conda/envs/notebook/lib/python3.10/site-packages/keras/src/engine/training.py:3103: UserWarning: You are saving your model as an HDF5 file via `model.save()`. This file format is considered legacy. We recommend using instead the native Keras format, e.g. `model.save('my_model.keras')`.\n",
      "  saving_api.save_model(\n"
     ]
    }
   ],
   "source": [
    "model_path = os.path.join(cwd,'saved_model')\n",
    "os.makedirs(model_path, exist_ok=True)\n",
    "model_mse.save(os.path.join(model_path,'NN_mse_model.h5'))\n",
    "model_mae.save(os.path.join(model_path, 'NN_mae_model.h5'))"
   ]
  },
  {
   "cell_type": "markdown",
   "id": "186001d7-ca83-4f1c-b27e-69b460591009",
   "metadata": {
    "tags": []
   },
   "source": [
    "##### NN + keras tuner"
   ]
  },
  {
   "cell_type": "markdown",
   "id": "2130c776-1cef-40fd-8819-a1df83a60295",
   "metadata": {
    "tags": []
   },
   "source": [
    "##### CNN + Keras tuner"
   ]
  },
  {
   "cell_type": "code",
   "execution_count": 18,
   "id": "b6843ab9-ba25-4e07-949f-b8c3a494004d",
   "metadata": {
    "ExecuteTime": {
     "start_time": "2023-12-19T06:29:07.050589500Z"
    },
    "tags": []
   },
   "outputs": [],
   "source": [
    "minibatch_size = 64\n",
    "num_epochs     = 80\n",
    "n_trials       = 10   # total number of trials in hyperparameter tuning"
   ]
  },
  {
   "cell_type": "code",
   "execution_count": 19,
   "id": "d8777505-b248-4456-a841-6b0eb1774f34",
   "metadata": {
    "ExecuteTime": {
     "start_time": "2023-12-19T06:29:07.051589300Z"
    },
    "tags": []
   },
   "outputs": [],
   "source": [
    "def CNN_model(hp):\n",
    "    \n",
    "    # options for hyperparameters\n",
    "    hp_filters = hp.Choice('filters', values=[16,32,64])\n",
    "    hp_kernel_size = hp.Choice('kernel_size', values=[2,3,4,5])\n",
    "    hp_activation = hp.Choice('activation', values=['relu', 'tanh', 'sigmoid'])\n",
    "    hp_learning_rate = hp.Choice('learning_rate', values=[1e-2, 1e-3, 1e-4, 1e-5])\n",
    "    hp_loss = hp.Choice('loss', values=['mse','mae'])\n",
    "    \n",
    "    # build CNN models according to the hyperparameters\n",
    "    model = keras.models.Sequential()\n",
    "\n",
    "    model.add(Dense(hp_filters*5*5, input_shape=x_train.shape[1:], activation=hp_activation)) \n",
    "    \n",
    "    model.add(Conv2DTranspose(filters=hp_filters, kernel_size=hp_kernel_size, \n",
    "                              activation=hp_activation, strides=1, padding='same')) # shape: (5,5,filters)\n",
    "    \n",
    "    model.add(Conv2DTranspose(filters=hp_filters, kernel_size=hp_kernel_size, \n",
    "                              activation=hp_activation, strides=1, padding='same')) # shape: (48,72,filters)\n",
    "    \n",
    "    model.add(Conv2DTranspose(filters=hp_filters, kernel_size=hp_kernel_size, \n",
    "                              activation=hp_activation, strides=1, padding='same')) # shape: (96,144,filters)\n",
    "    \n",
    "    model.add(Conv2DTranspose(filters=1, kernel_size=hp_kernel_size, \n",
    "                              activation=\"linear\", padding=\"same\")) # shape: (96,144,1)\n",
    "    \n",
    "    model.compile(loss=hp_loss, optimizer=tf.keras.optimizers.Adam(learning_rate=hp_learning_rate))\n",
    "    \n",
    "    return model"
   ]
  },
  {
   "cell_type": "code",
   "execution_count": 20,
   "id": "7d1561e4-767a-44d6-96f1-d8c2541a3b31",
   "metadata": {
    "ExecuteTime": {
     "start_time": "2023-12-19T06:29:07.051589300Z"
    },
    "tags": []
   },
   "outputs": [
    {
     "name": "stdout",
     "output_type": "stream",
     "text": [
      "Reloading Tuner from random_search/random_search_CNN_10trials/tuner0.json\n"
     ]
    }
   ],
   "source": [
    "random_tuner = keras_tuner.RandomSearch(CNN_model, \n",
    "                                        max_trials=n_trials,\n",
    "                                        seed=5,\n",
    "                                        objective='val_loss', \n",
    "                                        max_retries_per_trial=0,\n",
    "                                        max_consecutive_failed_trials=3,\n",
    "                                        directory='random_search', \n",
    "                                        project_name='random_search_CNN_10trials')"
   ]
  },
  {
   "cell_type": "code",
   "execution_count": 21,
   "id": "c6a39edb-504d-4b30-bb4d-a270f3f62814",
   "metadata": {
    "ExecuteTime": {
     "start_time": "2023-12-19T06:29:07.052663600Z"
    },
    "tags": []
   },
   "outputs": [],
   "source": [
    "early_stop = keras.callbacks.EarlyStopping(monitor='val_loss', patience=10)\n"
   ]
  },
  {
   "cell_type": "code",
   "execution_count": 22,
   "id": "a69854b2-8a5a-4c42-8158-f45e7bf803a4",
   "metadata": {
    "ExecuteTime": {
     "start_time": "2023-12-19T06:29:07.053663800Z"
    },
    "tags": []
   },
   "outputs": [],
   "source": [
    "random_tuner.search(x_train_np, y_train_np,\n",
    "                    batch_size = minibatch_size,\n",
    "                    epochs = num_epochs, \n",
    "                    validation_split = 0.2, \n",
    "                    callbacks = [early_stop])"
   ]
  },
  {
   "cell_type": "code",
   "execution_count": 23,
   "id": "d15119b1-e2b9-40ac-80ae-97b8786aff99",
   "metadata": {
    "ExecuteTime": {
     "start_time": "2023-12-19T06:29:07.054663200Z"
    },
    "tags": []
   },
   "outputs": [
    {
     "ename": "NameError",
     "evalue": "name 'x_train' is not defined",
     "output_type": "error",
     "traceback": [
      "\u001b[0;31m---------------------------------------------------------------------------\u001b[0m",
      "\u001b[0;31mNameError\u001b[0m                                 Traceback (most recent call last)",
      "Cell \u001b[0;32mIn[23], line 1\u001b[0m\n\u001b[0;32m----> 1\u001b[0m best_model \u001b[38;5;241m=\u001b[39m \u001b[43mrandom_tuner\u001b[49m\u001b[38;5;241;43m.\u001b[39;49m\u001b[43mget_best_models\u001b[49m\u001b[43m(\u001b[49m\u001b[43m)\u001b[49m[\u001b[38;5;241m0\u001b[39m]\n\u001b[1;32m      2\u001b[0m best_model\u001b[38;5;241m.\u001b[39msummary()\n",
      "File \u001b[0;32m/srv/conda/envs/notebook/lib/python3.10/site-packages/keras_tuner/src/engine/tuner.py:400\u001b[0m, in \u001b[0;36mTuner.get_best_models\u001b[0;34m(self, num_models)\u001b[0m\n\u001b[1;32m    382\u001b[0m \u001b[38;5;250m\u001b[39m\u001b[38;5;124;03m\"\"\"Returns the best model(s), as determined by the tuner's objective.\u001b[39;00m\n\u001b[1;32m    383\u001b[0m \n\u001b[1;32m    384\u001b[0m \u001b[38;5;124;03mThe models are loaded with the weights corresponding to\u001b[39;00m\n\u001b[0;32m   (...)\u001b[0m\n\u001b[1;32m    397\u001b[0m \u001b[38;5;124;03m    List of trained model instances sorted from the best to the worst.\u001b[39;00m\n\u001b[1;32m    398\u001b[0m \u001b[38;5;124;03m\"\"\"\u001b[39;00m\n\u001b[1;32m    399\u001b[0m \u001b[38;5;66;03m# Method only exists in this class for the docstring override.\u001b[39;00m\n\u001b[0;32m--> 400\u001b[0m \u001b[38;5;28;01mreturn\u001b[39;00m \u001b[38;5;28;43msuper\u001b[39;49m\u001b[43m(\u001b[49m\u001b[43m)\u001b[49m\u001b[38;5;241;43m.\u001b[39;49m\u001b[43mget_best_models\u001b[49m\u001b[43m(\u001b[49m\u001b[43mnum_models\u001b[49m\u001b[43m)\u001b[49m\n",
      "File \u001b[0;32m/srv/conda/envs/notebook/lib/python3.10/site-packages/keras_tuner/src/engine/base_tuner.py:365\u001b[0m, in \u001b[0;36mBaseTuner.get_best_models\u001b[0;34m(self, num_models)\u001b[0m\n\u001b[1;32m    350\u001b[0m \u001b[38;5;250m\u001b[39m\u001b[38;5;124;03m\"\"\"Returns the best model(s), as determined by the objective.\u001b[39;00m\n\u001b[1;32m    351\u001b[0m \n\u001b[1;32m    352\u001b[0m \u001b[38;5;124;03mThis method is for querying the models trained during the search.\u001b[39;00m\n\u001b[0;32m   (...)\u001b[0m\n\u001b[1;32m    362\u001b[0m \u001b[38;5;124;03m    List of trained models sorted from the best to the worst.\u001b[39;00m\n\u001b[1;32m    363\u001b[0m \u001b[38;5;124;03m\"\"\"\u001b[39;00m\n\u001b[1;32m    364\u001b[0m best_trials \u001b[38;5;241m=\u001b[39m \u001b[38;5;28mself\u001b[39m\u001b[38;5;241m.\u001b[39moracle\u001b[38;5;241m.\u001b[39mget_best_trials(num_models)\n\u001b[0;32m--> 365\u001b[0m models \u001b[38;5;241m=\u001b[39m [\u001b[38;5;28mself\u001b[39m\u001b[38;5;241m.\u001b[39mload_model(trial) \u001b[38;5;28;01mfor\u001b[39;00m trial \u001b[38;5;129;01min\u001b[39;00m best_trials]\n\u001b[1;32m    366\u001b[0m \u001b[38;5;28;01mreturn\u001b[39;00m models\n",
      "File \u001b[0;32m/srv/conda/envs/notebook/lib/python3.10/site-packages/keras_tuner/src/engine/base_tuner.py:365\u001b[0m, in \u001b[0;36m<listcomp>\u001b[0;34m(.0)\u001b[0m\n\u001b[1;32m    350\u001b[0m \u001b[38;5;250m\u001b[39m\u001b[38;5;124;03m\"\"\"Returns the best model(s), as determined by the objective.\u001b[39;00m\n\u001b[1;32m    351\u001b[0m \n\u001b[1;32m    352\u001b[0m \u001b[38;5;124;03mThis method is for querying the models trained during the search.\u001b[39;00m\n\u001b[0;32m   (...)\u001b[0m\n\u001b[1;32m    362\u001b[0m \u001b[38;5;124;03m    List of trained models sorted from the best to the worst.\u001b[39;00m\n\u001b[1;32m    363\u001b[0m \u001b[38;5;124;03m\"\"\"\u001b[39;00m\n\u001b[1;32m    364\u001b[0m best_trials \u001b[38;5;241m=\u001b[39m \u001b[38;5;28mself\u001b[39m\u001b[38;5;241m.\u001b[39moracle\u001b[38;5;241m.\u001b[39mget_best_trials(num_models)\n\u001b[0;32m--> 365\u001b[0m models \u001b[38;5;241m=\u001b[39m [\u001b[38;5;28;43mself\u001b[39;49m\u001b[38;5;241;43m.\u001b[39;49m\u001b[43mload_model\u001b[49m\u001b[43m(\u001b[49m\u001b[43mtrial\u001b[49m\u001b[43m)\u001b[49m \u001b[38;5;28;01mfor\u001b[39;00m trial \u001b[38;5;129;01min\u001b[39;00m best_trials]\n\u001b[1;32m    366\u001b[0m \u001b[38;5;28;01mreturn\u001b[39;00m models\n",
      "File \u001b[0;32m/srv/conda/envs/notebook/lib/python3.10/site-packages/keras_tuner/src/engine/tuner.py:320\u001b[0m, in \u001b[0;36mTuner.load_model\u001b[0;34m(self, trial)\u001b[0m\n\u001b[1;32m    319\u001b[0m \u001b[38;5;28;01mdef\u001b[39;00m \u001b[38;5;21mload_model\u001b[39m(\u001b[38;5;28mself\u001b[39m, trial):\n\u001b[0;32m--> 320\u001b[0m     model \u001b[38;5;241m=\u001b[39m \u001b[38;5;28;43mself\u001b[39;49m\u001b[38;5;241;43m.\u001b[39;49m\u001b[43m_try_build\u001b[49m\u001b[43m(\u001b[49m\u001b[43mtrial\u001b[49m\u001b[38;5;241;43m.\u001b[39;49m\u001b[43mhyperparameters\u001b[49m\u001b[43m)\u001b[49m\n\u001b[1;32m    322\u001b[0m     \u001b[38;5;66;03m# Build model to create the weights.\u001b[39;00m\n\u001b[1;32m    323\u001b[0m     \u001b[38;5;28;01mif\u001b[39;00m backend\u001b[38;5;241m.\u001b[39mconfig\u001b[38;5;241m.\u001b[39mmulti_backend() \u001b[38;5;129;01mand\u001b[39;00m \u001b[38;5;129;01mnot\u001b[39;00m model\u001b[38;5;241m.\u001b[39mbuilt:\n",
      "File \u001b[0;32m/srv/conda/envs/notebook/lib/python3.10/site-packages/keras_tuner/src/engine/tuner.py:164\u001b[0m, in \u001b[0;36mTuner._try_build\u001b[0;34m(self, hp)\u001b[0m\n\u001b[1;32m    161\u001b[0m keras\u001b[38;5;241m.\u001b[39mbackend\u001b[38;5;241m.\u001b[39mclear_session()\n\u001b[1;32m    162\u001b[0m gc\u001b[38;5;241m.\u001b[39mcollect()\n\u001b[0;32m--> 164\u001b[0m model \u001b[38;5;241m=\u001b[39m \u001b[38;5;28;43mself\u001b[39;49m\u001b[38;5;241;43m.\u001b[39;49m\u001b[43m_build_hypermodel\u001b[49m\u001b[43m(\u001b[49m\u001b[43mhp\u001b[49m\u001b[43m)\u001b[49m\n\u001b[1;32m    165\u001b[0m \u001b[38;5;66;03m# Stop if `build()` does not return a valid model.\u001b[39;00m\n\u001b[1;32m    166\u001b[0m \u001b[38;5;28;01mif\u001b[39;00m \u001b[38;5;129;01mnot\u001b[39;00m \u001b[38;5;28misinstance\u001b[39m(model, keras\u001b[38;5;241m.\u001b[39mmodels\u001b[38;5;241m.\u001b[39mModel):\n",
      "File \u001b[0;32m/srv/conda/envs/notebook/lib/python3.10/site-packages/keras_tuner/src/engine/tuner.py:155\u001b[0m, in \u001b[0;36mTuner._build_hypermodel\u001b[0;34m(self, hp)\u001b[0m\n\u001b[1;32m    153\u001b[0m \u001b[38;5;28;01mdef\u001b[39;00m \u001b[38;5;21m_build_hypermodel\u001b[39m(\u001b[38;5;28mself\u001b[39m, hp):\n\u001b[1;32m    154\u001b[0m     \u001b[38;5;28;01mwith\u001b[39;00m maybe_distribute(\u001b[38;5;28mself\u001b[39m\u001b[38;5;241m.\u001b[39mdistribution_strategy):\n\u001b[0;32m--> 155\u001b[0m         model \u001b[38;5;241m=\u001b[39m \u001b[38;5;28;43mself\u001b[39;49m\u001b[38;5;241;43m.\u001b[39;49m\u001b[43mhypermodel\u001b[49m\u001b[38;5;241;43m.\u001b[39;49m\u001b[43mbuild\u001b[49m\u001b[43m(\u001b[49m\u001b[43mhp\u001b[49m\u001b[43m)\u001b[49m\n\u001b[1;32m    156\u001b[0m         \u001b[38;5;28mself\u001b[39m\u001b[38;5;241m.\u001b[39m_override_compile_args(model)\n\u001b[1;32m    157\u001b[0m         \u001b[38;5;28;01mreturn\u001b[39;00m model\n",
      "Cell \u001b[0;32mIn[19], line 13\u001b[0m, in \u001b[0;36mCNN_model\u001b[0;34m(hp)\u001b[0m\n\u001b[1;32m     10\u001b[0m \u001b[38;5;66;03m# build CNN models according to the hyperparameters\u001b[39;00m\n\u001b[1;32m     11\u001b[0m model \u001b[38;5;241m=\u001b[39m keras\u001b[38;5;241m.\u001b[39mmodels\u001b[38;5;241m.\u001b[39mSequential()\n\u001b[0;32m---> 13\u001b[0m model\u001b[38;5;241m.\u001b[39madd(Dense(hp_filters\u001b[38;5;241m*\u001b[39m\u001b[38;5;241m5\u001b[39m\u001b[38;5;241m*\u001b[39m\u001b[38;5;241m5\u001b[39m, input_shape\u001b[38;5;241m=\u001b[39m\u001b[43mx_train\u001b[49m\u001b[38;5;241m.\u001b[39mshape[\u001b[38;5;241m1\u001b[39m:], activation\u001b[38;5;241m=\u001b[39mhp_activation)) \n\u001b[1;32m     15\u001b[0m model\u001b[38;5;241m.\u001b[39madd(Conv2DTranspose(filters\u001b[38;5;241m=\u001b[39mhp_filters, kernel_size\u001b[38;5;241m=\u001b[39mhp_kernel_size, \n\u001b[1;32m     16\u001b[0m                           activation\u001b[38;5;241m=\u001b[39mhp_activation, strides\u001b[38;5;241m=\u001b[39m\u001b[38;5;241m1\u001b[39m, padding\u001b[38;5;241m=\u001b[39m\u001b[38;5;124m'\u001b[39m\u001b[38;5;124msame\u001b[39m\u001b[38;5;124m'\u001b[39m)) \u001b[38;5;66;03m# shape: (5,5,filters)\u001b[39;00m\n\u001b[1;32m     18\u001b[0m model\u001b[38;5;241m.\u001b[39madd(Conv2DTranspose(filters\u001b[38;5;241m=\u001b[39mhp_filters, kernel_size\u001b[38;5;241m=\u001b[39mhp_kernel_size, \n\u001b[1;32m     19\u001b[0m                           activation\u001b[38;5;241m=\u001b[39mhp_activation, strides\u001b[38;5;241m=\u001b[39m\u001b[38;5;241m1\u001b[39m, padding\u001b[38;5;241m=\u001b[39m\u001b[38;5;124m'\u001b[39m\u001b[38;5;124msame\u001b[39m\u001b[38;5;124m'\u001b[39m)) \u001b[38;5;66;03m# shape: (48,72,filters)\u001b[39;00m\n",
      "\u001b[0;31mNameError\u001b[0m: name 'x_train' is not defined"
     ]
    }
   ],
   "source": [
    "best_model = random_tuner.get_best_models()[0]\n",
    "best_model.summary()\n"
   ]
  },
  {
   "cell_type": "code",
   "execution_count": null,
   "id": "7f640435-7259-4127-975a-b3d64171ea0a",
   "metadata": {
    "ExecuteTime": {
     "start_time": "2023-12-19T06:29:07.055663700Z"
    },
    "scrolled": true,
    "tags": []
   },
   "outputs": [],
   "source": [
    "all_hps = random_tuner.get_best_hyperparameters(num_trials=n_trials)\n",
    "\n",
    "# print the hyperparameters of the top 3 tuning trials\n",
    "for it in range(3):\n",
    "    print(\"Ranking #\", str(it+1).zfill(1), \"of best tuning, total trials = \", str(n_trials))\n",
    "    print(all_hps[it].values)\n",
    "    print(\"=============================================================================================\")\n",
    "\n",
    "\n",
    "# get the hyperparameters of the best tuning trial\n",
    "best_hps = random_tuner.get_best_hyperparameters(num_trials=n_trials)[0]\n",
    "\n",
    "# get the hyperparameters of the second ranking tuning trial\n",
    "top2_hps = random_tuner.get_best_hyperparameters(num_trials=n_trials)[1]"
   ]
  },
  {
   "cell_type": "code",
   "execution_count": null,
   "id": "513e3be4-9906-48e2-a368-4e16b12908cd",
   "metadata": {
    "ExecuteTime": {
     "start_time": "2023-12-19T06:29:07.056663600Z"
    },
    "scrolled": true,
    "tags": []
   },
   "outputs": [],
   "source": [
    "## Build the model with the optimal hyperparameters\n",
    "# ---------- best tuning ----------\n",
    "model_best = random_tuner.hypermodel.build(best_hps)\n",
    "\n",
    "# ---------- ranking #2 tuning ----------\n",
    "model_top2 = random_tuner.hypermodel.build(top2_hps)\n",
    "\n",
    "\n",
    "\n",
    "## re-train the model\n",
    "# ---------- best tuning ----------\n",
    "history_best = model_best.fit(x_train, y_train,\n",
    "                              batch_size      = minibatch_size,\n",
    "                              epochs          = num_epochs,\n",
    "                              validation_split= 0.2, \n",
    "                              verbose         = 1,\n",
    "                              callbacks       = [early_stop])\n",
    "# ---------- ranking #2 tuning ----------\n",
    "history_top2 = model_top2.fit(x_train, y_train,\n",
    "                              batch_size      = minibatch_size,\n",
    "                              epochs          = num_epochs,\n",
    "                              validation_split= 0.2, \n",
    "                              verbose         = 1,\n",
    "                              callbacks       = [early_stop])"
   ]
  },
  {
   "cell_type": "code",
   "execution_count": null,
   "id": "b64dbe51-0290-4479-b065-6aac55e18282",
   "metadata": {
    "ExecuteTime": {
     "end_time": "2023-12-19T06:29:07.124861800Z",
     "start_time": "2023-12-19T06:29:07.057663700Z"
    },
    "tags": []
   },
   "outputs": [],
   "source": [
    "## set up title and ylabel strings\n",
    "# ---------- best tuning ----------\n",
    "title_best = 'loss: '+str(best_hps['loss'])\n",
    "ylabel_best = best_hps['loss']\n",
    "# ---------- ranking #2 tuning ----------\n",
    "title_top2 = 'loss: '+str(top2_hps['loss'])\n",
    "ylabel_top2 = top2_hps['loss']\n",
    "\n",
    "\n",
    "## plot history\n",
    "# ---------- best tuning ----------\n",
    "plt.subplot(1, 2, 1)\n",
    "plt.plot(history_best.history['loss'])\n",
    "plt.plot(history_best.history['val_loss'])\n",
    "plt.title(title_best, fontsize=12)\n",
    "plt.ylabel(ylabel_best)\n",
    "plt.xlabel('Epoch')\n",
    "plt.legend(['Train loss', 'Val loss'], fontsize=10, loc='upper right')\n",
    "\n",
    "# ---------- ranking #2 tuning ----------\n",
    "plt.subplot(1, 2, 2)\n",
    "plt.plot(history_top2.history['loss'])\n",
    "plt.plot(history_top2.history['val_loss'])\n",
    "plt.title(title_top2, fontsize=12)\n",
    "plt.ylabel(ylabel_top2)\n",
    "plt.xlabel('Epoch')\n",
    "plt.legend(['Train loss', 'Val loss'], fontsize=10, loc='upper right')"
   ]
  },
  {
   "cell_type": "code",
   "execution_count": null,
   "id": "cbcb9061-ed6b-430b-987d-8f0b510d006c",
   "metadata": {
    "ExecuteTime": {
     "start_time": "2023-12-19T06:29:07.058663700Z"
    },
    "tags": []
   },
   "outputs": [],
   "source": [
    "model_path = os.path.join(cwd,'saved_model')\n",
    "os.makedirs(model_path, exist_ok=True)\n"
   ]
  },
  {
   "cell_type": "code",
   "execution_count": null,
   "id": "517d8d3e-6cf9-4392-9384-6fdde19bd32a",
   "metadata": {
    "ExecuteTime": {
     "start_time": "2023-12-19T06:29:07.058663700Z"
    },
    "tags": []
   },
   "outputs": [],
   "source": [
    "model_best.save(os.path.join(model_path,'CNN_model_randomsearch_10trials_rank1.h5'))\n",
    "model_top2.save(os.path.join(model_path,'CNN_model_randomsearch_10trials_rank2.h5'))\n"
   ]
  },
  {
   "cell_type": "markdown",
   "id": "0b5e31a0-42d1-4882-8035-66fb253ebc65",
   "metadata": {
    "tags": []
   },
   "source": [
    "##### LSTM + keras tuner"
   ]
  },
  {
   "cell_type": "code",
   "execution_count": null,
   "id": "acbf0395-7f43-406a-a6eb-607793b31995",
   "metadata": {
    "ExecuteTime": {
     "start_time": "2023-12-19T06:29:07.059663900Z"
    },
    "tags": []
   },
   "outputs": [],
   "source": [
    "# set hyperparameters\n",
    "num_epochs     = 50\n",
    "minibatch_size = 64\n",
    "n_trials = 12"
   ]
  },
  {
   "cell_type": "code",
   "execution_count": null,
   "id": "7efb3f0c-66cf-444f-a1e4-066ef2288f97",
   "metadata": {
    "ExecuteTime": {
     "start_time": "2023-12-19T06:29:07.060769800Z"
    },
    "tags": []
   },
   "outputs": [],
   "source": [
    "def LSTM_model(hp):\n",
    "\n",
    "    hp_neuron = hp.Choice('filters', values=[32, 64, 128])\n",
    "    hp_activation = hp.Choice('activation', values=['relu', 'tanh', 'sigmoid'])\n",
    "    hp_learning_rate = hp.Choice('learning_rate', values=[1e-2, 1e-3, 1e-4, 1e-5])\n",
    "    hp_loss = hp.Choice('loss', values=['mse','mae'])\n",
    "    LSTM_model = Sequential()\n",
    "    LSTM_model.add(Reshape((input_shape[0], flattened_spatial_dim), input_shape=input_shape))\n",
    "    LSTM_model.add(LSTM(hp_neuron, return_sequences=True, activation=hp_activation))\n",
    "    LSTM_model.add(LSTM(hp_neuron, return_sequences=False, activation=hp_activation))\n",
    "    LSTM_model.add(Dense(output_shape[0] * output_shape[1], activation=\"linear\"))\n",
    "    LSTM_model.add(Reshape(output_shape))\n",
    "\n",
    "    LSTM_model.compile(loss=hp_loss, optimizer=tf.keras.optimizers.Adam(learning_rate=hp_learning_rate))\n",
    "    return LSTM_model\n"
   ]
  },
  {
   "cell_type": "code",
   "execution_count": null,
   "id": "e83769b9-127b-4021-8af7-7c73edf27736",
   "metadata": {
    "ExecuteTime": {
     "start_time": "2023-12-19T06:29:07.061769300Z"
    },
    "tags": []
   },
   "outputs": [],
   "source": [
    "early_stop = keras.callbacks.EarlyStopping(monitor='val_loss', patience=20)\n",
    "\n",
    "random_tuner = keras_tuner.RandomSearch(LSTM_model, \n",
    "                                        max_trials=n_trials,\n",
    "                                        seed=5,\n",
    "                                        objective='val_loss', \n",
    "                                        max_retries_per_trial=0,\n",
    "                                        max_consecutive_failed_trials=3,\n",
    "                                        directory='random_search', \n",
    "                                        project_name='random_search_LSTM_12trials')"
   ]
  },
  {
   "cell_type": "code",
   "execution_count": null,
   "id": "1741aae1-fb72-4b82-b015-2a3c5984fb17",
   "metadata": {
    "ExecuteTime": {
     "start_time": "2023-12-19T06:29:07.061769300Z"
    },
    "scrolled": true,
    "tags": []
   },
   "outputs": [],
   "source": [
    "random_tuner.search(x_train_slider, y_train_slider,\n",
    "                    batch_size = minibatch_size,\n",
    "                    epochs = num_epochs, \n",
    "                    validation_split = 0.2, \n",
    "                    callbacks = [early_stop])"
   ]
  },
  {
   "cell_type": "code",
   "execution_count": null,
   "id": "4d43ee9c-3505-42f4-92bf-a5390a0d3612",
   "metadata": {
    "ExecuteTime": {
     "start_time": "2023-12-19T06:29:07.061769300Z"
    },
    "tags": []
   },
   "outputs": [],
   "source": [
    "# get the hyperparameters of the best tuning trial\n",
    "best_hps = random_tuner.get_best_hyperparameters(num_trials=n_trials)[0]\n",
    "\n",
    "# get the hyperparameters of the second ranking tuning trial\n",
    "top2_hps = random_tuner.get_best_hyperparameters(num_trials=n_trials)[1]"
   ]
  },
  {
   "cell_type": "code",
   "execution_count": null,
   "id": "d3dcfda8-fe53-4919-837b-06ab80124770",
   "metadata": {
    "ExecuteTime": {
     "start_time": "2023-12-19T06:29:07.063055300Z"
    },
    "scrolled": true,
    "tags": []
   },
   "outputs": [],
   "source": [
    "## Build the model with the optimal hyperparameters\n",
    "# ---------- best tuning ----------\n",
    "model_best = random_tuner.hypermodel.build(best_hps)\n",
    "\n",
    "# ---------- ranking #2 tuning ----------\n",
    "model_top2 = random_tuner.hypermodel.build(top2_hps)\n",
    "\n",
    "\n",
    "\n",
    "## re-train the model\n",
    "# ---------- best tuning ----------\n",
    "history_best = model_best.fit(x_train_slider, y_train_slider,\n",
    "                              batch_size      = minibatch_size,\n",
    "                              epochs          = num_epochs,\n",
    "                              validation_split= 0.2, \n",
    "                              verbose         = 1,\n",
    "                              callbacks       = [early_stop])\n",
    "# ---------- ranking #2 tuning ----------\n",
    "history_top2 = model_top2.fit(x_train_slider, y_train_slider,\n",
    "                              batch_size      = minibatch_size,\n",
    "                              epochs          = num_epochs,\n",
    "                              validation_split= 0.2, \n",
    "                              verbose         = 1,\n",
    "                              callbacks       = [early_stop])\n"
   ]
  },
  {
   "cell_type": "code",
   "execution_count": null,
   "id": "473c9d35-6196-44c4-9379-1ba332814dab",
   "metadata": {
    "ExecuteTime": {
     "start_time": "2023-12-19T06:29:07.064045500Z"
    },
    "tags": []
   },
   "outputs": [],
   "source": [
    "## set up title and ylabel strings\n",
    "# ---------- best tuning ----------\n",
    "title_best = 'loss: '+str(best_hps['loss'])\n",
    "ylabel_best = best_hps['loss']\n",
    "# ---------- ranking #2 tuning ----------\n",
    "title_top2 = 'loss: '+str(top2_hps['loss'])\n",
    "ylabel_top2 = top2_hps['loss']\n",
    "\n",
    "\n",
    "## plot history\n",
    "# ---------- best tuning ----------\n",
    "plt.subplot(1, 2, 1)\n",
    "plt.plot(history_best.history['loss'])\n",
    "plt.plot(history_best.history['val_loss'])\n",
    "plt.title(title_best, fontsize=12)\n",
    "plt.ylabel(ylabel_best)\n",
    "plt.xlabel('Epoch')\n",
    "plt.legend(['Train loss', 'Val loss'], fontsize=10, loc='upper right')\n",
    "\n",
    "# ---------- ranking #2 tuning ----------\n",
    "plt.subplot(1, 2, 2)\n",
    "plt.plot(history_top2.history['loss'])\n",
    "plt.plot(history_top2.history['val_loss'])\n",
    "plt.title(title_top2, fontsize=12)\n",
    "plt.ylabel(ylabel_top2)\n",
    "plt.xlabel('Epoch')\n",
    "plt.legend(['Train loss', 'Val loss'], fontsize=10, loc='upper right')"
   ]
  },
  {
   "cell_type": "code",
   "execution_count": null,
   "id": "bd304916-451f-4b1e-afd2-4ec7ce128a9d",
   "metadata": {
    "ExecuteTime": {
     "start_time": "2023-12-19T06:29:07.064045500Z"
    },
    "tags": []
   },
   "outputs": [],
   "source": [
    "model_path = os.path.join(cwd,'saved_model')\n",
    "model_best.save(os.path.join(model_path,'LSTM_model_randomsearch_12trials_rank1.h5'))\n",
    "model_top2.save(os.path.join(model_path,'LSTM_model_randomsearch_12trials_rank2.h5'))"
   ]
  },
  {
   "cell_type": "markdown",
   "id": "c648806b-4b01-449c-86b4-4faabe79379a",
   "metadata": {
    "tags": []
   },
   "source": [
    "#### Test Model\n",
    "- NN\n",
    "- NN + keras tuner\n",
    "- CNN + keras tuner\n",
    "- LSTM + keras tuner\n",
    "- CNN_LSTM + keras tuner"
   ]
  },
  {
   "cell_type": "markdown",
   "id": "cbc220af-1834-408d-91b7-42a85d2ea8db",
   "metadata": {},
   "source": [
    "##### NN"
   ]
  },
  {
   "cell_type": "code",
   "execution_count": null,
   "id": "9ccc2244-8804-48a1-973a-597728632046",
   "metadata": {
    "ExecuteTime": {
     "start_time": "2023-12-19T06:29:07.065045400Z"
    },
    "tags": []
   },
   "outputs": [],
   "source": [
    "model_mse = load_model(os.path.join(model_path,'NN_mse_model.h5'))\n",
    "model_mae = load_model(os.path.join(model_path,'NN_mae_model.h5'))"
   ]
  },
  {
   "cell_type": "code",
   "execution_count": null,
   "id": "6bca4105-05aa-42d2-98c6-9bb5a0a96e6c",
   "metadata": {
    "ExecuteTime": {
     "start_time": "2023-12-19T06:29:07.065045400Z"
    },
    "tags": []
   },
   "outputs": [],
   "source": [
    "y_test_mse_pre = model_mse.predict(x_test_flattened)\n",
    "y_test_mae_pre = model_mae.predict(x_test_flattened)"
   ]
  },
  {
   "cell_type": "code",
   "execution_count": null,
   "id": "abfb4cda-b16a-43b6-957f-a983ffa5a672",
   "metadata": {
    "ExecuteTime": {
     "start_time": "2023-12-19T06:29:07.066045200Z"
    },
    "tags": []
   },
   "outputs": [],
   "source": [
    "y_test_mse_pre = y_test_mse_pre.reshape(y_test_mse_pre.shape[0], 5, 5)\n",
    "y_test_mse_pre = xr.Dataset(coords={'time': x_test_xr.time.values, \n",
    "                                     'latitude': x_test_xr.latitude.values, \n",
    "                                     'longitude': x_test_xr.longitude.values},\n",
    "                             data_vars=dict(sithick=(['time', 'latitude', 'longitude'], y_test_mse_pre)))\n",
    "\n",
    "y_test_mae_pre = y_test_mae_pre.reshape(y_test_mae_pre.shape[0], 5, 5)\n",
    "y_test_mae_pre = xr.Dataset(coords={'time': x_test_xr.time.values, \n",
    "                                     'latitude': x_test_xr.latitude.values, \n",
    "                                     'longitude': x_test_xr.longitude.values},\n",
    "                             data_vars=dict(sithick=(['time', 'latitude', 'longitude'], y_test_mae_pre)))\n"
   ]
  },
  {
   "cell_type": "code",
   "execution_count": null,
   "id": "e0a91f6a-1ac7-42c5-a789-493410e8beea",
   "metadata": {
    "ExecuteTime": {
     "start_time": "2023-12-19T06:29:07.067045400Z"
    },
    "tags": []
   },
   "outputs": [],
   "source": [
    "y_test_mse_pre"
   ]
  },
  {
   "cell_type": "raw",
   "id": "850df08f37a7d563",
   "metadata": {},
   "source": [
    "graph"
   ]
  },
  {
   "cell_type": "code",
   "execution_count": null,
   "id": "dac0533887c9b4cc",
   "metadata": {
    "ExecuteTime": {
     "start_time": "2023-12-19T06:29:07.067045400Z"
    },
    "collapsed": false,
    "jupyter": {
     "outputs_hidden": false
    }
   },
   "outputs": [],
   "source": [
    "print(y_test_np.shape)\n",
    "y_test_np = xr.Dataset(coords={'time': y_test_xr.time.values, \n",
    "                                     'latitude': y_test_xr.latitude.values, \n",
    "                                     'longitude': y_test_xr.longitude.values},\n",
    "                             data_vars=dict(sithick=(['time', 'latitude', 'longitude'], y_test_np)))"
   ]
  },
  {
   "cell_type": "code",
   "execution_count": null,
   "id": "acdd680c375934c6",
   "metadata": {
    "ExecuteTime": {
     "start_time": "2023-12-19T06:29:07.068045500Z"
    },
    "collapsed": false,
    "jupyter": {
     "outputs_hidden": false
    }
   },
   "outputs": [],
   "source": [
    "lat = 83.25\n",
    "lon = -57.75\n",
    "#mse\n",
    "fig, ax = plt.subplots(figsize=(9, 4))\n",
    "y_test_np.sel(latitude=lat, longitude=lon, method='nearest')[\"sithick\"].plot(ax=ax, label='Truth')\n",
    "y_test_mse_pre.sel(latitude=lat, longitude=lon, method='nearest')[\"sithick\"].plot(ax=ax, label='Prediction-mse')\n",
    "\n",
    "ax.legend()\n",
    "ax.set_ylabel('Sea ice thickness-mse (m)') \n",
    "\n",
    "plt.tight_layout()\n",
    "plt.show()\n",
    "#mae\n",
    "fig, ax = plt.subplots(figsize=(9, 4))\n",
    "y_test_np.sel(latitude=lat, longitude=lon, method='nearest')[\"sithick\"].plot(ax=ax, label='Truth')\n",
    "y_test_mae_pre.sel(latitude=lat, longitude=lon, method='nearest')[\"sithick\"].plot(ax=ax, label='Prediction-mae')\n",
    "\n",
    "ax.legend()\n",
    "ax.set_ylabel('Sea ice thickness (m)') \n",
    "\n",
    "plt.tight_layout()\n",
    "plt.show()"
   ]
  },
  {
   "cell_type": "code",
   "execution_count": null,
   "id": "e1192208ed4687a7",
   "metadata": {
    "ExecuteTime": {
     "start_time": "2023-12-19T06:29:07.068045500Z"
    },
    "collapsed": false,
    "jupyter": {
     "outputs_hidden": false
    }
   },
   "outputs": [],
   "source": [
    "def global_mean_std_plot(X, label, color, ax, var='sithick'):\n",
    "    weights = np.cos(np.deg2rad(X.latitude))\n",
    "    sithick_mean = X[var].weighted(weights).mean(['latitude', 'longitude']).data\n",
    "    sithick_std = X[var].weighted(weights).std(['latitude', 'longitude']).data\n",
    "    \n",
    "    x = X.time.data\n",
    "\n",
    "    ax.plot(x, sithick_mean, label=label, color=color, linewidth=2)\n",
    "    ax.fill_between(x, sithick_mean+sithick_std, sithick_mean-sithick_std, facecolor=color, alpha=0.2)"
   ]
  },
  {
   "cell_type": "code",
   "execution_count": null,
   "id": "91b478e2f2d71926",
   "metadata": {
    "ExecuteTime": {
     "start_time": "2023-12-19T06:29:07.068045500Z"
    },
    "collapsed": false,
    "jupyter": {
     "outputs_hidden": false
    }
   },
   "outputs": [],
   "source": [
    "fig,ax = plt.subplots(figsize=(9,4))\n",
    "#mse\n",
    "global_mean_std_plot(y_test_np,label='Truth',ax=ax,color='tab:blue')\n",
    "global_mean_std_plot(y_test_mse_pre,label='Prediction-mse',ax=ax,color='tab:orange')\n",
    "\n",
    "ax.set_xlabel('time')\n",
    "ax.set_ylabel('Sea Ice Thickness (m)')\n",
    "ax.legend()\n",
    "plt.tight_layout()\n",
    "\n",
    "fig,ax = plt.subplots(figsize=(9,4))\n",
    "#mae\n",
    "global_mean_std_plot(y_test_np,label='Truth',ax=ax,color='tab:blue')\n",
    "global_mean_std_plot(y_test_mae_pre,label='Prediction-mae',ax=ax,color='tab:orange')\n",
    "\n",
    "ax.set_xlabel('time')\n",
    "ax.set_ylabel('Sea Ice Thickness (m)')\n",
    "ax.legend()\n",
    "plt.tight_layout()"
   ]
  },
  {
   "cell_type": "code",
   "execution_count": null,
   "id": "c41fcec8-62c6-4fe9-8636-8ff4b1cb1cf9",
   "metadata": {
    "tags": []
   },
   "outputs": [],
   "source": [
    "y_train_np = xr.Dataset(coords={'time': y_train_xr.time.values, \n",
    "                                     'latitude': y_train_xr.latitude.values, \n",
    "                                     'longitude': y_train_xr.longitude.values},\n",
    "                             data_vars=dict(sithick=(['time', 'latitude', 'longitude'], y_train_np)))\n",
    "y_train_np"
   ]
  },
  {
   "cell_type": "code",
   "execution_count": null,
   "id": "1fa7aebe-a8b8-4b37-a6e8-0cd36c0b5fec",
   "metadata": {
    "tags": []
   },
   "outputs": [],
   "source": [
    "meanstd_outputs = {}\n",
    "outputs = [\"sithick\"]\n",
    "\n",
    "def normalize(data, var, meanstd_dict):\n",
    "    mean = meanstd_dict[var][0]\n",
    "    std = meanstd_dict[var][1]\n",
    "    normalized_data = (data - mean) / std\n",
    "    return normalized_data\n",
    "\n",
    "for var in outputs:  \n",
    "    meanstd_outputs[var] = (y_test_np[var].data.mean(), y_test_np[var].data.std())\n",
    "\n",
    "\n"
   ]
  },
  {
   "cell_type": "code",
   "execution_count": null,
   "id": "f3e7e5ff-2ea5-4144-8d23-2dd3bd87a2a2",
   "metadata": {
    "tags": []
   },
   "outputs": [],
   "source": [
    "for var in outputs:\n",
    "\n",
    "    # Normalize the test data\n",
    "    var_dims = y_test_np[var].dims\n",
    "    y_test_np_nor = y_test_np.assign({var: (var_dims, normalize(y_test_np[var].data, var, meanstd_outputs))})\n",
    "    \n",
    "    # Normalize the pre data\n",
    "    var_dims = y_test_mse_pre.dims\n",
    "    y_test_mse_pre_nor = y_test_mse_pre.assign({var: (var_dims, normalize(y_test_mse_pre[var].data, var, meanstd_outputs))})\n",
    "    var_dims = y_test_mae_pre.dims\n",
    "    y_test_mae_pre_nor = y_test_mae_pre.assign({var: (var_dims, normalize(y_test_mae_pre[var].data, var, meanstd_outputs))})\n",
    "    \n",
    "    print(var_dims)"
   ]
  },
  {
   "cell_type": "code",
   "execution_count": null,
   "id": "3f2104ba3f740c5e",
   "metadata": {
    "ExecuteTime": {
     "start_time": "2023-12-19T06:29:07.069550900Z"
    },
    "collapsed": false,
    "jupyter": {
     "outputs_hidden": false
    }
   },
   "outputs": [],
   "source": [
    "# specific date\n",
    "from matplotlib.colors import LinearSegmentedColormap as color\n",
    "\n",
    "season = [\"2020-3-20\", \"2020-6-21\", \"2020-9-22\", \"2020-12-21\"]\n",
    "vmin, vmax = -2, 5\n",
    "colors = [\"navy\", \"dodgerblue\",\"white\"]\n",
    "cmap = color.from_list(\"custom_cmap\", colors)\n",
    "\n",
    "#mse\n",
    "fig, axes = plt.subplots(figsize=(15, 15), ncols=2, nrows=4)  \n",
    "for i, date in enumerate(season):\n",
    "    y_test_mse_pre.sithick.sel(time=date).plot(ax=axes[i, 0], vmin=vmin, vmax=vmax, cmap=cmap)\n",
    "    y_test_np.sithick.sel(time=date).plot(ax=axes[i, 1], vmin=vmin, vmax=vmax, cmap=cmap)\n",
    "    axes[i, 0].set_title(f'Sea Ice Thickness Model Prediction ({date})-mse', fontweight='bold')\n",
    "    axes[i, 1].set_title(f'Sea Ice Thickness Truth ({date})-mse', fontweight='bold')\n",
    "\n",
    "plt.tight_layout()\n",
    "plt.show()\n",
    "\n",
    "#mae\n",
    "fig, axes = plt.subplots(figsize=(8, 8), ncols=2, nrows=4)\n",
    "for i, date in enumerate(season):\n",
    "    y_test_mae_pre.sithick.sel(time=date).plot(ax=axes[i, 0], vmin=vmin, vmax=vmax, cmap=cmap)\n",
    "    y_test_np.sithick.sel(time=date).plot(ax=axes[i, 1], vmin=vmin, vmax=vmax, cmap=cmap)\n",
    "    axes[i, 0].set_title(f'Sea Ice Thickness Model Prediction ({date})-mae', fontweight='bold')\n",
    "    axes[i, 1].set_title(f'Sea Ice Thickness Truth ({date})-mae', fontweight='bold')\n",
    "\n",
    "plt.tight_layout()\n",
    "plt.show()"
   ]
  },
  {
   "cell_type": "code",
   "execution_count": null,
   "id": "09fabeaa-3915-4456-b35d-2275e3941571",
   "metadata": {
    "ExecuteTime": {
     "start_time": "2023-12-19T06:29:07.069550900Z"
    },
    "collapsed": false,
    "jupyter": {
     "outputs_hidden": false
    }
   },
   "outputs": [],
   "source": [
    "# 2020 average\n",
    "vmin, vmax = 2, 4\n",
    "colors = [\"navy\", \"dodgerblue\",\"white\"]\n",
    "cmap = color.from_list(\"custom_cmap\", colors)\n",
    "\n",
    "# MSE\n",
    "fig, axes = plt.subplots(figsize=(16, 6), ncols=2, nrows=1)\n",
    "\n",
    "mse_2020_mean = y_test_mse_pre.sithick.sel(time=slice(\"2020-01-01\", \"2020-12-31\")).mean(dim='time')\n",
    "np_2020_mean = y_test_np.sithick.sel(time=slice(\"2020-01-01\", \"2020-12-31\")).mean(dim='time')\n",
    "\n",
    "mse_2020_mean.plot(ax=axes[0], vmin=vmin, vmax=vmax, cmap=cmap)\n",
    "np_2020_mean.plot(ax=axes[1], vmin=vmin, vmax=vmax, cmap=cmap)\n",
    "\n",
    "axes[0].set_title('Sea Ice Thickness Model Prediction (2020 Average)-mse', fontweight='bold')\n",
    "axes[1].set_title('Sea Ice Thickness Truth (2020 Average)', fontweight='bold')\n",
    "\n",
    "plt.tight_layout()\n",
    "plt.show()\n",
    "\n",
    "# MAE\n",
    "fig, axes = plt.subplots(figsize=(16, 6), ncols=2, nrows=1)\n",
    "\n",
    "mae_2020_mean = y_test_mae_pre.sithick.sel(time=slice(\"2020-01-01\", \"2020-12-31\")).mean(dim='time')\n",
    "np_2020_mean = y_test_np.sithick.sel(time=slice(\"2020-01-01\", \"2020-12-31\")).mean(dim='time')\n",
    "\n",
    "mae_2020_mean.plot(ax=axes[0], vmin=vmin, vmax=vmax, cmap=cmap)\n",
    "np_2020_mean.plot(ax=axes[1], vmin=vmin, vmax=vmax, cmap=cmap)\n",
    "\n",
    "axes[0].set_title('Sea Ice Thickness Model Prediction (2020 Average)-mae', fontweight='bold')\n",
    "axes[1].set_title('Sea Ice Thickness Truth (2020 Average)', fontweight='bold')\n",
    "\n",
    "plt.tight_layout()\n",
    "plt.show()"
   ]
  },
  {
   "cell_type": "code",
   "execution_count": null,
   "id": "37e8c91f-7906-4a5c-b2c8-b41e4daf131c",
   "metadata": {
    "ExecuteTime": {
     "start_time": "2023-12-19T06:29:07.069550900Z"
    },
    "collapsed": false,
    "jupyter": {
     "outputs_hidden": false
    }
   },
   "outputs": [],
   "source": []
  },
  {
   "cell_type": "code",
   "execution_count": null,
   "id": "02815d22-28c5-4d46-9f59-77340194c38e",
   "metadata": {
    "ExecuteTime": {
     "start_time": "2023-12-19T06:29:07.069550900Z"
    },
    "collapsed": false,
    "jupyter": {
     "outputs_hidden": false
    }
   },
   "outputs": [],
   "source": [
    "# with normalization specific date\n",
    "\n",
    "\n",
    "season = [\"2020-3-20\", \"2020-6-21\", \"2020-9-22\", \"2020-12-21\"]\n",
    "vmin, vmax = -3, 3\n",
    "colors = [\"navy\", \"dodgerblue\",\"white\"]\n",
    "cmap = color.from_list(\"custom_cmap\", colors)\n",
    "\n",
    "#mse\n",
    "fig, axes = plt.subplots(figsize=(15, 15), ncols=2, nrows=4)  \n",
    "for i, date in enumerate(season):\n",
    "    y_test_mse_pre_nor.sithick.sel(time=date).plot(ax=axes[i, 0], vmin=vmin, vmax=vmax, cmap=cmap)\n",
    "    y_test_np_nor.sithick.sel(time=date).plot(ax=axes[i, 1], vmin=vmin, vmax=vmax, cmap=cmap)\n",
    "    axes[i, 0].set_title(f'Sea Ice Thickness Model Prediction ({date})-mse', fontweight='bold')\n",
    "    axes[i, 1].set_title(f'Sea Ice Thickness Truth ({date})-mse', fontweight='bold')\n",
    "\n",
    "plt.tight_layout()\n",
    "plt.show()\n",
    "\n",
    "#mae\n",
    "fig, axes = plt.subplots(figsize=(8, 8), ncols=2, nrows=4)\n",
    "for i, date in enumerate(season):\n",
    "    y_test_mae_pre_nor.sithick.sel(time=date).plot(ax=axes[i, 0], vmin=vmin, vmax=vmax, cmap=cmap)\n",
    "    y_test_np_nor.sithick.sel(time=date).plot(ax=axes[i, 1], vmin=vmin, vmax=vmax, cmap=cmap)\n",
    "    axes[i, 0].set_title(f'Sea Ice Thickness Model Prediction ({date})-mae', fontweight='bold')\n",
    "    axes[i, 1].set_title(f'Sea Ice Thickness Truth ({date})-mae', fontweight='bold')\n",
    "\n",
    "plt.tight_layout()\n",
    "plt.show()"
   ]
  },
  {
   "cell_type": "code",
   "execution_count": null,
   "id": "405f39e4-9159-4f51-9614-993b40c79abf",
   "metadata": {
    "ExecuteTime": {
     "start_time": "2023-12-19T06:29:07.069550900Z"
    },
    "collapsed": false,
    "jupyter": {
     "outputs_hidden": false
    }
   },
   "outputs": [],
   "source": [
    "# with normalization 2020 average\n",
    "\n",
    "vmin, vmax = -3, 1\n",
    "colors = [\"navy\", \"dodgerblue\",\"white\"]\n",
    "cmap = color.from_list(\"custom_cmap\", colors)\n",
    "\n",
    "# MSE\n",
    "fig, axes = plt.subplots(figsize=(16, 6), ncols=2, nrows=1)\n",
    "\n",
    "mse_2020_mean = y_test_mse_pre_nor.sithick.sel(time=slice(\"2020-01-01\", \"2020-12-31\")).mean(dim='time')\n",
    "np_2020_mean = y_test_np_nor.sithick.sel(time=slice(\"2020-01-01\", \"2020-12-31\")).mean(dim='time')\n",
    "\n",
    "mse_2020_mean.plot(ax=axes[0], vmin=vmin, vmax=vmax, cmap=cmap)\n",
    "np_2020_mean.plot(ax=axes[1], vmin=vmin, vmax=vmax, cmap=cmap)\n",
    "axes[0].set_title('Sea Ice Thickness Model Prediction (2020 Average)-mse', fontweight='bold')\n",
    "axes[1].set_title('Sea Ice Thickness Truth (2020 Average)', fontweight='bold')\n",
    "\n",
    "plt.tight_layout()\n",
    "plt.show()\n",
    "\n",
    "# MAE\n",
    "fig, axes = plt.subplots(figsize=(16, 6), ncols=2, nrows=1)\n",
    "\n",
    "mae_2020_mean = y_test_mae_pre_nor.sithick.sel(time=slice(\"2020-01-01\", \"2020-12-31\")).mean(dim='time')\n",
    "np_2020_mean = y_test_np_nor.sithick.sel(time=slice(\"2020-01-01\", \"2020-12-31\")).mean(dim='time')\n",
    "\n",
    "mae_2020_mean.plot(ax=axes[0], vmin=vmin, vmax=vmax, cmap=cmap)\n",
    "np_2020_mean.plot(ax=axes[1], vmin=vmin, vmax=vmax, cmap=cmap)\n",
    "axes[0].set_title('Sea Ice Thickness Model Prediction (2020 Average)-mae', fontweight='bold')\n",
    "axes[1].set_title('Sea Ice Thickness Truth (2020 Average)', fontweight='bold')\n",
    "\n",
    "plt.tight_layout()\n",
    "plt.show()"
   ]
  },
  {
   "cell_type": "markdown",
   "id": "649252cc-345d-4966-8c09-ff22f750a7b5",
   "metadata": {},
   "source": [
    "##### CNN + keras tuner"
   ]
  },
  {
   "cell_type": "code",
   "execution_count": null,
   "id": "bdf6f03e-0868-41eb-8fd6-ab80ad2e5e6c",
   "metadata": {
    "ExecuteTime": {
     "start_time": "2023-12-19T06:29:07.070558100Z"
    },
    "tags": []
   },
   "outputs": [],
   "source": [
    "## reload the saved model\n",
    "model_best = load_model(os.path.join(model_path,'CNN_model_randomsearch_10trials_rank1.h5'))\n",
    "model_top2 = load_model(os.path.join(model_path,'CNN_model_randomsearch_10trials_rank2.h5'))\n"
   ]
  },
  {
   "cell_type": "code",
   "execution_count": null,
   "id": "de00ecab-12d7-47ea-8f43-d2db603ac67b",
   "metadata": {
    "ExecuteTime": {
     "start_time": "2023-12-19T06:29:07.072073700Z"
    },
    "tags": []
   },
   "outputs": [],
   "source": [
    "y_test_best_pre = model_best.predict(x_test_np)\n",
    "y_test_best_pre = y_test_best_pre.reshape(y_test_best_pre.shape[0], 5, 5)\n",
    "y_test_best_pre = xr.Dataset(coords={'time': x_test_xr.time.values, \n",
    "                                     'latitude': x_test_xr.latitude.values, \n",
    "                                     'longitude': x_test_xr.longitude.values},\n",
    "                             data_vars=dict(sithick=(['time', 'latitude', 'longitude'], y_test_best_pre)))\n",
    "# ---------- rank #2 tuning ----------\n",
    "y_test_top2_pre = model_top2.predict(x_test_np)\n",
    "y_test_top2_pre = y_test_top2_pre.reshape(y_test_top2_pre.shape[0], 5, 5)\n",
    "y_test_top2_pre = xr.Dataset(coords={'time': x_test_xr.time.values, \n",
    "                                     'latitude': x_test_xr.latitude.values, \n",
    "                                     'longitude': x_test_xr.longitude.values},\n",
    "                             data_vars=dict(sithick=(['time', 'latitude', 'longitude'], y_test_top2_pre)))\n"
   ]
  },
  {
   "cell_type": "code",
   "execution_count": null,
   "id": "4ff31613-c968-4ab4-ac4a-b287c49f19eb",
   "metadata": {
    "tags": []
   },
   "outputs": [],
   "source": [
    "y_test_best_pre = xr.Dataset(coords={'time': y_test_best_pre.time.values, \n",
    "                                     'latitude': y_test_best_pre.latitude.values, \n",
    "                                     'longitude': y_test_best_pre.longitude.values},\n",
    "                             data_vars=dict(sithick=(['time', 'latitude', 'longitude'], y_test_best_pre)))\n",
    "y_test_top2_pre = xr.Dataset(coords={'time': y_test_top2_pre.time.values, \n",
    "                                     'latitude':y_test_top2_pre.latitude.values, \n",
    "                                     'longitude': y_test_top2_pre.longitude.values},\n",
    "                             data_vars=dict(sithick=(['time', 'latitude', 'longitude'], y_test_top2_pre)))"
   ]
  },
  {
   "cell_type": "code",
   "execution_count": null,
   "id": "e218b577-d9ca-4ed5-a302-2d572b162022",
   "metadata": {
    "tags": []
   },
   "outputs": [],
   "source": [
    "print(y_test_best_pre)\n",
    "lat = 83.25\n",
    "lon = -57.75\n",
    "#best\n",
    "fig, ax = plt.subplots(figsize=(9, 4))\n",
    "y_test_np.sel(latitude=lat, longitude=lon, method='nearest')[\"sithick\"].plot(ax=ax, label='Truth')\n",
    "y_test_best_pre.sel(latitude=lat, longitude=lon, method='nearest')[\"sithick\"].plot(ax=ax, label='Prediction-best')\n",
    "\n",
    "ax.legend()\n",
    "ax.set_ylabel('Sea ice thickness-mse (m)') \n",
    "\n",
    "plt.tight_layout()\n",
    "plt.show()\n",
    "#top2\n",
    "fig, ax = plt.subplots(figsize=(9, 4))\n",
    "y_test_np.sel(latitude=lat, longitude=lon, method='nearest')[\"sithick\"].plot(ax=ax, label='Truth')\n",
    "y_test_top2_pre.sel(latitude=lat, longitude=lon, method='nearest')[\"sithick\"].plot(ax=ax, label='Prediction-top2')\n",
    "\n",
    "ax.legend()\n",
    "ax.set_ylabel('Sea ice thickness (m)') \n",
    "\n",
    "plt.tight_layout()\n",
    "plt.show()"
   ]
  },
  {
   "cell_type": "code",
   "execution_count": null,
   "id": "96eb8280-6df5-41e1-9acd-c9a370441e2e",
   "metadata": {
    "tags": []
   },
   "outputs": [],
   "source": [
    "def global_mean_std_plot(X, label, color, ax, var='sithick'):\n",
    "    weights = np.cos(np.deg2rad(X.latitude))\n",
    "    sithick_mean = X[var].weighted(weights).mean(['latitude', 'longitude']).data\n",
    "    sithick_std = X[var].weighted(weights).std(['latitude', 'longitude']).data\n",
    "    \n",
    "    x = X.time.data\n",
    "\n",
    "    ax.plot(x, sithick_mean, label=label, color=color, linewidth=2)\n",
    "    ax.fill_between(x, sithick_mean+sithick_std, sithick_mean-sithick_std, facecolor=color, alpha=0.2)\n",
    "fig,ax = plt.subplots(figsize=(9,4))\n",
    "#mse\n",
    "global_mean_std_plot(y_test_np,label='Truth',ax=ax,color='tab:blue')\n",
    "global_mean_std_plot(y_test_best_pre,label='Prediction-best',ax=ax,color='tab:orange')\n",
    "\n",
    "ax.set_xlabel('time')\n",
    "ax.set_ylabel('Sea Ice Thickness (m)')\n",
    "ax.legend()\n",
    "plt.tight_layout()\n",
    "\n",
    "fig,ax = plt.subplots(figsize=(9,4))\n",
    "#mae\n",
    "global_mean_std_plot(y_test_np,label='Truth',ax=ax,color='tab:blue')\n",
    "global_mean_std_plot(y_test_top2_pre,label='Prediction-top2',ax=ax,color='tab:orange')\n",
    "\n",
    "ax.set_xlabel('time')\n",
    "ax.set_ylabel('Sea Ice Thickness (m)')\n",
    "ax.legend()\n",
    "plt.tight_layout()"
   ]
  },
  {
   "cell_type": "code",
   "execution_count": null,
   "id": "be8337b6-66c8-469b-9baa-ec84569fda7a",
   "metadata": {
    "tags": []
   },
   "outputs": [],
   "source": [
    "meanstd_outputs = {}\n",
    "outputs = [\"sithick\"]\n",
    "\n",
    "def normalize(data, var, meanstd_dict):\n",
    "    mean = meanstd_dict[var][0]\n",
    "    std = meanstd_dict[var][1]\n",
    "    normalized_data = (data - mean) / std\n",
    "    return normalized_data\n",
    "\n",
    "for var in outputs:  \n",
    "    meanstd_outputs[var] = (y_test_np[var].data.mean(), y_test_np[var].data.std())"
   ]
  },
  {
   "cell_type": "code",
   "execution_count": null,
   "id": "9a1049ea-f525-4218-93aa-cc4b2735d9bd",
   "metadata": {
    "tags": []
   },
   "outputs": [],
   "source": [
    "print(y_test_best_pre)"
   ]
  },
  {
   "cell_type": "code",
   "execution_count": null,
   "id": "a33c46d4-69a6-4d04-b584-4340b077ae52",
   "metadata": {
    "tags": []
   },
   "outputs": [],
   "source": [
    "for var in outputs:  \n",
    "    \n",
    "    print(f\"Working on variable: {var}\")\n",
    "    print(\"Contents of meanstd_outputs dictionary:\", meanstd_outputs)\n",
    "    \n",
    "    # Normalize the pre data\n",
    "    var_dims = y_test_best_pre.dims\n",
    "    y_test_best_pre_nor = y_test_best_pre.assign({var: (var_dims, normalize(y_test_best_pre[var].data, var, meanstd_outputs))})\n",
    "    var_dims = y_test_top2_pre.dims\n",
    "    y_test_top2_pre_nor = y_test_top2_pre.assign({var: (var_dims, normalize(y_test_top2_pre[var].data, var, meanstd_outputs))})"
   ]
  },
  {
   "cell_type": "code",
   "execution_count": null,
   "id": "224bf6e3-2d06-4615-8d93-e8f5d938d16c",
   "metadata": {
    "tags": []
   },
   "outputs": [],
   "source": [
    "# specific date\n",
    "from matplotlib.colors import LinearSegmentedColormap as color\n",
    "\n",
    "season = [\"2020-3-20\", \"2020-6-21\", \"2020-9-22\", \"2020-12-21\"]\n",
    "vmin, vmax = -2, 5\n",
    "colors = [\"navy\", \"dodgerblue\",\"white\"]\n",
    "cmap = color.from_list(\"custom_cmap\", colors)\n",
    "\n",
    "#best\n",
    "fig, axes = plt.subplots(figsize=(15, 15), ncols=2, nrows=4)  \n",
    "for i, date in enumerate(season):\n",
    "    y_test_best_pre.sithick.sel(time=date).plot(ax=axes[i, 0], vmin=vmin, vmax=vmax, cmap=cmap)\n",
    "    y_test_np.sithick.sel(time=date).plot(ax=axes[i, 1], vmin=vmin, vmax=vmax, cmap=cmap)\n",
    "    axes[i, 0].set_title(f'Sea Ice Thickness Model Prediction ({date})-best', fontweight='bold')\n",
    "    axes[i, 1].set_title(f'Sea Ice Thickness Truth ({date})', fontweight='bold')\n",
    "\n",
    "plt.tight_layout()\n",
    "plt.show()\n",
    "\n",
    "#top2\n",
    "fig, axes = plt.subplots(figsize=(8, 8), ncols=2, nrows=4)\n",
    "for i, date in enumerate(season):\n",
    "    y_test_top2_pre.sithick.sel(time=date).plot(ax=axes[i, 0], vmin=vmin, vmax=vmax, cmap=cmap)\n",
    "    y_test_np.sithick.sel(time=date).plot(ax=axes[i, 1], vmin=vmin, vmax=vmax, cmap=cmap)\n",
    "    axes[i, 0].set_title(f'Sea Ice Thickness Model Prediction ({date})-top2', fontweight='bold')\n",
    "    axes[i, 1].set_title(f'Sea Ice Thickness Truth ({date})-top2', fontweight='bold')\n",
    "\n",
    "plt.tight_layout()\n",
    "plt.show()"
   ]
  },
  {
   "cell_type": "code",
   "execution_count": null,
   "id": "33edf2ad-6546-4677-a680-eb4aab43e6bd",
   "metadata": {
    "tags": []
   },
   "outputs": [],
   "source": [
    "# 2020 average\n",
    "vmin, vmax = 2, 4\n",
    "colors = [\"navy\", \"dodgerblue\",\"white\"]\n",
    "cmap = color.from_list(\"custom_cmap\", colors)\n",
    "\n",
    "# MSE\n",
    "fig, axes = plt.subplots(figsize=(16, 6), ncols=2, nrows=1)\n",
    "\n",
    "best_2020_mean = y_test_best_pre.sithick.sel(time=slice(\"2020-01-01\", \"2020-12-31\")).mean(dim='time')\n",
    "np_2020_mean = y_test_np.sithick.sel(time=slice(\"2020-01-01\", \"2020-12-31\")).mean(dim='time')\n",
    "\n",
    "best_2020_mean.plot(ax=axes[0], vmin=vmin, vmax=vmax, cmap=cmap)\n",
    "np_2020_mean.plot(ax=axes[1], vmin=vmin, vmax=vmax, cmap=cmap)\n",
    "\n",
    "axes[0].set_title('Sea Ice Thickness Model Prediction (2020 Average)-best', fontweight='bold')\n",
    "axes[1].set_title('Sea Ice Thickness Truth (2020 Average)', fontweight='bold')\n",
    "\n",
    "plt.tight_layout()\n",
    "plt.show()\n",
    "\n",
    "# MAE\n",
    "fig, axes = plt.subplots(figsize=(16, 6), ncols=2, nrows=1)\n",
    "\n",
    "top2_2020_mean = y_test_top2_pre.sithick.sel(time=slice(\"2020-01-01\", \"2020-12-31\")).mean(dim='time')\n",
    "np_2020_mean = y_test_np.sithick.sel(time=slice(\"2020-01-01\", \"2020-12-31\")).mean(dim='time')\n",
    "\n",
    "top2_2020_mean.plot(ax=axes[0], vmin=vmin, vmax=vmax, cmap=cmap)\n",
    "np_2020_mean.plot(ax=axes[1], vmin=vmin, vmax=vmax, cmap=cmap)\n",
    "\n",
    "axes[0].set_title('Sea Ice Thickness Model Prediction (2020 Average)-top2', fontweight='bold')\n",
    "axes[1].set_title('Sea Ice Thickness Truth (2020 Average)', fontweight='bold')\n",
    "\n",
    "plt.tight_layout()\n",
    "plt.show()"
   ]
  },
  {
   "cell_type": "code",
   "execution_count": null,
   "id": "f1bafc24-3511-4cfc-9319-c137d439e2f9",
   "metadata": {
    "tags": []
   },
   "outputs": [],
   "source": [
    "# with normalization specific date\n",
    "\n",
    "season = [\"2020-3-20\", \"2020-6-21\", \"2020-9-22\", \"2020-12-21\"]\n",
    "vmin, vmax = -3, 3\n",
    "colors = [\"navy\", \"dodgerblue\",\"white\"]\n",
    "cmap = color.from_list(\"custom_cmap\", colors)\n",
    "\n",
    "#best\n",
    "fig, axes = plt.subplots(figsize=(15, 15), ncols=2, nrows=4)  \n",
    "for i, date in enumerate(season):\n",
    "    y_test_best_pre_nor.sithick.sel(time=date).plot(ax=axes[i, 0], vmin=vmin, vmax=vmax, cmap=cmap)\n",
    "    y_test_np_nor.sithick.sel(time=date).plot(ax=axes[i, 1], vmin=vmin, vmax=vmax, cmap=cmap)\n",
    "    axes[i, 0].set_title(f'Sea Ice Thickness Model Prediction ({date})-best', fontweight='bold')\n",
    "    axes[i, 1].set_title(f'Sea Ice Thickness Truth ({date})', fontweight='bold')\n",
    "\n",
    "plt.tight_layout()\n",
    "plt.show()\n",
    "\n",
    "#top2\n",
    "fig, axes = plt.subplots(figsize=(8, 8), ncols=2, nrows=4)\n",
    "for i, date in enumerate(season):\n",
    "    y_test_top2_pre_nor.sithick.sel(time=date).plot(ax=axes[i, 0], vmin=vmin, vmax=vmax, cmap=cmap)\n",
    "    y_test_np_nor.sithick.sel(time=date).plot(ax=axes[i, 1], vmin=vmin, vmax=vmax, cmap=cmap)\n",
    "    axes[i, 0].set_title(f'Sea Ice Thickness Model Prediction ({date})-top2', fontweight='bold')\n",
    "    axes[i, 1].set_title(f'Sea Ice Thickness Truth ({date})', fontweight='bold')\n",
    "\n",
    "plt.tight_layout()\n",
    "plt.show()"
   ]
  },
  {
   "cell_type": "code",
   "execution_count": null,
   "id": "b3b3012a-552c-4772-8dd0-5ff47ff72fb6",
   "metadata": {
    "tags": []
   },
   "outputs": [],
   "source": [
    "# with normalization 2020 average\n",
    "\n",
    "vmin, vmax = -3, 1\n",
    "colors = [\"navy\", \"dodgerblue\",\"white\"]\n",
    "cmap = color.from_list(\"custom_cmap\", colors)\n",
    "\n",
    "# best\n",
    "fig, axes = plt.subplots(figsize=(16, 6), ncols=2, nrows=1)\n",
    "\n",
    "best_2020_mean = y_test_best_pre_nor.sithick.sel(time=slice(\"2020-01-01\", \"2020-12-31\")).mean(dim='time')\n",
    "np_2020_mean = y_test_np_nor.sithick.sel(time=slice(\"2020-01-01\", \"2020-12-31\")).mean(dim='time')\n",
    "\n",
    "best_2020_mean.plot(ax=axes[0], vmin=vmin, vmax=vmax, cmap=cmap)\n",
    "np_2020_mean.plot(ax=axes[1], vmin=vmin, vmax=vmax, cmap=cmap)\n",
    "axes[0].set_title('Sea Ice Thickness Model Prediction (2020 Average)-best', fontweight='bold')\n",
    "axes[1].set_title('Sea Ice Thickness Truth (2020 Average)', fontweight='bold')\n",
    "\n",
    "plt.tight_layout()\n",
    "plt.show()\n",
    "\n",
    "# top2\n",
    "fig, axes = plt.subplots(figsize=(16, 6), ncols=2, nrows=1)\n",
    "\n",
    "top2_2020_mean = y_test_top2_pre_nor.sithick.sel(time=slice(\"2020-01-01\", \"2020-12-31\")).mean(dim='time')\n",
    "np_2020_mean = y_test_np_nor.sithick.sel(time=slice(\"2020-01-01\", \"2020-12-31\")).mean(dim='time')\n",
    "\n",
    "top2_2020_mean.plot(ax=axes[0], vmin=vmin, vmax=vmax, cmap=cmap)\n",
    "np_2020_mean.plot(ax=axes[1], vmin=vmin, vmax=vmax, cmap=cmap)\n",
    "axes[0].set_title('Sea Ice Thickness Model Prediction (2020 Average)-top2', fontweight='bold')\n",
    "axes[1].set_title('Sea Ice Thickness Truth (2020 Average)', fontweight='bold')\n",
    "\n",
    "plt.tight_layout()\n",
    "plt.show()"
   ]
  },
  {
   "cell_type": "markdown",
   "id": "6b9f013c-4665-4bcd-b0e6-c1588c4f3e50",
   "metadata": {
    "tags": []
   },
   "source": [
    "##### LSTM + keras tuner"
   ]
  },
  {
   "cell_type": "code",
   "execution_count": null,
   "id": "364bf472-9e74-45e1-9a3a-464d6f9c50c2",
   "metadata": {
    "ExecuteTime": {
     "start_time": "2023-12-19T06:29:07.072073700Z"
    },
    "scrolled": true,
    "tags": []
   },
   "outputs": [],
   "source": [
    "## reload the saved model\n",
    "model_best = load_model(os.path.join(model_path,'LSTM_model_randomsearch_12trials_rank1.h5'))\n",
    "model_top2 = load_model(os.path.join(model_path,'LSTM_model_randomsearch_12trials_rank2.h5'))\n"
   ]
  },
  {
   "cell_type": "code",
   "execution_count": null,
   "id": "0f299fdc-4b34-4bd8-bde2-1b236db441b0",
   "metadata": {
    "ExecuteTime": {
     "start_time": "2023-12-19T06:29:07.073092700Z"
    },
    "tags": []
   },
   "outputs": [],
   "source": [
    "y_test_best_pre = model_best.predict(x_test_slider)\n",
    "y_test_best_pre = y_test_best_pre.reshape(y_test_best_pre.shape[0], 5, 5)\n",
    "y_test_best_pre = xr.Dataset(coords={'time': x_test_xr.time.values[slider-1:], \n",
    "                                     'latitude': x_test_xr.latitude.values, \n",
    "                                     'longitude': x_test_xr.longitude.values},\n",
    "                             data_vars=dict(sithick=(['time', 'latitude', 'longitude'], y_test_best_pre)))\n",
    "# ---------- rank #2 tuning ----------\n",
    "y_test_top2_pre = model_top2.predict(x_test_slider)\n",
    "y_test_top2_pre = y_test_top2_pre.reshape(y_test_top2_pre.shape[0], 5, 5)\n",
    "y_test_top2_pre = xr.Dataset(coords={'time': x_test_xr.time.values[slider-1:], \n",
    "                                     'latitude': x_test_xr.latitude.values, \n",
    "                                     'longitude': x_test_xr.longitude.values},\n",
    "                             data_vars=dict(sithick=(['time', 'latitude', 'longitude'], y_test_top2_pre)))"
   ]
  },
  {
   "cell_type": "code",
   "execution_count": null,
   "id": "e68ea404-ed99-4597-815e-908cc992494a",
   "metadata": {
    "ExecuteTime": {
     "start_time": "2023-12-19T06:29:07.073616500Z"
    }
   },
   "outputs": [],
   "source": [
    "graph"
   ]
  },
  {
   "cell_type": "code",
   "execution_count": null,
   "id": "63fe8a2b-65ab-4851-8ab9-e596dad6b63d",
   "metadata": {},
   "outputs": [],
   "source": [
    "print(y_test_best_pre)\n",
    "lat = 83.25\n",
    "lon = -57.75\n",
    "#best\n",
    "fig, ax = plt.subplots(figsize=(9, 4))\n",
    "y_test_np.sel(latitude=lat, longitude=lon, method='nearest')[\"sithick\"].plot(ax=ax, label='Truth')\n",
    "y_test_best_pre.sel(latitude=lat, longitude=lon, method='nearest')[\"sithick\"].plot(ax=ax, label='Prediction-best')\n",
    "\n",
    "ax.legend()\n",
    "ax.set_ylabel('Sea ice thickness-mse (m)') \n",
    "\n",
    "plt.tight_layout()\n",
    "plt.show()\n",
    "#top2\n",
    "fig, ax = plt.subplots(figsize=(9, 4))\n",
    "y_test_np.sel(latitude=lat, longitude=lon, method='nearest')[\"sithick\"].plot(ax=ax, label='Truth')\n",
    "y_test_top2_pre.sel(latitude=lat, longitude=lon, method='nearest')[\"sithick\"].plot(ax=ax, label='Prediction-top2')\n",
    "\n",
    "ax.legend()\n",
    "ax.set_ylabel('Sea ice thickness (m)') \n",
    "\n",
    "plt.tight_layout()\n",
    "plt.show()"
   ]
  },
  {
   "cell_type": "code",
   "execution_count": null,
   "id": "dd4a7f9c-190f-48ee-8418-72f6df4eb029",
   "metadata": {},
   "outputs": [],
   "source": [
    "def global_mean_std_plot(X, label, color, ax, var='sithick'):\n",
    "    weights = np.cos(np.deg2rad(X.latitude))\n",
    "    sithick_mean = X[var].weighted(weights).mean(['latitude', 'longitude']).data\n",
    "    sithick_std = X[var].weighted(weights).std(['latitude', 'longitude']).data\n",
    "    \n",
    "    x = X.time.data\n",
    "\n",
    "    ax.plot(x, sithick_mean, label=label, color=color, linewidth=2)\n",
    "    ax.fill_between(x, sithick_mean+sithick_std, sithick_mean-sithick_std, facecolor=color, alpha=0.2)\n",
    "fig,ax = plt.subplots(figsize=(9,4))\n",
    "#mse\n",
    "global_mean_std_plot(y_test_np,label='Truth',ax=ax,color='tab:blue')\n",
    "global_mean_std_plot(y_test_best_pre,label='Prediction-best',ax=ax,color='tab:orange')\n",
    "\n",
    "ax.set_xlabel('time')\n",
    "ax.set_ylabel('Sea Ice Thickness (m)')\n",
    "ax.legend()\n",
    "plt.tight_layout()\n",
    "\n",
    "fig,ax = plt.subplots(figsize=(9,4))\n",
    "#mae\n",
    "global_mean_std_plot(y_test_np,label='Truth',ax=ax,color='tab:blue')\n",
    "global_mean_std_plot(y_test_top2_pre,label='Prediction-top2',ax=ax,color='tab:orange')\n",
    "\n",
    "ax.set_xlabel('time')\n",
    "ax.set_ylabel('Sea Ice Thickness (m)')\n",
    "ax.legend()\n",
    "plt.tight_layout()"
   ]
  },
  {
   "cell_type": "code",
   "execution_count": null,
   "id": "7e8257db-6baa-4626-88a4-b677b5b090ec",
   "metadata": {
    "tags": []
   },
   "outputs": [],
   "source": [
    "meanstd_outputs = {}\n",
    "outputs = [\"sithick\"]\n",
    "\n",
    "def normalize(data, var, meanstd_dict):\n",
    "    mean = meanstd_dict[var][0]\n",
    "    std = meanstd_dict[var][1]\n",
    "    normalized_data = (data - mean) / std\n",
    "    return normalized_data\n",
    "\n",
    "for var in outputs:  \n",
    "    meanstd_outputs[var] = (y_test_np[var].data.mean(), y_test_np[var].data.std())\n",
    "\n",
    "for var in outputs:  \n",
    "\n",
    "    print(f\"Working on variable: {var}\")\n",
    "    print(\"Contents of meanstd_outputs dictionary:\", meanstd_outputs)\n",
    "\n",
    "    # Normalize the pre data\n",
    "    var_dims = y_test_best_pre.dims\n",
    "    y_test_best_pre_nor = y_test_best_pre.assign({var: (var_dims, normalize(y_test_best_pre[var].data, var, meanstd_outputs))})\n",
    "    var_dims = y_test_top2_pre.dims\n",
    "    y_test_top2_pre_nor = y_test_top2_pre.assign({var: (var_dims, normalize(y_test_top2_pre[var].data, var, meanstd_outputs))})"
   ]
  },
  {
   "cell_type": "code",
   "execution_count": null,
   "id": "a1bcaa68-1d09-4677-980a-67e94385939d",
   "metadata": {
    "tags": []
   },
   "outputs": [],
   "source": [
    "# specific date\n",
    "from matplotlib.colors import LinearSegmentedColormap as color\n",
    "\n",
    "season = [\"2020-3-20\", \"2020-6-21\", \"2020-9-22\", \"2020-12-21\"]\n",
    "vmin, vmax = -0, 5\n",
    "colors = [\"navy\", \"dodgerblue\",\"white\"]\n",
    "cmap = color.from_list(\"custom_cmap\", colors)\n",
    "\n",
    "#best\n",
    "fig, axes = plt.subplots(figsize=(15, 15), ncols=2, nrows=4)  \n",
    "for i, date in enumerate(season):\n",
    "    y_test_best_pre.sithick.sel(time=date).plot(ax=axes[i, 0], vmin=vmin, vmax=vmax, cmap=cmap)\n",
    "    y_test_np.sithick.sel(time=date).plot(ax=axes[i, 1], vmin=vmin, vmax=vmax, cmap=cmap)\n",
    "    axes[i, 0].set_title(f'Sea Ice Thickness Model Prediction ({date})-best', fontweight='bold')\n",
    "    axes[i, 1].set_title(f'Sea Ice Thickness Truth ({date})', fontweight='bold')\n",
    "\n",
    "plt.tight_layout()\n",
    "plt.show()\n",
    "\n",
    "#top2\n",
    "fig, axes = plt.subplots(figsize=(8, 8), ncols=2, nrows=4)\n",
    "for i, date in enumerate(season):\n",
    "    y_test_top2_pre.sithick.sel(time=date).plot(ax=axes[i, 0], vmin=vmin, vmax=vmax, cmap=cmap)\n",
    "    y_test_np.sithick.sel(time=date).plot(ax=axes[i, 1], vmin=vmin, vmax=vmax, cmap=cmap)\n",
    "    axes[i, 0].set_title(f'Sea Ice Thickness Model Prediction ({date})-top2', fontweight='bold')\n",
    "    axes[i, 1].set_title(f'Sea Ice Thickness Truth ({date})-top2', fontweight='bold')\n",
    "\n",
    "plt.tight_layout()\n",
    "plt.show()"
   ]
  },
  {
   "cell_type": "code",
   "execution_count": null,
   "id": "c4846da3-afc4-43ea-937a-764de0aee3e2",
   "metadata": {
    "tags": []
   },
   "outputs": [],
   "source": [
    "# 2020 average\n",
    "vmin, vmax = 2, 4\n",
    "colors = [\"navy\", \"dodgerblue\",\"white\"]\n",
    "cmap = color.from_list(\"custom_cmap\", colors)\n",
    "\n",
    "# MSE\n",
    "fig, axes = plt.subplots(figsize=(16, 6), ncols=2, nrows=1)\n",
    "\n",
    "best_2020_mean = y_test_best_pre.sithick.sel(time=slice(\"2020-01-01\", \"2020-12-31\")).mean(dim='time')\n",
    "np_2020_mean = y_test_np.sithick.sel(time=slice(\"2020-01-01\", \"2020-12-31\")).mean(dim='time')\n",
    "\n",
    "best_2020_mean.plot(ax=axes[0], vmin=vmin, vmax=vmax, cmap=cmap)\n",
    "np_2020_mean.plot(ax=axes[1], vmin=vmin, vmax=vmax, cmap=cmap)\n",
    "\n",
    "axes[0].set_title('Sea Ice Thickness Model Prediction (2020 Average)-best', fontweight='bold')\n",
    "axes[1].set_title('Sea Ice Thickness Truth (2020 Average)', fontweight='bold')\n",
    "\n",
    "plt.tight_layout()\n",
    "plt.show()\n",
    "\n",
    "# MAE\n",
    "fig, axes = plt.subplots(figsize=(16, 6), ncols=2, nrows=1)\n",
    "\n",
    "top2_2020_mean = y_test_top2_pre.sithick.sel(time=slice(\"2020-01-01\", \"2020-12-31\")).mean(dim='time')\n",
    "np_2020_mean = y_test_np.sithick.sel(time=slice(\"2020-01-01\", \"2020-12-31\")).mean(dim='time')\n",
    "\n",
    "top2_2020_mean.plot(ax=axes[0], vmin=vmin, vmax=vmax, cmap=cmap)\n",
    "np_2020_mean.plot(ax=axes[1], vmin=vmin, vmax=vmax, cmap=cmap)\n",
    "\n",
    "axes[0].set_title('Sea Ice Thickness Model Prediction (2020 Average)-top2', fontweight='bold')\n",
    "axes[1].set_title('Sea Ice Thickness Truth (2020 Average)', fontweight='bold')\n",
    "\n",
    "plt.tight_layout()\n",
    "plt.show()"
   ]
  },
  {
   "cell_type": "code",
   "execution_count": null,
   "id": "9d144c30-50b2-49cb-9e75-ce18f25ae8d8",
   "metadata": {
    "tags": []
   },
   "outputs": [],
   "source": [
    "# with normalization specific date\n",
    "\n",
    "season = [\"2020-3-20\", \"2020-6-21\", \"2020-9-22\", \"2020-12-21\"]\n",
    "vmin, vmax = -3, 3\n",
    "colors = [\"navy\", \"dodgerblue\",\"white\"]\n",
    "cmap = color.from_list(\"custom_cmap\", colors)\n",
    "\n",
    "#best\n",
    "fig, axes = plt.subplots(figsize=(15, 15), ncols=2, nrows=4)  \n",
    "for i, date in enumerate(season):\n",
    "    y_test_best_pre_nor.sithick.sel(time=date).plot(ax=axes[i, 0], vmin=vmin, vmax=vmax, cmap=cmap)\n",
    "    y_test_np_nor.sithick.sel(time=date).plot(ax=axes[i, 1], vmin=vmin, vmax=vmax, cmap=cmap)\n",
    "    axes[i, 0].set_title(f'Sea Ice Thickness Model Prediction ({date})-best', fontweight='bold')\n",
    "    axes[i, 1].set_title(f'Sea Ice Thickness Truth ({date})', fontweight='bold')\n",
    "\n",
    "plt.tight_layout()\n",
    "plt.show()\n",
    "\n",
    "#top2\n",
    "fig, axes = plt.subplots(figsize=(8, 8), ncols=2, nrows=4)\n",
    "for i, date in enumerate(season):\n",
    "    y_test_top2_pre_nor.sithick.sel(time=date).plot(ax=axes[i, 0], vmin=vmin, vmax=vmax, cmap=cmap)\n",
    "    y_test_np_nor.sithick.sel(time=date).plot(ax=axes[i, 1], vmin=vmin, vmax=vmax, cmap=cmap)\n",
    "    axes[i, 0].set_title(f'Sea Ice Thickness Model Prediction ({date})-top2', fontweight='bold')\n",
    "    axes[i, 1].set_title(f'Sea Ice Thickness Truth ({date})', fontweight='bold')\n",
    "\n",
    "plt.tight_layout()\n",
    "plt.show()"
   ]
  },
  {
   "cell_type": "code",
   "execution_count": null,
   "id": "cb205384-54a5-438f-967a-e05cacb1a678",
   "metadata": {
    "tags": []
   },
   "outputs": [],
   "source": [
    "# with normalization 2020 average\n",
    "\n",
    "vmin, vmax = -2, 2\n",
    "colors = [\"navy\", \"dodgerblue\",\"white\"]\n",
    "cmap = color.from_list(\"custom_cmap\", colors)\n",
    "\n",
    "# best\n",
    "fig, axes = plt.subplots(figsize=(16, 6), ncols=2, nrows=1)\n",
    "\n",
    "best_2020_mean = y_test_best_pre_nor.sithick.sel(time=slice(\"2020-01-01\", \"2020-12-31\")).mean(dim='time')\n",
    "np_2020_mean = y_test_np_nor.sithick.sel(time=slice(\"2020-01-01\", \"2020-12-31\")).mean(dim='time')\n",
    "\n",
    "best_2020_mean.plot(ax=axes[0], vmin=vmin, vmax=vmax, cmap=cmap)\n",
    "np_2020_mean.plot(ax=axes[1], vmin=vmin, vmax=vmax, cmap=cmap)\n",
    "axes[0].set_title('Sea Ice Thickness Model Prediction (2020 Average)-best', fontweight='bold')\n",
    "axes[1].set_title('Sea Ice Thickness Truth (2020 Average)', fontweight='bold')\n",
    "\n",
    "plt.tight_layout()\n",
    "plt.show()\n",
    "\n",
    "# top2\n",
    "fig, axes = plt.subplots(figsize=(16, 6), ncols=2, nrows=1)\n",
    "\n",
    "top2_2020_mean = y_test_top2_pre_nor.sithick.sel(time=slice(\"2020-01-01\", \"2020-12-31\")).mean(dim='time')\n",
    "np_2020_mean = y_test_np_nor.sithick.sel(time=slice(\"2020-01-01\", \"2020-12-31\")).mean(dim='time')\n",
    "\n",
    "top2_2020_mean.plot(ax=axes[0], vmin=vmin, vmax=vmax, cmap=cmap)\n",
    "np_2020_mean.plot(ax=axes[1], vmin=vmin, vmax=vmax, cmap=cmap)\n",
    "axes[0].set_title('Sea Ice Thickness Model Prediction (2020 Average)-top2', fontweight='bold')\n",
    "axes[1].set_title('Sea Ice Thickness Truth (2020 Average)', fontweight='bold')\n",
    "\n",
    "plt.tight_layout()\n",
    "plt.show()"
   ]
  },
  {
   "cell_type": "code",
   "execution_count": null,
   "id": "b54c6018-f2b1-457f-887b-b8e1dfc62cd5",
   "metadata": {},
   "outputs": [],
   "source": []
  }
 ],
 "metadata": {
  "kernelspec": {
   "display_name": "Python 3 (ipykernel)",
   "language": "python",
   "name": "python3"
  },
  "language_info": {
   "codemirror_mode": {
    "name": "ipython",
    "version": 3
   },
   "file_extension": ".py",
   "mimetype": "text/x-python",
   "name": "python",
   "nbconvert_exporter": "python",
   "pygments_lexer": "ipython3",
   "version": "3.10.12"
  }
 },
 "nbformat": 4,
 "nbformat_minor": 5
}
